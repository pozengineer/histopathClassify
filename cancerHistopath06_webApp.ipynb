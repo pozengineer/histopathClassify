{
 "cells": [
  {
   "cell_type": "markdown",
   "id": "314918a4",
   "metadata": {},
   "source": [
    "## Capstone- Cancer Histopathology: Web App"
   ]
  },
  {
   "cell_type": "markdown",
   "id": "bd859a50",
   "metadata": {},
   "source": [
    "Dataset:\n",
    "- A. Borkowski, \"Lung and Colon Cancer Histopathological Images\", Kaggle.com, 2020. [Online]. Available: https://www.kaggle.com/datasets/andrewmvd/lung-and-colon-cancer-histopathological-images. [Accessed: 30- Jul- 2022]."
   ]
  },
  {
   "cell_type": "markdown",
   "id": "23a85b27",
   "metadata": {},
   "source": [
    "Sources:\n",
    "- Borkowski AA, Bui MM, Thomas LB, Wilson CP, DeLand LA, Mastorides SM. Lung and Colon Cancer Histopathological Image Dataset (LC25000). arXiv:1912.12142v1 [eess.IV], 2019"
   ]
  },
  {
   "cell_type": "markdown",
   "id": "097655f0",
   "metadata": {},
   "source": [
    "Image Labels:\n",
    "- Lung benign tissue: 3\n",
    "- Lung adenocarcinoma: 2\n",
    "- Lung squamous cell carcinoma: 4\n",
    "- Colon adenocarcinoma: 0\n",
    "- Colon benign tissue: 1"
   ]
  },
  {
   "cell_type": "markdown",
   "id": "6fb75b02",
   "metadata": {},
   "source": [
    "### Import Libraries"
   ]
  },
  {
   "cell_type": "code",
   "execution_count": 1,
   "id": "6c2baf60",
   "metadata": {},
   "outputs": [],
   "source": [
    "## Import Libraries\n",
    "import numpy as np\n",
    "import pandas as pd\n",
    "from pathlib import Path\n",
    "import time\n",
    "import math\n",
    "\n",
    "# import keras\n",
    "from keras.models import Sequential\n",
    "from keras.layers import Dense\n",
    "from keras.layers import Conv2D\n",
    "from keras.layers import Flatten\n",
    "from keras.utils import to_categorical\n",
    "from tensorflow.keras import datasets, layers, models\n",
    "from sklearn.model_selection import train_test_split\n",
    "from sklearn.metrics import confusion_matrix\n",
    "import matplotlib.pyplot as plt\n",
    "\n",
    "import warnings\n",
    "warnings.filterwarnings('ignore')\n",
    "\n",
    "%matplotlib inline"
   ]
  },
  {
   "cell_type": "markdown",
   "id": "ebc9f416",
   "metadata": {},
   "source": [
    "### Load Data"
   ]
  },
  {
   "cell_type": "code",
   "execution_count": 2,
   "id": "0f972fb4",
   "metadata": {},
   "outputs": [],
   "source": [
    "import PIL\n",
    "from PIL import Image\n",
    "import glob\n",
    "import cv2\n",
    "import os, os.path\n",
    "from numpy import asarray\n",
    "\n",
    "import keras\n",
    "import tensorflow as tf\n",
    "from tensorflow.keras.preprocessing.image import load_img\n",
    "from tensorflow.keras.preprocessing.image import img_to_array\n",
    "from tensorflow.keras.preprocessing.image import array_to_img\n",
    "from sklearn.metrics import mean_squared_error\n",
    "from sklearn.model_selection import cross_val_score\n",
    "\n",
    "from IPython.display import display, HTML\n",
    "import pymongo\n",
    "from pymongo import MongoClient\n",
    "import io\n",
    "from bson.binary import Binary"
   ]
  },
  {
   "cell_type": "markdown",
   "id": "a84b67c8",
   "metadata": {},
   "source": [
    "### Data Preprocessing"
   ]
  },
  {
   "cell_type": "code",
   "execution_count": 3,
   "id": "0ca0675d",
   "metadata": {},
   "outputs": [
    {
     "name": "stdout",
     "output_type": "stream",
     "text": [
      "{'colon_aca': 0, 'colon_n': 1, 'lung_aca': 2, 'lung_n': 3, 'lung_scc': 4}\n",
      "['colon_aca', 'colon_n', 'lung_aca', 'lung_n', 'lung_scc']\n",
      "[0, 1, 2, 3, 4]\n"
     ]
    }
   ],
   "source": [
    "dataPath= \"./lung_colon_image_set/lung_image_sets\"\n",
    "categories= os.listdir(dataPath)\n",
    "labels= [i for i in range(len(categories))]\n",
    "# empty dictionary\n",
    "labelDict= dict(zip(categories, labels))\n",
    "\n",
    "print(labelDict)\n",
    "print(categories)\n",
    "print(labels)"
   ]
  },
  {
   "cell_type": "code",
   "execution_count": 4,
   "id": "9dacafde",
   "metadata": {
    "scrolled": true
   },
   "outputs": [],
   "source": [
    "# %%time\n",
    "# imgSize= 96\n",
    "# data= []\n",
    "# target= []\n",
    "# tupleArr= []\n",
    "# for category in categories:\n",
    "#     folderPath= os.path.join(dataPath, category)\n",
    "#     imgNames= os.listdir(folderPath)\n",
    "    \n",
    "#     for imgName in imgNames:\n",
    "#         imgPath= os.path.join(folderPath, imgName)\n",
    "#         img= cv2.imread(imgPath)\n",
    "    \n",
    "#         try:\n",
    "#             resized= cv2.resize(img, (imgSize, imgSize))\n",
    "#             data.append(resized)\n",
    "#             target.append(labelDict[category])\n",
    "#             tupleGrp= (resized, labelDict[category])\n",
    "#             tupleArr.append(tupleGrp)\n",
    "#         except Exception as e:\n",
    "#             print('Exception:', e)"
   ]
  },
  {
   "cell_type": "code",
   "execution_count": 5,
   "id": "9ccc3809",
   "metadata": {},
   "outputs": [],
   "source": [
    "# np.save('data.npy', data)\n",
    "# np.save('target.npy', target)\n",
    "# np.save('tupleData.npy', tupleArr)"
   ]
  },
  {
   "cell_type": "code",
   "execution_count": 50,
   "id": "7218a999",
   "metadata": {},
   "outputs": [],
   "source": [
    "imageArr= np.load('data.npy')\n",
    "targetArr= np.load('target.npy')\n",
    "tupleData= np.load('tupleData.npy', allow_pickle= True)"
   ]
  },
  {
   "cell_type": "code",
   "execution_count": 7,
   "id": "6b1446ec",
   "metadata": {},
   "outputs": [
    {
     "name": "stdout",
     "output_type": "stream",
     "text": [
      "Pillow Version: 9.1.0\n"
     ]
    }
   ],
   "source": [
    "# check Pillow version number\n",
    "print('Pillow Version:', PIL.__version__)"
   ]
  },
  {
   "cell_type": "code",
   "execution_count": 8,
   "id": "4d225120",
   "metadata": {
    "scrolled": true
   },
   "outputs": [],
   "source": [
    "# dfMergeData= pd.DataFrame(np.load('tupleData.npy', allow_pickle= True), columns=['imageVector', 'label'])\n",
    "# dfMergeData.head()"
   ]
  },
  {
   "cell_type": "code",
   "execution_count": 9,
   "id": "5bcece3b",
   "metadata": {},
   "outputs": [],
   "source": [
    "# %%time\n",
    "# dfData= dfMergeData.sample(frac=1).reset_index(drop= True)\n",
    "# dfData.sample(10)"
   ]
  },
  {
   "cell_type": "code",
   "execution_count": 10,
   "id": "e9706572",
   "metadata": {},
   "outputs": [],
   "source": [
    "# dfArr= []\n",
    "# for i in dfData.values:\n",
    "#     dfArr.append(i)"
   ]
  },
  {
   "cell_type": "code",
   "execution_count": 11,
   "id": "69582a82",
   "metadata": {},
   "outputs": [],
   "source": [
    "# np.save('shuffledData.npy', dfArr)"
   ]
  },
  {
   "cell_type": "code",
   "execution_count": 12,
   "id": "5f8fa7ba",
   "metadata": {},
   "outputs": [
    {
     "data": {
      "text/html": [
       "<div>\n",
       "<style scoped>\n",
       "    .dataframe tbody tr th:only-of-type {\n",
       "        vertical-align: middle;\n",
       "    }\n",
       "\n",
       "    .dataframe tbody tr th {\n",
       "        vertical-align: top;\n",
       "    }\n",
       "\n",
       "    .dataframe thead th {\n",
       "        text-align: right;\n",
       "    }\n",
       "</style>\n",
       "<table border=\"1\" class=\"dataframe\">\n",
       "  <thead>\n",
       "    <tr style=\"text-align: right;\">\n",
       "      <th></th>\n",
       "      <th>imageVector</th>\n",
       "      <th>label</th>\n",
       "    </tr>\n",
       "  </thead>\n",
       "  <tbody>\n",
       "    <tr>\n",
       "      <th>0</th>\n",
       "      <td>[[[213, 206, 219], [213, 206, 219], [210, 206,...</td>\n",
       "      <td>3</td>\n",
       "    </tr>\n",
       "    <tr>\n",
       "      <th>1</th>\n",
       "      <td>[[[207, 207, 213], [208, 208, 214], [208, 208,...</td>\n",
       "      <td>3</td>\n",
       "    </tr>\n",
       "    <tr>\n",
       "      <th>2</th>\n",
       "      <td>[[[187, 113, 176], [193, 109, 178], [200, 110,...</td>\n",
       "      <td>3</td>\n",
       "    </tr>\n",
       "    <tr>\n",
       "      <th>3</th>\n",
       "      <td>[[[203, 120, 168], [187, 84, 123], [224, 160, ...</td>\n",
       "      <td>1</td>\n",
       "    </tr>\n",
       "    <tr>\n",
       "      <th>4</th>\n",
       "      <td>[[[230, 199, 252], [238, 204, 251], [229, 190,...</td>\n",
       "      <td>0</td>\n",
       "    </tr>\n",
       "  </tbody>\n",
       "</table>\n",
       "</div>"
      ],
      "text/plain": [
       "                                         imageVector label\n",
       "0  [[[213, 206, 219], [213, 206, 219], [210, 206,...     3\n",
       "1  [[[207, 207, 213], [208, 208, 214], [208, 208,...     3\n",
       "2  [[[187, 113, 176], [193, 109, 178], [200, 110,...     3\n",
       "3  [[[203, 120, 168], [187, 84, 123], [224, 160, ...     1\n",
       "4  [[[230, 199, 252], [238, 204, 251], [229, 190,...     0"
      ]
     },
     "execution_count": 12,
     "metadata": {},
     "output_type": "execute_result"
    }
   ],
   "source": [
    "dfShuffledData= pd.DataFrame(np.load('shuffledData.npy', allow_pickle= True),\n",
    "                             columns=['imageVector', 'label'])\n",
    "dfShuffledData.head()"
   ]
  },
  {
   "cell_type": "code",
   "execution_count": 13,
   "id": "be39fae6",
   "metadata": {},
   "outputs": [
    {
     "data": {
      "text/plain": [
       "3    5000\n",
       "1    5000\n",
       "0    5000\n",
       "4    5000\n",
       "2    5000\n",
       "Name: label, dtype: int64"
      ]
     },
     "execution_count": 13,
     "metadata": {},
     "output_type": "execute_result"
    }
   ],
   "source": [
    "dfShuffledData['label'].value_counts()"
   ]
  },
  {
   "cell_type": "code",
   "execution_count": 14,
   "id": "0e58a541",
   "metadata": {},
   "outputs": [],
   "source": [
    "def normalizeImage(image):\n",
    "    imgVect= image/ 255.0\n",
    "    return imgVect"
   ]
  },
  {
   "cell_type": "code",
   "execution_count": 15,
   "id": "c2035806",
   "metadata": {},
   "outputs": [],
   "source": [
    "dfShuffledData['scaledImage']= dfShuffledData['imageVector'].apply(normalizeImage)"
   ]
  },
  {
   "cell_type": "code",
   "execution_count": 16,
   "id": "045636b5",
   "metadata": {},
   "outputs": [
    {
     "data": {
      "text/html": [
       "<div>\n",
       "<style scoped>\n",
       "    .dataframe tbody tr th:only-of-type {\n",
       "        vertical-align: middle;\n",
       "    }\n",
       "\n",
       "    .dataframe tbody tr th {\n",
       "        vertical-align: top;\n",
       "    }\n",
       "\n",
       "    .dataframe thead th {\n",
       "        text-align: right;\n",
       "    }\n",
       "</style>\n",
       "<table border=\"1\" class=\"dataframe\">\n",
       "  <thead>\n",
       "    <tr style=\"text-align: right;\">\n",
       "      <th></th>\n",
       "      <th>imageVector</th>\n",
       "      <th>label</th>\n",
       "      <th>scaledImage</th>\n",
       "    </tr>\n",
       "  </thead>\n",
       "  <tbody>\n",
       "    <tr>\n",
       "      <th>0</th>\n",
       "      <td>[[[213, 206, 219], [213, 206, 219], [210, 206,...</td>\n",
       "      <td>3</td>\n",
       "      <td>[[[0.8352941176470589, 0.807843137254902, 0.85...</td>\n",
       "    </tr>\n",
       "    <tr>\n",
       "      <th>1</th>\n",
       "      <td>[[[207, 207, 213], [208, 208, 214], [208, 208,...</td>\n",
       "      <td>3</td>\n",
       "      <td>[[[0.8117647058823529, 0.8117647058823529, 0.8...</td>\n",
       "    </tr>\n",
       "    <tr>\n",
       "      <th>2</th>\n",
       "      <td>[[[187, 113, 176], [193, 109, 178], [200, 110,...</td>\n",
       "      <td>3</td>\n",
       "      <td>[[[0.7333333333333333, 0.44313725490196076, 0....</td>\n",
       "    </tr>\n",
       "    <tr>\n",
       "      <th>3</th>\n",
       "      <td>[[[203, 120, 168], [187, 84, 123], [224, 160, ...</td>\n",
       "      <td>1</td>\n",
       "      <td>[[[0.796078431372549, 0.47058823529411764, 0.6...</td>\n",
       "    </tr>\n",
       "    <tr>\n",
       "      <th>4</th>\n",
       "      <td>[[[230, 199, 252], [238, 204, 251], [229, 190,...</td>\n",
       "      <td>0</td>\n",
       "      <td>[[[0.9019607843137255, 0.7803921568627451, 0.9...</td>\n",
       "    </tr>\n",
       "  </tbody>\n",
       "</table>\n",
       "</div>"
      ],
      "text/plain": [
       "                                         imageVector label  \\\n",
       "0  [[[213, 206, 219], [213, 206, 219], [210, 206,...     3   \n",
       "1  [[[207, 207, 213], [208, 208, 214], [208, 208,...     3   \n",
       "2  [[[187, 113, 176], [193, 109, 178], [200, 110,...     3   \n",
       "3  [[[203, 120, 168], [187, 84, 123], [224, 160, ...     1   \n",
       "4  [[[230, 199, 252], [238, 204, 251], [229, 190,...     0   \n",
       "\n",
       "                                         scaledImage  \n",
       "0  [[[0.8352941176470589, 0.807843137254902, 0.85...  \n",
       "1  [[[0.8117647058823529, 0.8117647058823529, 0.8...  \n",
       "2  [[[0.7333333333333333, 0.44313725490196076, 0....  \n",
       "3  [[[0.796078431372549, 0.47058823529411764, 0.6...  \n",
       "4  [[[0.9019607843137255, 0.7803921568627451, 0.9...  "
      ]
     },
     "execution_count": 16,
     "metadata": {},
     "output_type": "execute_result"
    }
   ],
   "source": [
    "dfShuffledData.head()"
   ]
  },
  {
   "cell_type": "code",
   "execution_count": 17,
   "id": "25077105",
   "metadata": {},
   "outputs": [
    {
     "name": "stdout",
     "output_type": "stream",
     "text": [
      "CPU times: total: 234 ms\n",
      "Wall time: 236 ms\n"
     ]
    },
    {
     "data": {
      "text/plain": [
       "(25000, 96, 96, 3)"
      ]
     },
     "execution_count": 17,
     "metadata": {},
     "output_type": "execute_result"
    }
   ],
   "source": [
    "%%time\n",
    "imgVectData= np.array(dfShuffledData['imageVector'].tolist())\n",
    "imgVectData.shape"
   ]
  },
  {
   "cell_type": "code",
   "execution_count": 18,
   "id": "330e9897",
   "metadata": {},
   "outputs": [
    {
     "data": {
      "text/plain": [
       "(25000, 5)"
      ]
     },
     "execution_count": 18,
     "metadata": {},
     "output_type": "execute_result"
    }
   ],
   "source": [
    "labelData= to_categorical(dfShuffledData['label'].values.reshape(25000, 1))\n",
    "labelData.shape"
   ]
  },
  {
   "cell_type": "code",
   "execution_count": 53,
   "id": "c6373fd1",
   "metadata": {},
   "outputs": [],
   "source": [
    "from keras.wrappers.scikit_learn import KerasClassifier\n",
    "from scikeras.wrappers import KerasRegressor"
   ]
  },
  {
   "cell_type": "code",
   "execution_count": 20,
   "id": "ee4bfd44",
   "metadata": {},
   "outputs": [],
   "source": [
    "from sklearn.base import BaseEstimator, TransformerMixin"
   ]
  },
  {
   "cell_type": "code",
   "execution_count": 62,
   "id": "4d992937",
   "metadata": {},
   "outputs": [],
   "source": [
    "def baseline_model02():\n",
    "    # create model\n",
    "    model= Sequential()\n",
    "    model.add(layers.Conv2D(8, (3, 3), activation= 'relu', data_format= 'channels_last',\n",
    "                            padding= 'valid' ,input_shape= (96, 96, 3)))\n",
    "    model.add(layers.MaxPooling2D((5, 5)))\n",
    "    model.add(layers.Conv2D(16, (3, 3), activation= 'relu'))\n",
    "    model.add(layers.Flatten())\n",
    "    model.add(layers.Dense(64, activation='relu'))\n",
    "    model.add(layers.Dropout(0.2))\n",
    "    model.add(layers.Dense(5, activation='softmax'))\n",
    "    # Compile model\n",
    "    model.compile(\n",
    "        optimizer= 'adam',\n",
    "        loss= 'categorical_crossentropy',\n",
    "        metrics= ['accuracy'])\n",
    "    return model\n",
    "\n",
    "# evaluate model\n",
    "clf= KerasClassifier(baseline_model02, validation_split= 0.3, epochs= 5, batch_size= 10, verbose= 1)"
   ]
  },
  {
   "cell_type": "code",
   "execution_count": 373,
   "id": "c49521b3",
   "metadata": {},
   "outputs": [],
   "source": [
    "def baseline_model03():\n",
    "    # create model\n",
    "    model= Sequential()\n",
    "#     model.add(layers.Conv2D(32, (1, 1), activation= 'relu', data_format= 'channels_last',\n",
    "#                         padding= 'valid' ,input_shape= rzImageArr.shape[1:]))\n",
    "    model.add(layers.Conv2D(32, (1, 1), activation= 'relu',input_shape= rzImageArr.shape[1:]))\n",
    "    model.add(layers.Conv2D(32, (1, 1), activation= 'relu'))\n",
    "    model.add(layers.MaxPooling2D((2, 2)))\n",
    "    model.add(layers.Conv2D(64, (3, 3), activation= 'relu'))\n",
    "    model.add(layers.MaxPooling2D((2, 2)))\n",
    "    model.add(layers.Conv2D(64, (3, 3), activation='relu'))\n",
    "    model.add(layers.MaxPooling2D((2, 2)))\n",
    "    model.add(layers.Conv2D(16, (3, 3), activation='relu'))\n",
    "    model.add(layers.Flatten())\n",
    "    model.add(layers.Dense(64, activation='relu'))\n",
    "#     model.add(layers.Dropout(0.2))\n",
    "    # model.add(layers.Dense(64, activation='relu'))\n",
    "    # model.add(layers.Dropout(0.2))\n",
    "#     model.add(layers.Dense(32, activation='relu'))\n",
    "    model.add(layers.Dense(5, activation='softmax'))\n",
    "    # Compile model\n",
    "    model.compile(\n",
    "        optimizer= 'adam',\n",
    "        loss= 'categorical_crossentropy',\n",
    "        metrics= ['accuracy'])\n",
    "    return model\n",
    "\n",
    "# evaluate model\n",
    "clf01= KerasClassifier(baseline_model03, validation_split= 0.3, epochs= 20, batch_size= 10, verbose= 1)"
   ]
  },
  {
   "cell_type": "code",
   "execution_count": 374,
   "id": "686e88f6",
   "metadata": {},
   "outputs": [],
   "source": [
    "class preprocessor(TransformerMixin, BaseEstimator):\n",
    "    def __init__(self):\n",
    "        pass\n",
    "\n",
    "    def fit(self, X, y= None):\n",
    "        return self\n",
    "\n",
    "    def transform(self, X):\n",
    "        return [X/ 255.0]"
   ]
  },
  {
   "cell_type": "code",
   "execution_count": 375,
   "id": "c5f6907a",
   "metadata": {},
   "outputs": [],
   "source": [
    "from sklearn.pipeline import make_pipeline"
   ]
  },
  {
   "cell_type": "code",
   "execution_count": 376,
   "id": "71ffdbf7",
   "metadata": {
    "scrolled": true
   },
   "outputs": [
    {
     "name": "stdout",
     "output_type": "stream",
     "text": [
      "Epoch 1/20\n",
      "1750/1750 [==============================] - 205s 103ms/step - loss: 0.5606 - accuracy: 0.7503 - val_loss: 0.4402 - val_accuracy: 0.8237\n",
      "Epoch 2/20\n",
      "1750/1750 [==============================] - 186s 106ms/step - loss: 0.3449 - accuracy: 0.8590 - val_loss: 0.4195 - val_accuracy: 0.8163\n",
      "Epoch 3/20\n",
      "1750/1750 [==============================] - 192s 109ms/step - loss: 0.2541 - accuracy: 0.8988 - val_loss: 0.1700 - val_accuracy: 0.9307\n",
      "Epoch 4/20\n",
      "1750/1750 [==============================] - 194s 111ms/step - loss: 0.1805 - accuracy: 0.9278 - val_loss: 0.2029 - val_accuracy: 0.9143\n",
      "Epoch 5/20\n",
      "1750/1750 [==============================] - 190s 109ms/step - loss: 0.1451 - accuracy: 0.9419 - val_loss: 0.1133 - val_accuracy: 0.9541\n",
      "Epoch 6/20\n",
      "1750/1750 [==============================] - 196s 112ms/step - loss: 0.1238 - accuracy: 0.9517 - val_loss: 0.1522 - val_accuracy: 0.9436\n",
      "Epoch 7/20\n",
      "1750/1750 [==============================] - 191s 109ms/step - loss: 0.1075 - accuracy: 0.9578 - val_loss: 0.1271 - val_accuracy: 0.9507\n",
      "Epoch 8/20\n",
      "1750/1750 [==============================] - 191s 109ms/step - loss: 0.0881 - accuracy: 0.9667 - val_loss: 0.1455 - val_accuracy: 0.9425\n",
      "Epoch 9/20\n",
      "1750/1750 [==============================] - 193s 110ms/step - loss: 0.0728 - accuracy: 0.9737 - val_loss: 0.1347 - val_accuracy: 0.9491\n",
      "Epoch 10/20\n",
      "1750/1750 [==============================] - 191s 109ms/step - loss: 0.0707 - accuracy: 0.9743 - val_loss: 0.0656 - val_accuracy: 0.9753\n",
      "Epoch 11/20\n",
      "1750/1750 [==============================] - 196s 112ms/step - loss: 0.0577 - accuracy: 0.9793 - val_loss: 0.0767 - val_accuracy: 0.9728\n",
      "Epoch 12/20\n",
      "1750/1750 [==============================] - 202s 115ms/step - loss: 0.0585 - accuracy: 0.9785 - val_loss: 0.0845 - val_accuracy: 0.9703\n",
      "Epoch 13/20\n",
      "1750/1750 [==============================] - 193s 110ms/step - loss: 0.0476 - accuracy: 0.9828 - val_loss: 0.0737 - val_accuracy: 0.9755\n",
      "Epoch 14/20\n",
      "1750/1750 [==============================] - 191s 109ms/step - loss: 0.0460 - accuracy: 0.9850 - val_loss: 0.0700 - val_accuracy: 0.9759\n",
      "Epoch 15/20\n",
      "1750/1750 [==============================] - 191s 109ms/step - loss: 0.0331 - accuracy: 0.9878 - val_loss: 0.0688 - val_accuracy: 0.9800\n",
      "Epoch 16/20\n",
      "1750/1750 [==============================] - 191s 109ms/step - loss: 0.0387 - accuracy: 0.9865 - val_loss: 0.0635 - val_accuracy: 0.9819\n",
      "Epoch 17/20\n",
      "1750/1750 [==============================] - 190s 108ms/step - loss: 0.0442 - accuracy: 0.9867 - val_loss: 0.1253 - val_accuracy: 0.9641\n",
      "Epoch 18/20\n",
      "1750/1750 [==============================] - 189s 108ms/step - loss: 0.0315 - accuracy: 0.9890 - val_loss: 0.1543 - val_accuracy: 0.9529\n",
      "Epoch 19/20\n",
      "1750/1750 [==============================] - 192s 110ms/step - loss: 0.0205 - accuracy: 0.9934 - val_loss: 0.1199 - val_accuracy: 0.9731\n",
      "Epoch 20/20\n",
      "1750/1750 [==============================] - 189s 108ms/step - loss: 0.0380 - accuracy: 0.9878 - val_loss: 0.0732 - val_accuracy: 0.9787\n",
      "CPU times: total: 5h 46min 12s\n",
      "Wall time: 1h 5min 46s\n"
     ]
    },
    {
     "data": {
      "text/plain": [
       "Pipeline(steps=[('preprocessor', preprocessor()),\n",
       "                ('kerasclassifier',\n",
       "                 <keras.wrappers.scikit_learn.KerasClassifier object at 0x000001EBA8DDCEE0>)])"
      ]
     },
     "execution_count": 376,
     "metadata": {},
     "output_type": "execute_result"
    }
   ],
   "source": [
    "%%time\n",
    "pipe= make_pipeline(preprocessor(), clf01)\n",
    "pipe.fit(imgVectData, labelData)"
   ]
  },
  {
   "cell_type": "code",
   "execution_count": 66,
   "id": "3322780f",
   "metadata": {},
   "outputs": [],
   "source": [
    "rzImageArr= []\n",
    "for filename in glob.glob('./lung_colon_image_set/testImageSet/*.jpeg'): #assuming jpeg\n",
    "    im= Image.open(filename)\n",
    "    rzImage= np.array(im.resize((96, 96)))\n",
    "    rzImageArr.append(rzImage)"
   ]
  },
  {
   "cell_type": "code",
   "execution_count": 67,
   "id": "2676bc65",
   "metadata": {},
   "outputs": [
    {
     "name": "stdout",
     "output_type": "stream",
     "text": [
      "CPU times: total: 15.6 ms\n",
      "Wall time: 148 ms\n"
     ]
    },
    {
     "data": {
      "text/plain": [
       "[<PIL.Image.Image image mode=RGB size=96x96>,\n",
       " <PIL.Image.Image image mode=RGB size=96x96>,\n",
       " <PIL.Image.Image image mode=RGB size=96x96>,\n",
       " <PIL.Image.Image image mode=RGB size=96x96>,\n",
       " <PIL.Image.Image image mode=RGB size=96x96>,\n",
       " <PIL.Image.Image image mode=RGB size=96x96>,\n",
       " <PIL.Image.Image image mode=RGB size=96x96>,\n",
       " <PIL.Image.Image image mode=RGB size=96x96>,\n",
       " <PIL.Image.Image image mode=RGB size=96x96>,\n",
       " <PIL.Image.Image image mode=RGB size=96x96>]"
      ]
     },
     "execution_count": 67,
     "metadata": {},
     "output_type": "execute_result"
    }
   ],
   "source": [
    "%%time\n",
    "imageList= []\n",
    "for i in rzImageArr:\n",
    "    image= Image.fromarray(i)\n",
    "    imageList.append(image)\n",
    "imageList"
   ]
  },
  {
   "cell_type": "code",
   "execution_count": 341,
   "id": "edb8657d",
   "metadata": {},
   "outputs": [
    {
     "data": {
      "text/html": [
       "<div>\n",
       "<style scoped>\n",
       "    .dataframe tbody tr th:only-of-type {\n",
       "        vertical-align: middle;\n",
       "    }\n",
       "\n",
       "    .dataframe tbody tr th {\n",
       "        vertical-align: top;\n",
       "    }\n",
       "\n",
       "    .dataframe thead th {\n",
       "        text-align: right;\n",
       "    }\n",
       "</style>\n",
       "<table border=\"1\" class=\"dataframe\">\n",
       "  <thead>\n",
       "    <tr style=\"text-align: right;\">\n",
       "      <th></th>\n",
       "      <th>image</th>\n",
       "    </tr>\n",
       "  </thead>\n",
       "  <tbody>\n",
       "    <tr>\n",
       "      <th>0</th>\n",
       "      <td>&lt;PIL.Image.Image image mode=RGB size=96x96 at ...</td>\n",
       "    </tr>\n",
       "    <tr>\n",
       "      <th>1</th>\n",
       "      <td>&lt;PIL.Image.Image image mode=RGB size=96x96 at ...</td>\n",
       "    </tr>\n",
       "    <tr>\n",
       "      <th>2</th>\n",
       "      <td>&lt;PIL.Image.Image image mode=RGB size=96x96 at ...</td>\n",
       "    </tr>\n",
       "    <tr>\n",
       "      <th>3</th>\n",
       "      <td>&lt;PIL.Image.Image image mode=RGB size=96x96 at ...</td>\n",
       "    </tr>\n",
       "    <tr>\n",
       "      <th>4</th>\n",
       "      <td>&lt;PIL.Image.Image image mode=RGB size=96x96 at ...</td>\n",
       "    </tr>\n",
       "    <tr>\n",
       "      <th>5</th>\n",
       "      <td>&lt;PIL.Image.Image image mode=RGB size=96x96 at ...</td>\n",
       "    </tr>\n",
       "    <tr>\n",
       "      <th>6</th>\n",
       "      <td>&lt;PIL.Image.Image image mode=RGB size=96x96 at ...</td>\n",
       "    </tr>\n",
       "    <tr>\n",
       "      <th>7</th>\n",
       "      <td>&lt;PIL.Image.Image image mode=RGB size=96x96 at ...</td>\n",
       "    </tr>\n",
       "    <tr>\n",
       "      <th>8</th>\n",
       "      <td>&lt;PIL.Image.Image image mode=RGB size=96x96 at ...</td>\n",
       "    </tr>\n",
       "    <tr>\n",
       "      <th>9</th>\n",
       "      <td>&lt;PIL.Image.Image image mode=RGB size=96x96 at ...</td>\n",
       "    </tr>\n",
       "  </tbody>\n",
       "</table>\n",
       "</div>"
      ],
      "text/plain": [
       "                                               image\n",
       "0  <PIL.Image.Image image mode=RGB size=96x96 at ...\n",
       "1  <PIL.Image.Image image mode=RGB size=96x96 at ...\n",
       "2  <PIL.Image.Image image mode=RGB size=96x96 at ...\n",
       "3  <PIL.Image.Image image mode=RGB size=96x96 at ...\n",
       "4  <PIL.Image.Image image mode=RGB size=96x96 at ...\n",
       "5  <PIL.Image.Image image mode=RGB size=96x96 at ...\n",
       "6  <PIL.Image.Image image mode=RGB size=96x96 at ...\n",
       "7  <PIL.Image.Image image mode=RGB size=96x96 at ...\n",
       "8  <PIL.Image.Image image mode=RGB size=96x96 at ...\n",
       "9  <PIL.Image.Image image mode=RGB size=96x96 at ..."
      ]
     },
     "execution_count": 341,
     "metadata": {},
     "output_type": "execute_result"
    }
   ],
   "source": [
    "dfTest= pd.DataFrame(imageList, columns=['image'])\n",
    "dfTest"
   ]
  },
  {
   "cell_type": "code",
   "execution_count": 342,
   "id": "b7f67a97",
   "metadata": {},
   "outputs": [],
   "source": [
    "def imageToArray(imgFile):\n",
    "    data= img_to_array(imgFile)\n",
    "    return data"
   ]
  },
  {
   "cell_type": "code",
   "execution_count": 343,
   "id": "21811ccc",
   "metadata": {},
   "outputs": [
    {
     "name": "stdout",
     "output_type": "stream",
     "text": [
      "CPU times: total: 15.6 ms\n",
      "Wall time: 25.9 ms\n"
     ]
    }
   ],
   "source": [
    "%%time\n",
    "dfTest['imageVector']= dfTest['image'].apply(lambda x: imageToArray(x))\n",
    "dfTest['scaledImage']= dfTest['imageVector'].apply(lambda x: normalizeImage(x))"
   ]
  },
  {
   "cell_type": "code",
   "execution_count": 344,
   "id": "670bf588",
   "metadata": {
    "scrolled": false
   },
   "outputs": [
    {
     "data": {
      "text/html": [
       "<div>\n",
       "<style scoped>\n",
       "    .dataframe tbody tr th:only-of-type {\n",
       "        vertical-align: middle;\n",
       "    }\n",
       "\n",
       "    .dataframe tbody tr th {\n",
       "        vertical-align: top;\n",
       "    }\n",
       "\n",
       "    .dataframe thead th {\n",
       "        text-align: right;\n",
       "    }\n",
       "</style>\n",
       "<table border=\"1\" class=\"dataframe\">\n",
       "  <thead>\n",
       "    <tr style=\"text-align: right;\">\n",
       "      <th></th>\n",
       "      <th>image</th>\n",
       "      <th>imageVector</th>\n",
       "      <th>scaledImage</th>\n",
       "    </tr>\n",
       "  </thead>\n",
       "  <tbody>\n",
       "    <tr>\n",
       "      <th>0</th>\n",
       "      <td>&lt;PIL.Image.Image image mode=RGB size=96x96 at ...</td>\n",
       "      <td>[[[249.0, 205.0, 236.0], [238.0, 197.0, 233.0]...</td>\n",
       "      <td>[[[0.9764706, 0.8039216, 0.9254902], [0.933333...</td>\n",
       "    </tr>\n",
       "    <tr>\n",
       "      <th>1</th>\n",
       "      <td>&lt;PIL.Image.Image image mode=RGB size=96x96 at ...</td>\n",
       "      <td>[[[250.0, 240.0, 247.0], [228.0, 186.0, 238.0]...</td>\n",
       "      <td>[[[0.98039216, 0.9411765, 0.96862745], [0.8941...</td>\n",
       "    </tr>\n",
       "    <tr>\n",
       "      <th>2</th>\n",
       "      <td>&lt;PIL.Image.Image image mode=RGB size=96x96 at ...</td>\n",
       "      <td>[[[242.0, 224.0, 236.0], [225.0, 195.0, 233.0]...</td>\n",
       "      <td>[[[0.9490196, 0.8784314, 0.9254902], [0.882352...</td>\n",
       "    </tr>\n",
       "    <tr>\n",
       "      <th>3</th>\n",
       "      <td>&lt;PIL.Image.Image image mode=RGB size=96x96 at ...</td>\n",
       "      <td>[[[251.0, 249.0, 229.0], [245.0, 228.0, 224.0]...</td>\n",
       "      <td>[[[0.9843137, 0.9764706, 0.8980392], [0.960784...</td>\n",
       "    </tr>\n",
       "    <tr>\n",
       "      <th>4</th>\n",
       "      <td>&lt;PIL.Image.Image image mode=RGB size=96x96 at ...</td>\n",
       "      <td>[[[212.0, 198.0, 242.0], [210.0, 202.0, 245.0]...</td>\n",
       "      <td>[[[0.83137256, 0.7764706, 0.9490196], [0.82352...</td>\n",
       "    </tr>\n",
       "    <tr>\n",
       "      <th>5</th>\n",
       "      <td>&lt;PIL.Image.Image image mode=RGB size=96x96 at ...</td>\n",
       "      <td>[[[143.0, 79.0, 210.0], [137.0, 79.0, 215.0], ...</td>\n",
       "      <td>[[[0.56078434, 0.30980393, 0.8235294], [0.5372...</td>\n",
       "    </tr>\n",
       "    <tr>\n",
       "      <th>6</th>\n",
       "      <td>&lt;PIL.Image.Image image mode=RGB size=96x96 at ...</td>\n",
       "      <td>[[[74.0, 35.0, 146.0], [124.0, 55.0, 154.0], [...</td>\n",
       "      <td>[[[0.2901961, 0.13725491, 0.57254905], [0.4862...</td>\n",
       "    </tr>\n",
       "    <tr>\n",
       "      <th>7</th>\n",
       "      <td>&lt;PIL.Image.Image image mode=RGB size=96x96 at ...</td>\n",
       "      <td>[[[203.0, 156.0, 202.0], [200.0, 156.0, 196.0]...</td>\n",
       "      <td>[[[0.79607844, 0.6117647, 0.7921569], [0.78431...</td>\n",
       "    </tr>\n",
       "    <tr>\n",
       "      <th>8</th>\n",
       "      <td>&lt;PIL.Image.Image image mode=RGB size=96x96 at ...</td>\n",
       "      <td>[[[144.0, 93.0, 213.0], [141.0, 94.0, 213.0], ...</td>\n",
       "      <td>[[[0.5647059, 0.3647059, 0.8352941], [0.552941...</td>\n",
       "    </tr>\n",
       "    <tr>\n",
       "      <th>9</th>\n",
       "      <td>&lt;PIL.Image.Image image mode=RGB size=96x96 at ...</td>\n",
       "      <td>[[[94.0, 71.0, 199.0], [104.0, 72.0, 201.0], [...</td>\n",
       "      <td>[[[0.36862746, 0.2784314, 0.78039217], [0.4078...</td>\n",
       "    </tr>\n",
       "  </tbody>\n",
       "</table>\n",
       "</div>"
      ],
      "text/plain": [
       "                                               image  \\\n",
       "0  <PIL.Image.Image image mode=RGB size=96x96 at ...   \n",
       "1  <PIL.Image.Image image mode=RGB size=96x96 at ...   \n",
       "2  <PIL.Image.Image image mode=RGB size=96x96 at ...   \n",
       "3  <PIL.Image.Image image mode=RGB size=96x96 at ...   \n",
       "4  <PIL.Image.Image image mode=RGB size=96x96 at ...   \n",
       "5  <PIL.Image.Image image mode=RGB size=96x96 at ...   \n",
       "6  <PIL.Image.Image image mode=RGB size=96x96 at ...   \n",
       "7  <PIL.Image.Image image mode=RGB size=96x96 at ...   \n",
       "8  <PIL.Image.Image image mode=RGB size=96x96 at ...   \n",
       "9  <PIL.Image.Image image mode=RGB size=96x96 at ...   \n",
       "\n",
       "                                         imageVector  \\\n",
       "0  [[[249.0, 205.0, 236.0], [238.0, 197.0, 233.0]...   \n",
       "1  [[[250.0, 240.0, 247.0], [228.0, 186.0, 238.0]...   \n",
       "2  [[[242.0, 224.0, 236.0], [225.0, 195.0, 233.0]...   \n",
       "3  [[[251.0, 249.0, 229.0], [245.0, 228.0, 224.0]...   \n",
       "4  [[[212.0, 198.0, 242.0], [210.0, 202.0, 245.0]...   \n",
       "5  [[[143.0, 79.0, 210.0], [137.0, 79.0, 215.0], ...   \n",
       "6  [[[74.0, 35.0, 146.0], [124.0, 55.0, 154.0], [...   \n",
       "7  [[[203.0, 156.0, 202.0], [200.0, 156.0, 196.0]...   \n",
       "8  [[[144.0, 93.0, 213.0], [141.0, 94.0, 213.0], ...   \n",
       "9  [[[94.0, 71.0, 199.0], [104.0, 72.0, 201.0], [...   \n",
       "\n",
       "                                         scaledImage  \n",
       "0  [[[0.9764706, 0.8039216, 0.9254902], [0.933333...  \n",
       "1  [[[0.98039216, 0.9411765, 0.96862745], [0.8941...  \n",
       "2  [[[0.9490196, 0.8784314, 0.9254902], [0.882352...  \n",
       "3  [[[0.9843137, 0.9764706, 0.8980392], [0.960784...  \n",
       "4  [[[0.83137256, 0.7764706, 0.9490196], [0.82352...  \n",
       "5  [[[0.56078434, 0.30980393, 0.8235294], [0.5372...  \n",
       "6  [[[0.2901961, 0.13725491, 0.57254905], [0.4862...  \n",
       "7  [[[0.79607844, 0.6117647, 0.7921569], [0.78431...  \n",
       "8  [[[0.5647059, 0.3647059, 0.8352941], [0.552941...  \n",
       "9  [[[0.36862746, 0.2784314, 0.78039217], [0.4078...  "
      ]
     },
     "execution_count": 344,
     "metadata": {},
     "output_type": "execute_result"
    }
   ],
   "source": [
    "dfTest"
   ]
  },
  {
   "cell_type": "code",
   "execution_count": 345,
   "id": "916cbcd2",
   "metadata": {},
   "outputs": [],
   "source": [
    "def imageFromArray(imgFile):\n",
    "    data= array_to_img(imgFile)\n",
    "    return data"
   ]
  },
  {
   "cell_type": "code",
   "execution_count": 346,
   "id": "a8a8b4c0",
   "metadata": {},
   "outputs": [
    {
     "name": "stdout",
     "output_type": "stream",
     "text": [
      "CPU times: total: 0 ns\n",
      "Wall time: 28.9 ms\n"
     ]
    }
   ],
   "source": [
    "%%time\n",
    "dfTest['backToImage']= dfTest['scaledImage'].apply(lambda x: imageFromArray(x))"
   ]
  },
  {
   "cell_type": "code",
   "execution_count": 347,
   "id": "8949cdba",
   "metadata": {},
   "outputs": [
    {
     "data": {
      "text/html": [
       "<div>\n",
       "<style scoped>\n",
       "    .dataframe tbody tr th:only-of-type {\n",
       "        vertical-align: middle;\n",
       "    }\n",
       "\n",
       "    .dataframe tbody tr th {\n",
       "        vertical-align: top;\n",
       "    }\n",
       "\n",
       "    .dataframe thead th {\n",
       "        text-align: right;\n",
       "    }\n",
       "</style>\n",
       "<table border=\"1\" class=\"dataframe\">\n",
       "  <thead>\n",
       "    <tr style=\"text-align: right;\">\n",
       "      <th></th>\n",
       "      <th>image</th>\n",
       "      <th>imageVector</th>\n",
       "      <th>scaledImage</th>\n",
       "      <th>backToImage</th>\n",
       "    </tr>\n",
       "  </thead>\n",
       "  <tbody>\n",
       "    <tr>\n",
       "      <th>0</th>\n",
       "      <td>&lt;PIL.Image.Image image mode=RGB size=96x96 at ...</td>\n",
       "      <td>[[[249.0, 205.0, 236.0], [238.0, 197.0, 233.0]...</td>\n",
       "      <td>[[[0.9764706, 0.8039216, 0.9254902], [0.933333...</td>\n",
       "      <td>&lt;PIL.Image.Image image mode=RGB size=96x96 at ...</td>\n",
       "    </tr>\n",
       "    <tr>\n",
       "      <th>1</th>\n",
       "      <td>&lt;PIL.Image.Image image mode=RGB size=96x96 at ...</td>\n",
       "      <td>[[[250.0, 240.0, 247.0], [228.0, 186.0, 238.0]...</td>\n",
       "      <td>[[[0.98039216, 0.9411765, 0.96862745], [0.8941...</td>\n",
       "      <td>&lt;PIL.Image.Image image mode=RGB size=96x96 at ...</td>\n",
       "    </tr>\n",
       "    <tr>\n",
       "      <th>2</th>\n",
       "      <td>&lt;PIL.Image.Image image mode=RGB size=96x96 at ...</td>\n",
       "      <td>[[[242.0, 224.0, 236.0], [225.0, 195.0, 233.0]...</td>\n",
       "      <td>[[[0.9490196, 0.8784314, 0.9254902], [0.882352...</td>\n",
       "      <td>&lt;PIL.Image.Image image mode=RGB size=96x96 at ...</td>\n",
       "    </tr>\n",
       "    <tr>\n",
       "      <th>3</th>\n",
       "      <td>&lt;PIL.Image.Image image mode=RGB size=96x96 at ...</td>\n",
       "      <td>[[[251.0, 249.0, 229.0], [245.0, 228.0, 224.0]...</td>\n",
       "      <td>[[[0.9843137, 0.9764706, 0.8980392], [0.960784...</td>\n",
       "      <td>&lt;PIL.Image.Image image mode=RGB size=96x96 at ...</td>\n",
       "    </tr>\n",
       "    <tr>\n",
       "      <th>4</th>\n",
       "      <td>&lt;PIL.Image.Image image mode=RGB size=96x96 at ...</td>\n",
       "      <td>[[[212.0, 198.0, 242.0], [210.0, 202.0, 245.0]...</td>\n",
       "      <td>[[[0.83137256, 0.7764706, 0.9490196], [0.82352...</td>\n",
       "      <td>&lt;PIL.Image.Image image mode=RGB size=96x96 at ...</td>\n",
       "    </tr>\n",
       "    <tr>\n",
       "      <th>5</th>\n",
       "      <td>&lt;PIL.Image.Image image mode=RGB size=96x96 at ...</td>\n",
       "      <td>[[[143.0, 79.0, 210.0], [137.0, 79.0, 215.0], ...</td>\n",
       "      <td>[[[0.56078434, 0.30980393, 0.8235294], [0.5372...</td>\n",
       "      <td>&lt;PIL.Image.Image image mode=RGB size=96x96 at ...</td>\n",
       "    </tr>\n",
       "    <tr>\n",
       "      <th>6</th>\n",
       "      <td>&lt;PIL.Image.Image image mode=RGB size=96x96 at ...</td>\n",
       "      <td>[[[74.0, 35.0, 146.0], [124.0, 55.0, 154.0], [...</td>\n",
       "      <td>[[[0.2901961, 0.13725491, 0.57254905], [0.4862...</td>\n",
       "      <td>&lt;PIL.Image.Image image mode=RGB size=96x96 at ...</td>\n",
       "    </tr>\n",
       "    <tr>\n",
       "      <th>7</th>\n",
       "      <td>&lt;PIL.Image.Image image mode=RGB size=96x96 at ...</td>\n",
       "      <td>[[[203.0, 156.0, 202.0], [200.0, 156.0, 196.0]...</td>\n",
       "      <td>[[[0.79607844, 0.6117647, 0.7921569], [0.78431...</td>\n",
       "      <td>&lt;PIL.Image.Image image mode=RGB size=96x96 at ...</td>\n",
       "    </tr>\n",
       "    <tr>\n",
       "      <th>8</th>\n",
       "      <td>&lt;PIL.Image.Image image mode=RGB size=96x96 at ...</td>\n",
       "      <td>[[[144.0, 93.0, 213.0], [141.0, 94.0, 213.0], ...</td>\n",
       "      <td>[[[0.5647059, 0.3647059, 0.8352941], [0.552941...</td>\n",
       "      <td>&lt;PIL.Image.Image image mode=RGB size=96x96 at ...</td>\n",
       "    </tr>\n",
       "    <tr>\n",
       "      <th>9</th>\n",
       "      <td>&lt;PIL.Image.Image image mode=RGB size=96x96 at ...</td>\n",
       "      <td>[[[94.0, 71.0, 199.0], [104.0, 72.0, 201.0], [...</td>\n",
       "      <td>[[[0.36862746, 0.2784314, 0.78039217], [0.4078...</td>\n",
       "      <td>&lt;PIL.Image.Image image mode=RGB size=96x96 at ...</td>\n",
       "    </tr>\n",
       "  </tbody>\n",
       "</table>\n",
       "</div>"
      ],
      "text/plain": [
       "                                               image  \\\n",
       "0  <PIL.Image.Image image mode=RGB size=96x96 at ...   \n",
       "1  <PIL.Image.Image image mode=RGB size=96x96 at ...   \n",
       "2  <PIL.Image.Image image mode=RGB size=96x96 at ...   \n",
       "3  <PIL.Image.Image image mode=RGB size=96x96 at ...   \n",
       "4  <PIL.Image.Image image mode=RGB size=96x96 at ...   \n",
       "5  <PIL.Image.Image image mode=RGB size=96x96 at ...   \n",
       "6  <PIL.Image.Image image mode=RGB size=96x96 at ...   \n",
       "7  <PIL.Image.Image image mode=RGB size=96x96 at ...   \n",
       "8  <PIL.Image.Image image mode=RGB size=96x96 at ...   \n",
       "9  <PIL.Image.Image image mode=RGB size=96x96 at ...   \n",
       "\n",
       "                                         imageVector  \\\n",
       "0  [[[249.0, 205.0, 236.0], [238.0, 197.0, 233.0]...   \n",
       "1  [[[250.0, 240.0, 247.0], [228.0, 186.0, 238.0]...   \n",
       "2  [[[242.0, 224.0, 236.0], [225.0, 195.0, 233.0]...   \n",
       "3  [[[251.0, 249.0, 229.0], [245.0, 228.0, 224.0]...   \n",
       "4  [[[212.0, 198.0, 242.0], [210.0, 202.0, 245.0]...   \n",
       "5  [[[143.0, 79.0, 210.0], [137.0, 79.0, 215.0], ...   \n",
       "6  [[[74.0, 35.0, 146.0], [124.0, 55.0, 154.0], [...   \n",
       "7  [[[203.0, 156.0, 202.0], [200.0, 156.0, 196.0]...   \n",
       "8  [[[144.0, 93.0, 213.0], [141.0, 94.0, 213.0], ...   \n",
       "9  [[[94.0, 71.0, 199.0], [104.0, 72.0, 201.0], [...   \n",
       "\n",
       "                                         scaledImage  \\\n",
       "0  [[[0.9764706, 0.8039216, 0.9254902], [0.933333...   \n",
       "1  [[[0.98039216, 0.9411765, 0.96862745], [0.8941...   \n",
       "2  [[[0.9490196, 0.8784314, 0.9254902], [0.882352...   \n",
       "3  [[[0.9843137, 0.9764706, 0.8980392], [0.960784...   \n",
       "4  [[[0.83137256, 0.7764706, 0.9490196], [0.82352...   \n",
       "5  [[[0.56078434, 0.30980393, 0.8235294], [0.5372...   \n",
       "6  [[[0.2901961, 0.13725491, 0.57254905], [0.4862...   \n",
       "7  [[[0.79607844, 0.6117647, 0.7921569], [0.78431...   \n",
       "8  [[[0.5647059, 0.3647059, 0.8352941], [0.552941...   \n",
       "9  [[[0.36862746, 0.2784314, 0.78039217], [0.4078...   \n",
       "\n",
       "                                         backToImage  \n",
       "0  <PIL.Image.Image image mode=RGB size=96x96 at ...  \n",
       "1  <PIL.Image.Image image mode=RGB size=96x96 at ...  \n",
       "2  <PIL.Image.Image image mode=RGB size=96x96 at ...  \n",
       "3  <PIL.Image.Image image mode=RGB size=96x96 at ...  \n",
       "4  <PIL.Image.Image image mode=RGB size=96x96 at ...  \n",
       "5  <PIL.Image.Image image mode=RGB size=96x96 at ...  \n",
       "6  <PIL.Image.Image image mode=RGB size=96x96 at ...  \n",
       "7  <PIL.Image.Image image mode=RGB size=96x96 at ...  \n",
       "8  <PIL.Image.Image image mode=RGB size=96x96 at ...  \n",
       "9  <PIL.Image.Image image mode=RGB size=96x96 at ...  "
      ]
     },
     "execution_count": 347,
     "metadata": {},
     "output_type": "execute_result"
    }
   ],
   "source": [
    "dfTest"
   ]
  },
  {
   "cell_type": "code",
   "execution_count": 378,
   "id": "04ccad4d",
   "metadata": {},
   "outputs": [
    {
     "data": {
      "image/png": "[encoded data removed]",
      "text/plain": [
       "<PIL.Image.Image image mode=RGB size=96x96>"
      ]
     },
     "execution_count": 378,
     "metadata": {},
     "output_type": "execute_result"
    }
   ],
   "source": [
    "dfTest['backToImage'][4]"
   ]
  },
  {
   "cell_type": "code",
   "execution_count": 379,
   "id": "5dcc1325",
   "metadata": {},
   "outputs": [
    {
     "data": {
      "text/plain": [
       "(10, 96, 96, 3)"
      ]
     },
     "execution_count": 379,
     "metadata": {},
     "output_type": "execute_result"
    }
   ],
   "source": [
    "imgTestData= np.asarray(dfTest['scaledImage'].tolist())\n",
    "# imgTestData= np.expand_dims(imgTestData)\n",
    "imgTestData.shape"
   ]
  },
  {
   "cell_type": "code",
   "execution_count": 380,
   "id": "797da5d2",
   "metadata": {},
   "outputs": [
    {
     "name": "stdout",
     "output_type": "stream",
     "text": [
      "1/1 [==============================] - 0s 92ms/step\n"
     ]
    },
    {
     "data": {
      "text/plain": [
       "array([3, 3, 3, 3, 3, 3, 3, 3, 3, 3])"
      ]
     },
     "execution_count": 380,
     "metadata": {},
     "output_type": "execute_result"
    }
   ],
   "source": [
    "predict_x= pipe.predict(imgTestData)\n",
    "# classes_x= np.argmax(predict_x, axis=1)\n",
    "# classes_x= predict_x.argmax(axis= 1)\n",
    "predict_x"
   ]
  },
  {
   "cell_type": "markdown",
   "id": "14dc5cdb",
   "metadata": {},
   "source": [
    "### Normalize and assign categorical labels"
   ]
  },
  {
   "cell_type": "code",
   "execution_count": 75,
   "id": "bc86fdb1",
   "metadata": {},
   "outputs": [],
   "source": [
    "rzImageArr= imageArr/ 255.0"
   ]
  },
  {
   "cell_type": "code",
   "execution_count": 76,
   "id": "66c1fcfa",
   "metadata": {},
   "outputs": [
    {
     "data": {
      "text/plain": [
       "(25000, 96, 96, 3)"
      ]
     },
     "execution_count": 76,
     "metadata": {},
     "output_type": "execute_result"
    }
   ],
   "source": [
    "rzImageArr.shape"
   ]
  },
  {
   "cell_type": "code",
   "execution_count": 77,
   "id": "5dca965e",
   "metadata": {},
   "outputs": [],
   "source": [
    "newTarget= to_categorical(targetArr)"
   ]
  },
  {
   "cell_type": "code",
   "execution_count": 78,
   "id": "49d6b406",
   "metadata": {},
   "outputs": [
    {
     "data": {
      "text/plain": [
       "(25000, 5)"
      ]
     },
     "execution_count": 78,
     "metadata": {},
     "output_type": "execute_result"
    }
   ],
   "source": [
    "newTarget.shape"
   ]
  },
  {
   "cell_type": "markdown",
   "id": "a81822f2",
   "metadata": {},
   "source": [
    "### CNN Model"
   ]
  },
  {
   "cell_type": "code",
   "execution_count": 79,
   "id": "a2fdcf01",
   "metadata": {},
   "outputs": [
    {
     "data": {
      "text/plain": [
       "(25000, 96, 96, 3)"
      ]
     },
     "execution_count": 79,
     "metadata": {},
     "output_type": "execute_result"
    }
   ],
   "source": [
    "rzImageArr.shape"
   ]
  },
  {
   "cell_type": "code",
   "execution_count": 80,
   "id": "dbcd7957",
   "metadata": {},
   "outputs": [
    {
     "data": {
      "text/plain": [
       "(25000, 5)"
      ]
     },
     "execution_count": 80,
     "metadata": {},
     "output_type": "execute_result"
    }
   ],
   "source": [
    "newTarget.shape"
   ]
  },
  {
   "cell_type": "code",
   "execution_count": 81,
   "id": "cabdee4e",
   "metadata": {},
   "outputs": [
    {
     "data": {
      "text/plain": [
       "(96, 96, 3)"
      ]
     },
     "execution_count": 81,
     "metadata": {},
     "output_type": "execute_result"
    }
   ],
   "source": [
    "rzImageArr.shape[1:]"
   ]
  },
  {
   "cell_type": "code",
   "execution_count": 82,
   "id": "4d6a88dc",
   "metadata": {},
   "outputs": [
    {
     "name": "stdout",
     "output_type": "stream",
     "text": [
      "CPU times: total: 12.9 s\n",
      "Wall time: 23.2 s\n"
     ]
    }
   ],
   "source": [
    "%%time\n",
    "X_train, X_test, y_train, y_test = train_test_split(rzImageArr, newTarget, test_size = 0.3,\n",
    "                                                    random_state = 65)"
   ]
  },
  {
   "cell_type": "markdown",
   "id": "2be2ffd8",
   "metadata": {},
   "source": [
    "### Create the model's architecture\n",
    "- **NOTE ALERT**: Take into account the volume of data and parameters. Time and processing escalate quite fast.\n",
    "- **NOTE ALERT**: It is likely this data will require more complex models."
   ]
  },
  {
   "cell_type": "code",
   "execution_count": 211,
   "id": "1d6cf6c0",
   "metadata": {},
   "outputs": [],
   "source": [
    "# Set up the model architecture\n",
    "model= Sequential()\n",
    "model.add(layers.Conv2D(32, (1, 1), activation= 'relu', data_format= 'channels_last',\n",
    "                        padding= 'valid' ,input_shape= rzImageArr.shape[1:]))\n",
    "model.add(layers.Conv2D(32, (1, 1), activation= 'relu'))\n",
    "model.add(layers.MaxPooling2D((2, 2)))\n",
    "model.add(layers.Conv2D(64, (3, 3), activation= 'relu'))\n",
    "model.add(layers.MaxPooling2D((2, 2)))\n",
    "model.add(layers.Conv2D(64, (3, 3), activation='relu'))\n",
    "model.add(layers.MaxPooling2D((2, 2)))\n",
    "model.add(layers.Conv2D(16, (3, 3), activation='relu'))"
   ]
  },
  {
   "cell_type": "code",
   "execution_count": 212,
   "id": "edc481e6",
   "metadata": {},
   "outputs": [
    {
     "name": "stdout",
     "output_type": "stream",
     "text": [
      "Model: \"sequential_13\"\n",
      "_________________________________________________________________\n",
      " Layer (type)                Output Shape              Param #   \n",
      "=================================================================\n",
      " conv2d_41 (Conv2D)          (None, 96, 96, 32)        128       \n",
      "                                                                 \n",
      " conv2d_42 (Conv2D)          (None, 96, 96, 32)        1056      \n",
      "                                                                 \n",
      " max_pooling2d_28 (MaxPoolin  (None, 48, 48, 32)       0         \n",
      " g2D)                                                            \n",
      "                                                                 \n",
      " conv2d_43 (Conv2D)          (None, 46, 46, 64)        18496     \n",
      "                                                                 \n",
      " max_pooling2d_29 (MaxPoolin  (None, 23, 23, 64)       0         \n",
      " g2D)                                                            \n",
      "                                                                 \n",
      " conv2d_44 (Conv2D)          (None, 21, 21, 64)        36928     \n",
      "                                                                 \n",
      " max_pooling2d_30 (MaxPoolin  (None, 10, 10, 64)       0         \n",
      " g2D)                                                            \n",
      "                                                                 \n",
      " conv2d_45 (Conv2D)          (None, 8, 8, 16)          9232      \n",
      "                                                                 \n",
      "=================================================================\n",
      "Total params: 65,840\n",
      "Trainable params: 65,840\n",
      "Non-trainable params: 0\n",
      "_________________________________________________________________\n"
     ]
    }
   ],
   "source": [
    "model.summary()"
   ]
  },
  {
   "cell_type": "code",
   "execution_count": 213,
   "id": "11324c7e",
   "metadata": {},
   "outputs": [],
   "source": [
    "model.add(layers.Flatten())\n",
    "model.add(layers.Dense(64, activation='relu'))\n",
    "model.add(layers.Dropout(0.2))\n",
    "# model.add(layers.Dense(64, activation='relu'))\n",
    "# model.add(layers.Dropout(0.2))\n",
    "model.add(layers.Dense(32, activation='relu'))\n",
    "model.add(layers.Dense(5, activation='softmax'))"
   ]
  },
  {
   "cell_type": "code",
   "execution_count": 214,
   "id": "d6ce75f4",
   "metadata": {},
   "outputs": [
    {
     "name": "stdout",
     "output_type": "stream",
     "text": [
      "Model: \"sequential_13\"\n",
      "_________________________________________________________________\n",
      " Layer (type)                Output Shape              Param #   \n",
      "=================================================================\n",
      " conv2d_41 (Conv2D)          (None, 96, 96, 32)        128       \n",
      "                                                                 \n",
      " conv2d_42 (Conv2D)          (None, 96, 96, 32)        1056      \n",
      "                                                                 \n",
      " max_pooling2d_28 (MaxPoolin  (None, 48, 48, 32)       0         \n",
      " g2D)                                                            \n",
      "                                                                 \n",
      " conv2d_43 (Conv2D)          (None, 46, 46, 64)        18496     \n",
      "                                                                 \n",
      " max_pooling2d_29 (MaxPoolin  (None, 23, 23, 64)       0         \n",
      " g2D)                                                            \n",
      "                                                                 \n",
      " conv2d_44 (Conv2D)          (None, 21, 21, 64)        36928     \n",
      "                                                                 \n",
      " max_pooling2d_30 (MaxPoolin  (None, 10, 10, 64)       0         \n",
      " g2D)                                                            \n",
      "                                                                 \n",
      " conv2d_45 (Conv2D)          (None, 8, 8, 16)          9232      \n",
      "                                                                 \n",
      " flatten_8 (Flatten)         (None, 1024)              0         \n",
      "                                                                 \n",
      " dense_19 (Dense)            (None, 64)                65600     \n",
      "                                                                 \n",
      " dropout_6 (Dropout)         (None, 64)                0         \n",
      "                                                                 \n",
      " dense_20 (Dense)            (None, 32)                2080      \n",
      "                                                                 \n",
      " dense_21 (Dense)            (None, 5)                 165       \n",
      "                                                                 \n",
      "=================================================================\n",
      "Total params: 133,685\n",
      "Trainable params: 133,685\n",
      "Non-trainable params: 0\n",
      "_________________________________________________________________\n"
     ]
    }
   ],
   "source": [
    "model.summary()"
   ]
  },
  {
   "cell_type": "markdown",
   "id": "43e7565c",
   "metadata": {},
   "source": [
    "### Complie the model"
   ]
  },
  {
   "cell_type": "code",
   "execution_count": 215,
   "id": "769a5d8d",
   "metadata": {},
   "outputs": [],
   "source": [
    "model.compile(\n",
    "    optimizer='adam',\n",
    "    loss = 'categorical_crossentropy',\n",
    "#     loss=tf.keras.losses.SparseCategoricalCrossentropy(from_logits= True),\n",
    "    metrics=['accuracy'])"
   ]
  },
  {
   "cell_type": "markdown",
   "id": "fdfdfb9a",
   "metadata": {},
   "source": [
    "### Fit the training data"
   ]
  },
  {
   "cell_type": "code",
   "execution_count": 216,
   "id": "54738430",
   "metadata": {},
   "outputs": [
    {
     "data": {
      "text/plain": [
       "(17500, 96, 96, 3)"
      ]
     },
     "execution_count": 216,
     "metadata": {},
     "output_type": "execute_result"
    }
   ],
   "source": [
    "X_train.shape"
   ]
  },
  {
   "cell_type": "code",
   "execution_count": 217,
   "id": "3e379fe8",
   "metadata": {},
   "outputs": [
    {
     "data": {
      "text/plain": [
       "(17500, 5)"
      ]
     },
     "execution_count": 217,
     "metadata": {},
     "output_type": "execute_result"
    }
   ],
   "source": [
    "y_train.shape"
   ]
  },
  {
   "cell_type": "code",
   "execution_count": 218,
   "id": "1dfcaa6b",
   "metadata": {},
   "outputs": [
    {
     "name": "stdout",
     "output_type": "stream",
     "text": [
      "Epoch 1/10\n",
      "1225/1225 [==============================] - 113s 92ms/step - loss: 0.7696 - accuracy: 0.6082 - val_loss: 0.5239 - val_accuracy: 0.7718\n",
      "Epoch 2/10\n",
      "1225/1225 [==============================] - 116s 95ms/step - loss: 0.4541 - accuracy: 0.8082 - val_loss: 0.3573 - val_accuracy: 0.8451\n",
      "Epoch 3/10\n",
      "1225/1225 [==============================] - 128s 105ms/step - loss: 0.3081 - accuracy: 0.8805 - val_loss: 0.2412 - val_accuracy: 0.9088\n",
      "Epoch 4/10\n",
      "1225/1225 [==============================] - 131s 107ms/step - loss: 0.2400 - accuracy: 0.9109 - val_loss: 0.1526 - val_accuracy: 0.9415\n",
      "Epoch 5/10\n",
      "1225/1225 [==============================] - 131s 107ms/step - loss: 0.1932 - accuracy: 0.9269 - val_loss: 0.1200 - val_accuracy: 0.9535\n",
      "Epoch 6/10\n",
      "1225/1225 [==============================] - 134s 109ms/step - loss: 0.1596 - accuracy: 0.9405 - val_loss: 0.1315 - val_accuracy: 0.9545\n",
      "Epoch 7/10\n",
      "1225/1225 [==============================] - 132s 108ms/step - loss: 0.1414 - accuracy: 0.9487 - val_loss: 0.1524 - val_accuracy: 0.9312\n",
      "Epoch 8/10\n",
      "1225/1225 [==============================] - 131s 107ms/step - loss: 0.1198 - accuracy: 0.9550 - val_loss: 0.0875 - val_accuracy: 0.9697\n",
      "Epoch 9/10\n",
      "1225/1225 [==============================] - 136s 111ms/step - loss: 0.1059 - accuracy: 0.9602 - val_loss: 0.1013 - val_accuracy: 0.9621\n",
      "Epoch 10/10\n",
      "1225/1225 [==============================] - 131s 107ms/step - loss: 0.0886 - accuracy: 0.9676 - val_loss: 0.0910 - val_accuracy: 0.9680\n",
      "CPU times: total: 1h 56min 24s\n",
      "Wall time: 21min 23s\n"
     ]
    }
   ],
   "source": [
    "%%time\n",
    "# Fit the model on a training set\n",
    "history = model.fit(\n",
    "    X_train,\n",
    "    y_train,\n",
    "    validation_split = 0.3,\n",
    "#     validation_data=(X2_test, y2_test),\n",
    "    epochs = 10,\n",
    "    batch_size = 10,\n",
    "    verbose = 1)"
   ]
  },
  {
   "cell_type": "code",
   "execution_count": 219,
   "id": "3fa2890e",
   "metadata": {},
   "outputs": [],
   "source": [
    "model.save('model.h5')"
   ]
  },
  {
   "cell_type": "markdown",
   "id": "1ad9f004",
   "metadata": {},
   "source": [
    "### Create Predictions"
   ]
  },
  {
   "cell_type": "code",
   "execution_count": 220,
   "id": "0efe57f8",
   "metadata": {},
   "outputs": [
    {
     "data": {
      "text/plain": [
       "(7500, 96, 96, 3)"
      ]
     },
     "execution_count": 220,
     "metadata": {},
     "output_type": "execute_result"
    }
   ],
   "source": [
    "X_test.shape"
   ]
  },
  {
   "cell_type": "code",
   "execution_count": 355,
   "id": "00d2d1e4",
   "metadata": {},
   "outputs": [
    {
     "name": "stdout",
     "output_type": "stream",
     "text": [
      "235/235 [==============================] - 13s 56ms/step\n",
      "CPU times: total: 1min 12s\n",
      "Wall time: 13.4 s\n"
     ]
    }
   ],
   "source": [
    "%%time\n",
    "# predictions = model.predict_classes(X_test)\n",
    "predict_x= model.predict(X_test)\n",
    "# classes_x= np.argmax(predict_x, axis=1)\n",
    "classes_x= predict_x.argmax(axis= 1)"
   ]
  },
  {
   "cell_type": "code",
   "execution_count": 356,
   "id": "30dc3fa3",
   "metadata": {},
   "outputs": [
    {
     "name": "stdout",
     "output_type": "stream",
     "text": [
      "1/1 [==============================] - 0s 35ms/step\n"
     ]
    }
   ],
   "source": [
    "predArr= model.predict(imgTestData).argmax(axis= 1)"
   ]
  },
  {
   "cell_type": "code",
   "execution_count": 357,
   "id": "82472f65",
   "metadata": {},
   "outputs": [
    {
     "data": {
      "text/plain": [
       "array([4, 3, 1, ..., 2, 3, 3], dtype=int64)"
      ]
     },
     "execution_count": 357,
     "metadata": {},
     "output_type": "execute_result"
    }
   ],
   "source": [
    "classes_x"
   ]
  },
  {
   "cell_type": "code",
   "execution_count": 358,
   "id": "1e8031b8",
   "metadata": {},
   "outputs": [
    {
     "data": {
      "text/plain": [
       "array([0, 1, 0, 0, 1, 1, 0, 1, 1, 1], dtype=int64)"
      ]
     },
     "execution_count": 358,
     "metadata": {},
     "output_type": "execute_result"
    }
   ],
   "source": [
    "predArr"
   ]
  },
  {
   "cell_type": "code",
   "execution_count": 284,
   "id": "596f8206",
   "metadata": {},
   "outputs": [
    {
     "data": {
      "text/plain": [
       "(7500, 96, 96, 3)"
      ]
     },
     "execution_count": 284,
     "metadata": {},
     "output_type": "execute_result"
    }
   ],
   "source": [
    "X_test.shape"
   ]
  },
  {
   "cell_type": "code",
   "execution_count": 231,
   "id": "e0f6aa34",
   "metadata": {},
   "outputs": [
    {
     "data": {
      "text/plain": [
       "(7500, 5)"
      ]
     },
     "execution_count": 231,
     "metadata": {},
     "output_type": "execute_result"
    }
   ],
   "source": [
    "y_test.shape"
   ]
  },
  {
   "cell_type": "markdown",
   "id": "a8ebd31f",
   "metadata": {},
   "source": [
    "### Evaluate the model"
   ]
  },
  {
   "cell_type": "code",
   "execution_count": 232,
   "id": "5aa47f49",
   "metadata": {},
   "outputs": [
    {
     "name": "stdout",
     "output_type": "stream",
     "text": [
      "750/750 [==============================] - 15s 20ms/step - loss: 0.0938 - accuracy: 0.9653\n",
      "\n",
      "Test loss: 0.093771, Test accuracy: 0.965333\n",
      "CPU times: total: 1min 11s\n",
      "Wall time: 15.3 s\n"
     ]
    }
   ],
   "source": [
    "%%time\n",
    "score = model.evaluate(X_test, y_test, batch_size = 10)\n",
    "print('\\nTest loss: %.6f, Test accuracy: %.6f' % tuple(score))"
   ]
  },
  {
   "cell_type": "code",
   "execution_count": 233,
   "id": "d443963e",
   "metadata": {},
   "outputs": [
    {
     "data": {
      "text/plain": [
       "(10,)"
      ]
     },
     "execution_count": 233,
     "metadata": {},
     "output_type": "execute_result"
    }
   ],
   "source": [
    "predArr.shape"
   ]
  },
  {
   "cell_type": "code",
   "execution_count": 234,
   "id": "3fa9c69b",
   "metadata": {},
   "outputs": [
    {
     "data": {
      "text/plain": [
       "(7500,)"
      ]
     },
     "execution_count": 234,
     "metadata": {},
     "output_type": "execute_result"
    }
   ],
   "source": [
    "classes_x.shape"
   ]
  },
  {
   "cell_type": "code",
   "execution_count": 235,
   "id": "ef814b52",
   "metadata": {},
   "outputs": [
    {
     "data": {
      "text/plain": [
       "(7500, 5)"
      ]
     },
     "execution_count": 235,
     "metadata": {},
     "output_type": "execute_result"
    }
   ],
   "source": [
    "y_test.shape"
   ]
  },
  {
   "cell_type": "code",
   "execution_count": 236,
   "id": "02714670",
   "metadata": {},
   "outputs": [
    {
     "data": {
      "text/plain": [
       "(7500, 5)"
      ]
     },
     "execution_count": 236,
     "metadata": {},
     "output_type": "execute_result"
    }
   ],
   "source": [
    "y_test.shape"
   ]
  },
  {
   "cell_type": "code",
   "execution_count": 237,
   "id": "1ef7a2ba",
   "metadata": {},
   "outputs": [],
   "source": [
    "def print_cm(cm):\n",
    "    d_size = max(len('%d' % cm.max()), len('%d' % cm.shape[1]))\n",
    "    if min(cm.shape) > 10: # make sparse\n",
    "        print('Sparse Matrix (*=diagonal)')\n",
    "        fmt_r = 'r%%0%dd' % d_size\n",
    "        fmt_c = ', c%%0%dd%%s= %%%dd' % (d_size, d_size)\n",
    "        for i in range(cm.shape[0]):\n",
    "            s = fmt_r % i\n",
    "            for j in range(cm.shape[1]):\n",
    "                if cm[i, j] > 0:\n",
    "                    s += fmt_c % (j, '*' if i == j else ' ', cm[i, j])\n",
    "            print(s)\n",
    "    else: # make dense\n",
    "        c = '%%%dd ' % d_size\n",
    "        s = '%s| ' % (' ' * d_size)\n",
    "        s += ''.join([c % i for i in range(len(cm[0]))])\n",
    "        print(s)\n",
    "        print('-' * len(s))\n",
    "        for i, r in enumerate(cm):\n",
    "            s = '%2d| ' % i\n",
    "            s += c * len(r)\n",
    "            print(s % tuple(r))"
   ]
  },
  {
   "cell_type": "markdown",
   "id": "12165650",
   "metadata": {},
   "source": [
    "Image Labels:\n",
    "- Lung benign tissue: 3\n",
    "- Lung adenocarcinoma: 2\n",
    "- Lung squamous cell carcinoma: 4\n",
    "- Colon adenocarcinoma: 0\n",
    "- Colon benign tissue: 1"
   ]
  },
  {
   "cell_type": "code",
   "execution_count": 238,
   "id": "94d13351",
   "metadata": {},
   "outputs": [
    {
     "name": "stdout",
     "output_type": "stream",
     "text": [
      "    |    0    1    2    3    4 \n",
      "-------------------------------\n",
      " 0| 1470   28    0    0    0 \n",
      " 1|   19 1506    0    0    0 \n",
      " 2|    6    0 1304    9  148 \n",
      " 3|    0    0   11 1473    0 \n",
      " 4|    2    0   37    0 1487 \n"
     ]
    }
   ],
   "source": [
    "y_test_target = np.array([x.argmax() for x in y_test])\n",
    "cm = confusion_matrix(y_test_target, classes_x)\n",
    "print_cm(cm)"
   ]
  },
  {
   "cell_type": "markdown",
   "id": "11cafef5",
   "metadata": {},
   "source": [
    "### Visualisation of cost"
   ]
  },
  {
   "cell_type": "code",
   "execution_count": 239,
   "id": "c6d977a7",
   "metadata": {},
   "outputs": [
    {
     "data": {
      "image/png": "[encoded data removed]",
      "text/plain": [
       "<Figure size 1296x432 with 2 Axes>"
      ]
     },
     "metadata": {
      "needs_background": "light"
     },
     "output_type": "display_data"
    }
   ],
   "source": [
    "fig, ax = plt.subplots(1, 2, figsize = (18, 6))\n",
    "fig.subplots_adjust(left = 0.02, right = 0.98, wspace = 0.2)\n",
    "\n",
    "plt.rcParams.update({'font.size': 18})\n",
    "\n",
    "# Plot training & validation accuracy values\n",
    "ax[0].plot(history.history['accuracy'], label = 'Training')\n",
    "ax[0].plot(history.history['val_accuracy'], label = 'Validation')\n",
    "ax[0].set_title('Model accuracy')\n",
    "ax[0].set_ylabel('Accuracy')\n",
    "ax[0].set_xlabel('Epoch')\n",
    "ax[0].legend()\n",
    "\n",
    "# Plot training & validation loss values\n",
    "ax[1].plot(history.history['loss'], label = 'Training')\n",
    "ax[1].plot(history.history['val_loss'], label = 'Validation')\n",
    "ax[1].set_title('Model loss')\n",
    "ax[1].set_ylabel('Loss')\n",
    "ax[1].set_xlabel('Epoch')\n",
    "ax[1].legend()\n",
    "\n",
    "plt.show()"
   ]
  },
  {
   "cell_type": "code",
   "execution_count": null,
   "id": "d6a7122a",
   "metadata": {},
   "outputs": [],
   "source": []
  }
 ],
 "metadata": {
  "kernelspec": {
   "display_name": "Python 3 (ipykernel)",
   "language": "python",
   "name": "python3"
  },
  "language_info": {
   "codemirror_mode": {
    "name": "ipython",
    "version": 3
   },
   "file_extension": ".py",
   "mimetype": "text/x-python",
   "name": "python",
   "nbconvert_exporter": "python",
   "pygments_lexer": "ipython3",
   "version": "3.10.4"
  }
 },
 "nbformat": 4,
 "nbformat_minor": 5
}
