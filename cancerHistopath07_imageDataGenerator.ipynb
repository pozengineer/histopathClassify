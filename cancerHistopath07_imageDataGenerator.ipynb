{
 "cells": [
  {
   "cell_type": "markdown",
   "id": "314918a4",
   "metadata": {},
   "source": [
    "## Capstone- Cancer Histopathology: Image Data Generator"
   ]
  },
  {
   "cell_type": "markdown",
   "id": "bd859a50",
   "metadata": {},
   "source": [
    "Dataset:\n",
    "- A. Borkowski, \"Lung and Colon Cancer Histopathological Images\", Kaggle.com, 2020. [Online]. Available: https://www.kaggle.com/datasets/andrewmvd/lung-and-colon-cancer-histopathological-images. [Accessed: 30- Jul- 2022]."
   ]
  },
  {
   "cell_type": "markdown",
   "id": "23a85b27",
   "metadata": {},
   "source": [
    "Sources:\n",
    "- Borkowski AA, Bui MM, Thomas LB, Wilson CP, DeLand LA, Mastorides SM. Lung and Colon Cancer Histopathological Image Dataset (LC25000). arXiv:1912.12142v1 [eess.IV], 2019"
   ]
  },
  {
   "cell_type": "markdown",
   "id": "097655f0",
   "metadata": {},
   "source": [
    "Image Labels:\n",
    "- Lung benign tissue: 3\n",
    "- Lung adenocarcinoma: 2\n",
    "- Lung squamous cell carcinoma: 4\n",
    "- Colon adenocarcinoma: 0\n",
    "- Colon benign tissue: 1"
   ]
  },
  {
   "cell_type": "markdown",
   "id": "6fb75b02",
   "metadata": {},
   "source": [
    "### Import Libraries"
   ]
  },
  {
   "cell_type": "code",
   "execution_count": 1,
   "id": "6c2baf60",
   "metadata": {},
   "outputs": [],
   "source": [
    "## Import Libraries\n",
    "import numpy as np\n",
    "import pandas as pd\n",
    "from pathlib import Path\n",
    "import time\n",
    "import math\n",
    "\n",
    "# import keras\n",
    "from keras.models import Sequential\n",
    "from keras.layers import Dense\n",
    "from keras.layers import Conv2D\n",
    "from keras.layers import Flatten\n",
    "from keras.utils import to_categorical\n",
    "from tensorflow.keras import datasets, layers, models\n",
    "from sklearn.model_selection import train_test_split\n",
    "from sklearn.metrics import confusion_matrix\n",
    "import matplotlib.pyplot as plt\n",
    "\n",
    "import warnings\n",
    "warnings.filterwarnings('ignore')\n",
    "\n",
    "%matplotlib inline"
   ]
  },
  {
   "cell_type": "markdown",
   "id": "ebc9f416",
   "metadata": {},
   "source": [
    "### Load Data"
   ]
  },
  {
   "cell_type": "code",
   "execution_count": 2,
   "id": "0f972fb4",
   "metadata": {},
   "outputs": [],
   "source": [
    "import PIL\n",
    "from PIL import Image\n",
    "import glob\n",
    "import cv2\n",
    "import os, os.path\n",
    "from numpy import asarray\n",
    "\n",
    "import keras\n",
    "import tensorflow as tf\n",
    "from tensorflow.keras.preprocessing.image import load_img\n",
    "from tensorflow.keras.preprocessing.image import img_to_array\n",
    "from tensorflow.keras.preprocessing.image import array_to_img\n",
    "from sklearn.metrics import mean_squared_error\n",
    "from sklearn.model_selection import cross_val_score\n",
    "\n",
    "from IPython.display import display, HTML\n",
    "import pymongo\n",
    "from pymongo import MongoClient\n",
    "import io\n",
    "from bson.binary import Binary"
   ]
  },
  {
   "cell_type": "markdown",
   "id": "a84b67c8",
   "metadata": {},
   "source": [
    "### Data Preprocessing"
   ]
  },
  {
   "cell_type": "code",
   "execution_count": 3,
   "id": "2d3b2c7a",
   "metadata": {},
   "outputs": [],
   "source": [
    "from tensorflow.keras.preprocessing.image import ImageDataGenerator"
   ]
  },
  {
   "cell_type": "code",
   "execution_count": 4,
   "id": "b4179a5e",
   "metadata": {
    "scrolled": true
   },
   "outputs": [
    {
     "name": "stdout",
     "output_type": "stream",
     "text": [
      "Found 17500 images belonging to 5 classes.\n",
      "Found 7500 images belonging to 5 classes.\n"
     ]
    }
   ],
   "source": [
    "data_dir = \"./lung_colon_image_set/lung_image_sets\"\n",
    "\n",
    "# 80-20 Split\n",
    "data = ImageDataGenerator(validation_split = 0.3)\n",
    "\n",
    "BATCH_SIZE = 128\n",
    "\n",
    "# 224 x 224 -- The minimum for EfficientNetB7, you can go as high as 600 x 600\n",
    "X = Y = 96\n",
    "\n",
    "train_ds = data.flow_from_directory(data_dir,\n",
    "                                    class_mode = \"categorical\",\n",
    "                                    target_size = (X, Y),\n",
    "                                    color_mode=\"rgb\",\n",
    "                                    batch_size = BATCH_SIZE, \n",
    "                                    shuffle = False,\n",
    "                                    subset='training',\n",
    "                                    seed = 42)\n",
    "\n",
    "validation = data.flow_from_directory(data_dir,\n",
    "                                      class_mode = \"categorical\",\n",
    "                                      target_size = (X, Y),\n",
    "                                      color_mode=\"rgb\",\n",
    "                                      batch_size = BATCH_SIZE, \n",
    "                                      shuffle = False,\n",
    "                                      subset='validation',\n",
    "                                      seed = 42)"
   ]
  },
  {
   "cell_type": "code",
   "execution_count": 5,
   "id": "5d2af346",
   "metadata": {},
   "outputs": [
    {
     "data": {
      "text/plain": [
       "(128, 128, 3)"
      ]
     },
     "execution_count": 5,
     "metadata": {},
     "output_type": "execute_result"
    }
   ],
   "source": [
    "train_ds[0][0][0].shape"
   ]
  },
  {
   "cell_type": "code",
   "execution_count": 6,
   "id": "8a39cf08",
   "metadata": {},
   "outputs": [
    {
     "data": {
      "text/plain": [
       "0"
      ]
     },
     "execution_count": 6,
     "metadata": {},
     "output_type": "execute_result"
    }
   ],
   "source": [
    "train_ds.labels[1]"
   ]
  },
  {
   "cell_type": "code",
   "execution_count": 7,
   "id": "0ca0675d",
   "metadata": {},
   "outputs": [
    {
     "name": "stdout",
     "output_type": "stream",
     "text": [
      "{'colon_aca': 0, 'colon_n': 1, 'lung_aca': 2, 'lung_n': 3, 'lung_scc': 4}\n",
      "['colon_aca', 'colon_n', 'lung_aca', 'lung_n', 'lung_scc']\n",
      "[0, 1, 2, 3, 4]\n"
     ]
    }
   ],
   "source": [
    "dataPath= \"./lung_colon_image_set/lung_image_sets\"\n",
    "categories= os.listdir(dataPath)\n",
    "labels= [i for i in range(len(categories))]\n",
    "# empty dictionary\n",
    "labelDict= dict(zip(categories, labels))\n",
    "\n",
    "print(labelDict)\n",
    "print(categories)\n",
    "print(labels)"
   ]
  },
  {
   "cell_type": "code",
   "execution_count": 8,
   "id": "9dacafde",
   "metadata": {
    "scrolled": true
   },
   "outputs": [],
   "source": [
    "# %%time\n",
    "# imgSize= 96\n",
    "# data= []\n",
    "# target= []\n",
    "# tupleArr= []\n",
    "# for category in categories:\n",
    "#     folderPath= os.path.join(dataPath, category)\n",
    "#     imgNames= os.listdir(folderPath)\n",
    "    \n",
    "#     for imgName in imgNames:\n",
    "#         imgPath= os.path.join(folderPath, imgName)\n",
    "#         img= Image.open(imgPath)\n",
    "    \n",
    "#         try:\n",
    "#             resized= np.array(img.resize((imgSize, imgSize)))\n",
    "#             data.append(resized)\n",
    "#             target.append(labelDict[category])\n",
    "#             tupleGrp= (resized, labelDict[category])\n",
    "#             tupleArr.append(tupleGrp)\n",
    "#         except Exception as e:\n",
    "#             print('Exception:', e)"
   ]
  },
  {
   "cell_type": "code",
   "execution_count": 9,
   "id": "9ccc3809",
   "metadata": {},
   "outputs": [],
   "source": [
    "# np.save('data96.npy', data)\n",
    "# np.save('target96.npy', target)\n",
    "# np.save('tupleData96.npy', tupleArr)"
   ]
  },
  {
   "cell_type": "code",
   "execution_count": 10,
   "id": "7218a999",
   "metadata": {},
   "outputs": [],
   "source": [
    "imageArr= np.load('data96.npy', allow_pickle= True)\n",
    "targetArr= np.load('target96.npy', allow_pickle= True)\n",
    "tupleData= np.load('tupleData96.npy', allow_pickle= True)"
   ]
  },
  {
   "cell_type": "code",
   "execution_count": 11,
   "id": "6b1446ec",
   "metadata": {},
   "outputs": [
    {
     "name": "stdout",
     "output_type": "stream",
     "text": [
      "Pillow Version: 9.1.0\n"
     ]
    }
   ],
   "source": [
    "# check Pillow version number\n",
    "print('Pillow Version:', PIL.__version__)"
   ]
  },
  {
   "cell_type": "code",
   "execution_count": 12,
   "id": "4d225120",
   "metadata": {
    "scrolled": false
   },
   "outputs": [
    {
     "data": {
      "text/html": [
       "<div>\n",
       "<style scoped>\n",
       "    .dataframe tbody tr th:only-of-type {\n",
       "        vertical-align: middle;\n",
       "    }\n",
       "\n",
       "    .dataframe tbody tr th {\n",
       "        vertical-align: top;\n",
       "    }\n",
       "\n",
       "    .dataframe thead th {\n",
       "        text-align: right;\n",
       "    }\n",
       "</style>\n",
       "<table border=\"1\" class=\"dataframe\">\n",
       "  <thead>\n",
       "    <tr style=\"text-align: right;\">\n",
       "      <th></th>\n",
       "      <th>imageVector</th>\n",
       "      <th>label</th>\n",
       "    </tr>\n",
       "  </thead>\n",
       "  <tbody>\n",
       "    <tr>\n",
       "      <th>0</th>\n",
       "      <td>[[[249, 205, 236], [238, 197, 233], [244, 233,...</td>\n",
       "      <td>0</td>\n",
       "    </tr>\n",
       "    <tr>\n",
       "      <th>1</th>\n",
       "      <td>[[[221, 185, 239], [219, 185, 230], [229, 199,...</td>\n",
       "      <td>0</td>\n",
       "    </tr>\n",
       "    <tr>\n",
       "      <th>2</th>\n",
       "      <td>[[[253, 254, 249], [254, 255, 250], [254, 255,...</td>\n",
       "      <td>0</td>\n",
       "    </tr>\n",
       "    <tr>\n",
       "      <th>3</th>\n",
       "      <td>[[[237, 220, 231], [238, 223, 232], [211, 200,...</td>\n",
       "      <td>0</td>\n",
       "    </tr>\n",
       "    <tr>\n",
       "      <th>4</th>\n",
       "      <td>[[[249, 137, 196], [251, 165, 218], [248, 180,...</td>\n",
       "      <td>0</td>\n",
       "    </tr>\n",
       "  </tbody>\n",
       "</table>\n",
       "</div>"
      ],
      "text/plain": [
       "                                         imageVector label\n",
       "0  [[[249, 205, 236], [238, 197, 233], [244, 233,...     0\n",
       "1  [[[221, 185, 239], [219, 185, 230], [229, 199,...     0\n",
       "2  [[[253, 254, 249], [254, 255, 250], [254, 255,...     0\n",
       "3  [[[237, 220, 231], [238, 223, 232], [211, 200,...     0\n",
       "4  [[[249, 137, 196], [251, 165, 218], [248, 180,...     0"
      ]
     },
     "execution_count": 12,
     "metadata": {},
     "output_type": "execute_result"
    }
   ],
   "source": [
    "dfMergeData= pd.DataFrame(np.load('tupleData96.npy', allow_pickle= True), columns=['imageVector', 'label'])\n",
    "dfMergeData.head()"
   ]
  },
  {
   "cell_type": "code",
   "execution_count": 13,
   "id": "ee301af2",
   "metadata": {},
   "outputs": [],
   "source": [
    "# def imageFromArray(imgFile):\n",
    "#     data= array_to_img(imgFile)\n",
    "#     return data"
   ]
  },
  {
   "cell_type": "code",
   "execution_count": 14,
   "id": "196353c5",
   "metadata": {},
   "outputs": [],
   "source": [
    "# dfMergeData['backToImage']= dfMergeData['imageVector'].apply(lambda x: imageFromArray(x))"
   ]
  },
  {
   "cell_type": "code",
   "execution_count": 15,
   "id": "82e63bb9",
   "metadata": {},
   "outputs": [],
   "source": [
    "# dfMergeData.head()"
   ]
  },
  {
   "cell_type": "code",
   "execution_count": 16,
   "id": "fb2e6d83",
   "metadata": {},
   "outputs": [],
   "source": [
    "# dfMergeData['label'][5000]"
   ]
  },
  {
   "cell_type": "code",
   "execution_count": 17,
   "id": "3daea08b",
   "metadata": {},
   "outputs": [],
   "source": [
    "# dfMergeData['backToImage'][5000]"
   ]
  },
  {
   "cell_type": "code",
   "execution_count": 18,
   "id": "5bcece3b",
   "metadata": {},
   "outputs": [
    {
     "data": {
      "text/html": [
       "<div>\n",
       "<style scoped>\n",
       "    .dataframe tbody tr th:only-of-type {\n",
       "        vertical-align: middle;\n",
       "    }\n",
       "\n",
       "    .dataframe tbody tr th {\n",
       "        vertical-align: top;\n",
       "    }\n",
       "\n",
       "    .dataframe thead th {\n",
       "        text-align: right;\n",
       "    }\n",
       "</style>\n",
       "<table border=\"1\" class=\"dataframe\">\n",
       "  <thead>\n",
       "    <tr style=\"text-align: right;\">\n",
       "      <th></th>\n",
       "      <th>imageVector</th>\n",
       "      <th>label</th>\n",
       "    </tr>\n",
       "  </thead>\n",
       "  <tbody>\n",
       "    <tr>\n",
       "      <th>24056</th>\n",
       "      <td>[[[201, 203, 202], [202, 204, 203], [202, 204,...</td>\n",
       "      <td>3</td>\n",
       "    </tr>\n",
       "    <tr>\n",
       "      <th>16107</th>\n",
       "      <td>[[[194, 170, 223], [175, 157, 219], [184, 167,...</td>\n",
       "      <td>0</td>\n",
       "    </tr>\n",
       "    <tr>\n",
       "      <th>19627</th>\n",
       "      <td>[[[174, 165, 233], [129, 115, 215], [84, 62, 2...</td>\n",
       "      <td>2</td>\n",
       "    </tr>\n",
       "    <tr>\n",
       "      <th>2869</th>\n",
       "      <td>[[[147, 130, 249], [149, 135, 252], [131, 104,...</td>\n",
       "      <td>4</td>\n",
       "    </tr>\n",
       "    <tr>\n",
       "      <th>17939</th>\n",
       "      <td>[[[148, 125, 204], [156, 115, 210], [176, 142,...</td>\n",
       "      <td>1</td>\n",
       "    </tr>\n",
       "    <tr>\n",
       "      <th>16071</th>\n",
       "      <td>[[[211, 205, 207], [211, 205, 211], [212, 206,...</td>\n",
       "      <td>3</td>\n",
       "    </tr>\n",
       "    <tr>\n",
       "      <th>8826</th>\n",
       "      <td>[[[162, 122, 234], [157, 115, 235], [155, 109,...</td>\n",
       "      <td>4</td>\n",
       "    </tr>\n",
       "    <tr>\n",
       "      <th>6936</th>\n",
       "      <td>[[[219, 199, 184], [214, 188, 183], [203, 164,...</td>\n",
       "      <td>3</td>\n",
       "    </tr>\n",
       "    <tr>\n",
       "      <th>19657</th>\n",
       "      <td>[[[196, 60, 173], [193, 56, 171], [198, 109, 2...</td>\n",
       "      <td>4</td>\n",
       "    </tr>\n",
       "    <tr>\n",
       "      <th>12622</th>\n",
       "      <td>[[[252, 241, 248], [243, 222, 245], [225, 188,...</td>\n",
       "      <td>1</td>\n",
       "    </tr>\n",
       "  </tbody>\n",
       "</table>\n",
       "</div>"
      ],
      "text/plain": [
       "                                             imageVector label\n",
       "24056  [[[201, 203, 202], [202, 204, 203], [202, 204,...     3\n",
       "16107  [[[194, 170, 223], [175, 157, 219], [184, 167,...     0\n",
       "19627  [[[174, 165, 233], [129, 115, 215], [84, 62, 2...     2\n",
       "2869   [[[147, 130, 249], [149, 135, 252], [131, 104,...     4\n",
       "17939  [[[148, 125, 204], [156, 115, 210], [176, 142,...     1\n",
       "16071  [[[211, 205, 207], [211, 205, 211], [212, 206,...     3\n",
       "8826   [[[162, 122, 234], [157, 115, 235], [155, 109,...     4\n",
       "6936   [[[219, 199, 184], [214, 188, 183], [203, 164,...     3\n",
       "19657  [[[196, 60, 173], [193, 56, 171], [198, 109, 2...     4\n",
       "12622  [[[252, 241, 248], [243, 222, 245], [225, 188,...     1"
      ]
     },
     "execution_count": 18,
     "metadata": {},
     "output_type": "execute_result"
    }
   ],
   "source": [
    "dfData= dfMergeData.sample(frac=1).reset_index(drop= True)\n",
    "dfData.sample(10)"
   ]
  },
  {
   "cell_type": "code",
   "execution_count": 19,
   "id": "e9706572",
   "metadata": {},
   "outputs": [],
   "source": [
    "dfArr= []\n",
    "for i in dfData.values:\n",
    "    dfArr.append(i)"
   ]
  },
  {
   "cell_type": "code",
   "execution_count": 20,
   "id": "69582a82",
   "metadata": {},
   "outputs": [],
   "source": [
    "np.save('shuffledData96.npy', dfArr)"
   ]
  },
  {
   "cell_type": "code",
   "execution_count": 22,
   "id": "5f8fa7ba",
   "metadata": {},
   "outputs": [
    {
     "data": {
      "text/html": [
       "<div>\n",
       "<style scoped>\n",
       "    .dataframe tbody tr th:only-of-type {\n",
       "        vertical-align: middle;\n",
       "    }\n",
       "\n",
       "    .dataframe tbody tr th {\n",
       "        vertical-align: top;\n",
       "    }\n",
       "\n",
       "    .dataframe thead th {\n",
       "        text-align: right;\n",
       "    }\n",
       "</style>\n",
       "<table border=\"1\" class=\"dataframe\">\n",
       "  <thead>\n",
       "    <tr style=\"text-align: right;\">\n",
       "      <th></th>\n",
       "      <th>imageVector</th>\n",
       "      <th>label</th>\n",
       "    </tr>\n",
       "  </thead>\n",
       "  <tbody>\n",
       "    <tr>\n",
       "      <th>0</th>\n",
       "      <td>[[[201, 205, 208], [201, 205, 208], [203, 204,...</td>\n",
       "      <td>3</td>\n",
       "    </tr>\n",
       "    <tr>\n",
       "      <th>1</th>\n",
       "      <td>[[[234, 210, 228], [237, 217, 234], [232, 214,...</td>\n",
       "      <td>1</td>\n",
       "    </tr>\n",
       "    <tr>\n",
       "      <th>2</th>\n",
       "      <td>[[[173, 133, 238], [160, 119, 233], [150, 110,...</td>\n",
       "      <td>2</td>\n",
       "    </tr>\n",
       "    <tr>\n",
       "      <th>3</th>\n",
       "      <td>[[[143, 79, 199], [127, 70, 194], [126, 61, 19...</td>\n",
       "      <td>1</td>\n",
       "    </tr>\n",
       "    <tr>\n",
       "      <th>4</th>\n",
       "      <td>[[[220, 169, 231], [248, 232, 245], [255, 255,...</td>\n",
       "      <td>1</td>\n",
       "    </tr>\n",
       "  </tbody>\n",
       "</table>\n",
       "</div>"
      ],
      "text/plain": [
       "                                         imageVector label\n",
       "0  [[[201, 205, 208], [201, 205, 208], [203, 204,...     3\n",
       "1  [[[234, 210, 228], [237, 217, 234], [232, 214,...     1\n",
       "2  [[[173, 133, 238], [160, 119, 233], [150, 110,...     2\n",
       "3  [[[143, 79, 199], [127, 70, 194], [126, 61, 19...     1\n",
       "4  [[[220, 169, 231], [248, 232, 245], [255, 255,...     1"
      ]
     },
     "execution_count": 22,
     "metadata": {},
     "output_type": "execute_result"
    }
   ],
   "source": [
    "dfShuffledData= pd.DataFrame(np.load('shuffledData96.npy', allow_pickle= True),\n",
    "                             columns=['imageVector', 'label'])\n",
    "dfShuffledData.head()"
   ]
  },
  {
   "cell_type": "code",
   "execution_count": 23,
   "id": "be39fae6",
   "metadata": {
    "scrolled": true
   },
   "outputs": [
    {
     "data": {
      "text/plain": [
       "3    5000\n",
       "1    5000\n",
       "2    5000\n",
       "4    5000\n",
       "0    5000\n",
       "Name: label, dtype: int64"
      ]
     },
     "execution_count": 23,
     "metadata": {},
     "output_type": "execute_result"
    }
   ],
   "source": [
    "dfShuffledData['label'].value_counts()"
   ]
  },
  {
   "cell_type": "code",
   "execution_count": 24,
   "id": "0e58a541",
   "metadata": {},
   "outputs": [],
   "source": [
    "def normalizeImage(image):\n",
    "    imgVect= image/ 255.0\n",
    "    return imgVect"
   ]
  },
  {
   "cell_type": "code",
   "execution_count": 25,
   "id": "4a924cfc",
   "metadata": {},
   "outputs": [],
   "source": [
    "def imageFromArray(imgFile):\n",
    "    data= array_to_img(imgFile)\n",
    "    return data"
   ]
  },
  {
   "cell_type": "code",
   "execution_count": 26,
   "id": "c2035806",
   "metadata": {},
   "outputs": [],
   "source": [
    "dfShuffledData['scaledImage']= dfShuffledData['imageVector'].apply(normalizeImage)\n",
    "dfShuffledData['backToImage']= dfShuffledData['scaledImage'].apply(lambda x: imageFromArray(x))"
   ]
  },
  {
   "cell_type": "code",
   "execution_count": 27,
   "id": "045636b5",
   "metadata": {},
   "outputs": [
    {
     "data": {
      "text/html": [
       "<div>\n",
       "<style scoped>\n",
       "    .dataframe tbody tr th:only-of-type {\n",
       "        vertical-align: middle;\n",
       "    }\n",
       "\n",
       "    .dataframe tbody tr th {\n",
       "        vertical-align: top;\n",
       "    }\n",
       "\n",
       "    .dataframe thead th {\n",
       "        text-align: right;\n",
       "    }\n",
       "</style>\n",
       "<table border=\"1\" class=\"dataframe\">\n",
       "  <thead>\n",
       "    <tr style=\"text-align: right;\">\n",
       "      <th></th>\n",
       "      <th>imageVector</th>\n",
       "      <th>label</th>\n",
       "      <th>scaledImage</th>\n",
       "      <th>backToImage</th>\n",
       "    </tr>\n",
       "  </thead>\n",
       "  <tbody>\n",
       "    <tr>\n",
       "      <th>0</th>\n",
       "      <td>[[[201, 205, 208], [201, 205, 208], [203, 204,...</td>\n",
       "      <td>3</td>\n",
       "      <td>[[[0.788235294117647, 0.803921568627451, 0.815...</td>\n",
       "      <td>&lt;PIL.Image.Image image mode=RGB size=96x96 at ...</td>\n",
       "    </tr>\n",
       "    <tr>\n",
       "      <th>1</th>\n",
       "      <td>[[[234, 210, 228], [237, 217, 234], [232, 214,...</td>\n",
       "      <td>1</td>\n",
       "      <td>[[[0.9176470588235294, 0.8235294117647058, 0.8...</td>\n",
       "      <td>&lt;PIL.Image.Image image mode=RGB size=96x96 at ...</td>\n",
       "    </tr>\n",
       "    <tr>\n",
       "      <th>2</th>\n",
       "      <td>[[[173, 133, 238], [160, 119, 233], [150, 110,...</td>\n",
       "      <td>2</td>\n",
       "      <td>[[[0.6784313725490196, 0.5215686274509804, 0.9...</td>\n",
       "      <td>&lt;PIL.Image.Image image mode=RGB size=96x96 at ...</td>\n",
       "    </tr>\n",
       "    <tr>\n",
       "      <th>3</th>\n",
       "      <td>[[[143, 79, 199], [127, 70, 194], [126, 61, 19...</td>\n",
       "      <td>1</td>\n",
       "      <td>[[[0.5607843137254902, 0.30980392156862746, 0....</td>\n",
       "      <td>&lt;PIL.Image.Image image mode=RGB size=96x96 at ...</td>\n",
       "    </tr>\n",
       "    <tr>\n",
       "      <th>4</th>\n",
       "      <td>[[[220, 169, 231], [248, 232, 245], [255, 255,...</td>\n",
       "      <td>1</td>\n",
       "      <td>[[[0.8627450980392157, 0.6627450980392157, 0.9...</td>\n",
       "      <td>&lt;PIL.Image.Image image mode=RGB size=96x96 at ...</td>\n",
       "    </tr>\n",
       "  </tbody>\n",
       "</table>\n",
       "</div>"
      ],
      "text/plain": [
       "                                         imageVector label  \\\n",
       "0  [[[201, 205, 208], [201, 205, 208], [203, 204,...     3   \n",
       "1  [[[234, 210, 228], [237, 217, 234], [232, 214,...     1   \n",
       "2  [[[173, 133, 238], [160, 119, 233], [150, 110,...     2   \n",
       "3  [[[143, 79, 199], [127, 70, 194], [126, 61, 19...     1   \n",
       "4  [[[220, 169, 231], [248, 232, 245], [255, 255,...     1   \n",
       "\n",
       "                                         scaledImage  \\\n",
       "0  [[[0.788235294117647, 0.803921568627451, 0.815...   \n",
       "1  [[[0.9176470588235294, 0.8235294117647058, 0.8...   \n",
       "2  [[[0.6784313725490196, 0.5215686274509804, 0.9...   \n",
       "3  [[[0.5607843137254902, 0.30980392156862746, 0....   \n",
       "4  [[[0.8627450980392157, 0.6627450980392157, 0.9...   \n",
       "\n",
       "                                         backToImage  \n",
       "0  <PIL.Image.Image image mode=RGB size=96x96 at ...  \n",
       "1  <PIL.Image.Image image mode=RGB size=96x96 at ...  \n",
       "2  <PIL.Image.Image image mode=RGB size=96x96 at ...  \n",
       "3  <PIL.Image.Image image mode=RGB size=96x96 at ...  \n",
       "4  <PIL.Image.Image image mode=RGB size=96x96 at ...  "
      ]
     },
     "execution_count": 27,
     "metadata": {},
     "output_type": "execute_result"
    }
   ],
   "source": [
    "dfShuffledData.head()"
   ]
  },
  {
   "cell_type": "code",
   "execution_count": 30,
   "id": "25077105",
   "metadata": {},
   "outputs": [
    {
     "name": "stdout",
     "output_type": "stream",
     "text": [
      "CPU times: total: 28.1 s\n",
      "Wall time: 28.2 s\n"
     ]
    },
    {
     "data": {
      "text/plain": [
       "(25000, 96, 96, 3)"
      ]
     },
     "execution_count": 30,
     "metadata": {},
     "output_type": "execute_result"
    }
   ],
   "source": [
    "%%time\n",
    "imgVectData= np.array(dfShuffledData['scaledImage'].tolist())\n",
    "imgVectData.shape"
   ]
  },
  {
   "cell_type": "code",
   "execution_count": 31,
   "id": "330e9897",
   "metadata": {},
   "outputs": [
    {
     "data": {
      "text/plain": [
       "(25000, 5)"
      ]
     },
     "execution_count": 31,
     "metadata": {},
     "output_type": "execute_result"
    }
   ],
   "source": [
    "labelData= to_categorical(dfShuffledData['label'].values.reshape(25000, 1))\n",
    "labelData.shape"
   ]
  },
  {
   "cell_type": "code",
   "execution_count": 32,
   "id": "c6373fd1",
   "metadata": {},
   "outputs": [],
   "source": [
    "from keras.wrappers.scikit_learn import KerasClassifier\n",
    "from scikeras.wrappers import KerasRegressor\n",
    "from keras.layers import BatchNormalization"
   ]
  },
  {
   "cell_type": "code",
   "execution_count": 33,
   "id": "ee4bfd44",
   "metadata": {},
   "outputs": [],
   "source": [
    "from sklearn.base import BaseEstimator, TransformerMixin"
   ]
  },
  {
   "cell_type": "code",
   "execution_count": 34,
   "id": "4d992937",
   "metadata": {},
   "outputs": [],
   "source": [
    "def baseline_model02():\n",
    "    # create model\n",
    "    model= Sequential()\n",
    "    model.add(layers.Conv2D(16, (3, 3), activation= 'relu', data_format= 'channels_last',\n",
    "                            padding= 'valid' ,input_shape= (96, 96, 3)))\n",
    "    model.add(BatchNormalization(momentum= 0.01))\n",
    "    model.add(layers.MaxPooling2D((3, 3)))\n",
    "    model.add(layers.Dropout(0.2))\n",
    "    model.add(layers.Conv2D(64, (3, 3), activation= 'relu'))\n",
    "    model.add(layers.Dropout(0.2))\n",
    "    model.add(layers.Flatten())\n",
    "    model.add(layers.Dense(32, activation='relu'))\n",
    "    model.add(layers.Dropout(0.2))\n",
    "    model.add(layers.Dense(5, activation='softmax'))\n",
    "    # Compile model\n",
    "    model.compile(\n",
    "        optimizer= 'adam',\n",
    "        loss= 'categorical_crossentropy',\n",
    "        metrics= ['accuracy'])\n",
    "    return model\n",
    "\n",
    "# evaluate model\n",
    "clf= KerasClassifier(baseline_model02, validation_split= 0.3, epochs= 5, batch_size= 20, verbose= 1)"
   ]
  },
  {
   "cell_type": "code",
   "execution_count": 35,
   "id": "c49521b3",
   "metadata": {},
   "outputs": [],
   "source": [
    "def baseline_model03():\n",
    "    # create model\n",
    "    model= Sequential()\n",
    "#     model.add(layers.Conv2D(32, (1, 1), activation= 'relu', data_format= 'channels_last',\n",
    "#                         padding= 'valid' ,input_shape= rzImageArr.shape[1:]))\n",
    "    model.add(layers.Conv2D(32, (1, 1), activation= 'relu',input_shape= ImageArr.shape[1:]))\n",
    "    model.add(layers.Conv2D(32, (1, 1), activation= 'relu'))\n",
    "    model.add(layers.MaxPooling2D((2, 2)))\n",
    "    model.add(layers.Conv2D(64, (3, 3), activation= 'relu'))\n",
    "    model.add(layers.MaxPooling2D((2, 2)))\n",
    "    model.add(layers.Conv2D(64, (3, 3), activation='relu'))\n",
    "    model.add(layers.MaxPooling2D((2, 2)))\n",
    "    model.add(layers.Conv2D(16, (3, 3), activation='relu'))\n",
    "    model.add(layers.Flatten())\n",
    "    model.add(layers.Dense(64, activation='relu'))\n",
    "#     model.add(layers.Dropout(0.2))\n",
    "    # model.add(layers.Dense(64, activation='relu'))\n",
    "    # model.add(layers.Dropout(0.2))\n",
    "#     model.add(layers.Dense(32, activation='relu'))\n",
    "    model.add(layers.Dense(5, activation='softmax'))\n",
    "    # Compile model\n",
    "    model.compile(\n",
    "        optimizer= 'adam',\n",
    "        loss= 'categorical_crossentropy',\n",
    "        metrics= ['accuracy'])\n",
    "    return model\n",
    "\n",
    "# evaluate model\n",
    "clf01= KerasClassifier(baseline_model03, validation_split= 0.3, epochs= 20, batch_size= 10, verbose= 1)"
   ]
  },
  {
   "cell_type": "code",
   "execution_count": 36,
   "id": "686e88f6",
   "metadata": {},
   "outputs": [],
   "source": [
    "class preprocessor(TransformerMixin, BaseEstimator):\n",
    "    def __init__(self):\n",
    "        pass\n",
    "\n",
    "    def fit(self, X, y= None):\n",
    "        return self\n",
    "\n",
    "    def transform(self, X):\n",
    "        return [X/ 255.0]"
   ]
  },
  {
   "cell_type": "code",
   "execution_count": 37,
   "id": "c5f6907a",
   "metadata": {},
   "outputs": [],
   "source": [
    "from sklearn.pipeline import make_pipeline"
   ]
  },
  {
   "cell_type": "code",
   "execution_count": 38,
   "id": "71ffdbf7",
   "metadata": {
    "scrolled": true
   },
   "outputs": [
    {
     "name": "stdout",
     "output_type": "stream",
     "text": [
      "Epoch 1/5\n",
      "875/875 [==============================] - 125s 139ms/step - loss: 0.5173 - accuracy: 0.7723 - val_loss: 0.6008 - val_accuracy: 0.7652\n",
      "Epoch 2/5\n",
      "875/875 [==============================] - 127s 145ms/step - loss: 0.3268 - accuracy: 0.8706 - val_loss: 0.3727 - val_accuracy: 0.8520\n",
      "Epoch 3/5\n",
      "875/875 [==============================] - 129s 148ms/step - loss: 0.2394 - accuracy: 0.9064 - val_loss: 0.1890 - val_accuracy: 0.9191\n",
      "Epoch 4/5\n",
      "875/875 [==============================] - 127s 145ms/step - loss: 0.1991 - accuracy: 0.9226 - val_loss: 0.2962 - val_accuracy: 0.8891\n",
      "Epoch 5/5\n",
      "875/875 [==============================] - 131s 150ms/step - loss: 0.1676 - accuracy: 0.9346 - val_loss: 0.2127 - val_accuracy: 0.9232\n",
      "CPU times: total: 43min 36s\n",
      "Wall time: 10min 59s\n"
     ]
    },
    {
     "data": {
      "text/plain": [
       "Pipeline(steps=[('preprocessor', preprocessor()),\n",
       "                ('kerasclassifier',\n",
       "                 <keras.wrappers.scikit_learn.KerasClassifier object at 0x0000017F0BE15CF0>)])"
      ]
     },
     "execution_count": 38,
     "metadata": {},
     "output_type": "execute_result"
    }
   ],
   "source": [
    "%%time\n",
    "pipe= make_pipeline(preprocessor(), clf)\n",
    "pipe.fit(imgVectData, labelData)"
   ]
  },
  {
   "cell_type": "code",
   "execution_count": 39,
   "id": "3322780f",
   "metadata": {},
   "outputs": [],
   "source": [
    "rzImageArr= []\n",
    "for filename in glob.glob('./lung_colon_image_set/testImageSet/*.jpeg'): #assuming jpeg\n",
    "    im= Image.open(filename)\n",
    "    rzImage= np.array(im.resize((96, 96)))\n",
    "    rzImageArr.append(rzImage)"
   ]
  },
  {
   "cell_type": "code",
   "execution_count": 40,
   "id": "2676bc65",
   "metadata": {},
   "outputs": [
    {
     "name": "stdout",
     "output_type": "stream",
     "text": [
      "CPU times: total: 15.6 ms\n",
      "Wall time: 52.3 ms\n"
     ]
    },
    {
     "data": {
      "text/plain": [
       "[<PIL.Image.Image image mode=RGB size=96x96>,\n",
       " <PIL.Image.Image image mode=RGB size=96x96>,\n",
       " <PIL.Image.Image image mode=RGB size=96x96>,\n",
       " <PIL.Image.Image image mode=RGB size=96x96>,\n",
       " <PIL.Image.Image image mode=RGB size=96x96>,\n",
       " <PIL.Image.Image image mode=RGB size=96x96>,\n",
       " <PIL.Image.Image image mode=RGB size=96x96>,\n",
       " <PIL.Image.Image image mode=RGB size=96x96>,\n",
       " <PIL.Image.Image image mode=RGB size=96x96>,\n",
       " <PIL.Image.Image image mode=RGB size=96x96>]"
      ]
     },
     "execution_count": 40,
     "metadata": {},
     "output_type": "execute_result"
    }
   ],
   "source": [
    "%%time\n",
    "imageList= []\n",
    "for i in rzImageArr:\n",
    "    image= Image.fromarray(i)\n",
    "    imageList.append(image)\n",
    "imageList"
   ]
  },
  {
   "cell_type": "code",
   "execution_count": 41,
   "id": "edb8657d",
   "metadata": {},
   "outputs": [
    {
     "data": {
      "text/html": [
       "<div>\n",
       "<style scoped>\n",
       "    .dataframe tbody tr th:only-of-type {\n",
       "        vertical-align: middle;\n",
       "    }\n",
       "\n",
       "    .dataframe tbody tr th {\n",
       "        vertical-align: top;\n",
       "    }\n",
       "\n",
       "    .dataframe thead th {\n",
       "        text-align: right;\n",
       "    }\n",
       "</style>\n",
       "<table border=\"1\" class=\"dataframe\">\n",
       "  <thead>\n",
       "    <tr style=\"text-align: right;\">\n",
       "      <th></th>\n",
       "      <th>image</th>\n",
       "    </tr>\n",
       "  </thead>\n",
       "  <tbody>\n",
       "    <tr>\n",
       "      <th>0</th>\n",
       "      <td>&lt;PIL.Image.Image image mode=RGB size=96x96 at ...</td>\n",
       "    </tr>\n",
       "    <tr>\n",
       "      <th>1</th>\n",
       "      <td>&lt;PIL.Image.Image image mode=RGB size=96x96 at ...</td>\n",
       "    </tr>\n",
       "    <tr>\n",
       "      <th>2</th>\n",
       "      <td>&lt;PIL.Image.Image image mode=RGB size=96x96 at ...</td>\n",
       "    </tr>\n",
       "    <tr>\n",
       "      <th>3</th>\n",
       "      <td>&lt;PIL.Image.Image image mode=RGB size=96x96 at ...</td>\n",
       "    </tr>\n",
       "    <tr>\n",
       "      <th>4</th>\n",
       "      <td>&lt;PIL.Image.Image image mode=RGB size=96x96 at ...</td>\n",
       "    </tr>\n",
       "    <tr>\n",
       "      <th>5</th>\n",
       "      <td>&lt;PIL.Image.Image image mode=RGB size=96x96 at ...</td>\n",
       "    </tr>\n",
       "    <tr>\n",
       "      <th>6</th>\n",
       "      <td>&lt;PIL.Image.Image image mode=RGB size=96x96 at ...</td>\n",
       "    </tr>\n",
       "    <tr>\n",
       "      <th>7</th>\n",
       "      <td>&lt;PIL.Image.Image image mode=RGB size=96x96 at ...</td>\n",
       "    </tr>\n",
       "    <tr>\n",
       "      <th>8</th>\n",
       "      <td>&lt;PIL.Image.Image image mode=RGB size=96x96 at ...</td>\n",
       "    </tr>\n",
       "    <tr>\n",
       "      <th>9</th>\n",
       "      <td>&lt;PIL.Image.Image image mode=RGB size=96x96 at ...</td>\n",
       "    </tr>\n",
       "  </tbody>\n",
       "</table>\n",
       "</div>"
      ],
      "text/plain": [
       "                                               image\n",
       "0  <PIL.Image.Image image mode=RGB size=96x96 at ...\n",
       "1  <PIL.Image.Image image mode=RGB size=96x96 at ...\n",
       "2  <PIL.Image.Image image mode=RGB size=96x96 at ...\n",
       "3  <PIL.Image.Image image mode=RGB size=96x96 at ...\n",
       "4  <PIL.Image.Image image mode=RGB size=96x96 at ...\n",
       "5  <PIL.Image.Image image mode=RGB size=96x96 at ...\n",
       "6  <PIL.Image.Image image mode=RGB size=96x96 at ...\n",
       "7  <PIL.Image.Image image mode=RGB size=96x96 at ...\n",
       "8  <PIL.Image.Image image mode=RGB size=96x96 at ...\n",
       "9  <PIL.Image.Image image mode=RGB size=96x96 at ..."
      ]
     },
     "execution_count": 41,
     "metadata": {},
     "output_type": "execute_result"
    }
   ],
   "source": [
    "dfTest= pd.DataFrame(imageList, columns=['image'])\n",
    "dfTest"
   ]
  },
  {
   "cell_type": "code",
   "execution_count": 42,
   "id": "b7f67a97",
   "metadata": {},
   "outputs": [],
   "source": [
    "def imageToArray(imgFile):\n",
    "    data= img_to_array(imgFile)\n",
    "    return data"
   ]
  },
  {
   "cell_type": "code",
   "execution_count": 43,
   "id": "21811ccc",
   "metadata": {},
   "outputs": [
    {
     "name": "stdout",
     "output_type": "stream",
     "text": [
      "CPU times: total: 15.6 ms\n",
      "Wall time: 100 ms\n"
     ]
    }
   ],
   "source": [
    "%%time\n",
    "dfTest['imageVector']= dfTest['image'].apply(lambda x: imageToArray(x))\n",
    "dfTest['scaledImage']= dfTest['imageVector'].apply(lambda x: normalizeImage(x))"
   ]
  },
  {
   "cell_type": "code",
   "execution_count": 44,
   "id": "670bf588",
   "metadata": {
    "scrolled": false
   },
   "outputs": [
    {
     "data": {
      "text/html": [
       "<div>\n",
       "<style scoped>\n",
       "    .dataframe tbody tr th:only-of-type {\n",
       "        vertical-align: middle;\n",
       "    }\n",
       "\n",
       "    .dataframe tbody tr th {\n",
       "        vertical-align: top;\n",
       "    }\n",
       "\n",
       "    .dataframe thead th {\n",
       "        text-align: right;\n",
       "    }\n",
       "</style>\n",
       "<table border=\"1\" class=\"dataframe\">\n",
       "  <thead>\n",
       "    <tr style=\"text-align: right;\">\n",
       "      <th></th>\n",
       "      <th>image</th>\n",
       "      <th>imageVector</th>\n",
       "      <th>scaledImage</th>\n",
       "    </tr>\n",
       "  </thead>\n",
       "  <tbody>\n",
       "    <tr>\n",
       "      <th>0</th>\n",
       "      <td>&lt;PIL.Image.Image image mode=RGB size=96x96 at ...</td>\n",
       "      <td>[[[249.0, 205.0, 236.0], [238.0, 197.0, 233.0]...</td>\n",
       "      <td>[[[0.9764706, 0.8039216, 0.9254902], [0.933333...</td>\n",
       "    </tr>\n",
       "    <tr>\n",
       "      <th>1</th>\n",
       "      <td>&lt;PIL.Image.Image image mode=RGB size=96x96 at ...</td>\n",
       "      <td>[[[250.0, 240.0, 247.0], [228.0, 186.0, 238.0]...</td>\n",
       "      <td>[[[0.98039216, 0.9411765, 0.96862745], [0.8941...</td>\n",
       "    </tr>\n",
       "    <tr>\n",
       "      <th>2</th>\n",
       "      <td>&lt;PIL.Image.Image image mode=RGB size=96x96 at ...</td>\n",
       "      <td>[[[242.0, 224.0, 236.0], [225.0, 195.0, 233.0]...</td>\n",
       "      <td>[[[0.9490196, 0.8784314, 0.9254902], [0.882352...</td>\n",
       "    </tr>\n",
       "    <tr>\n",
       "      <th>3</th>\n",
       "      <td>&lt;PIL.Image.Image image mode=RGB size=96x96 at ...</td>\n",
       "      <td>[[[251.0, 249.0, 229.0], [245.0, 228.0, 224.0]...</td>\n",
       "      <td>[[[0.9843137, 0.9764706, 0.8980392], [0.960784...</td>\n",
       "    </tr>\n",
       "    <tr>\n",
       "      <th>4</th>\n",
       "      <td>&lt;PIL.Image.Image image mode=RGB size=96x96 at ...</td>\n",
       "      <td>[[[212.0, 198.0, 242.0], [210.0, 202.0, 245.0]...</td>\n",
       "      <td>[[[0.83137256, 0.7764706, 0.9490196], [0.82352...</td>\n",
       "    </tr>\n",
       "    <tr>\n",
       "      <th>5</th>\n",
       "      <td>&lt;PIL.Image.Image image mode=RGB size=96x96 at ...</td>\n",
       "      <td>[[[143.0, 79.0, 210.0], [137.0, 79.0, 215.0], ...</td>\n",
       "      <td>[[[0.56078434, 0.30980393, 0.8235294], [0.5372...</td>\n",
       "    </tr>\n",
       "    <tr>\n",
       "      <th>6</th>\n",
       "      <td>&lt;PIL.Image.Image image mode=RGB size=96x96 at ...</td>\n",
       "      <td>[[[74.0, 35.0, 146.0], [124.0, 55.0, 154.0], [...</td>\n",
       "      <td>[[[0.2901961, 0.13725491, 0.57254905], [0.4862...</td>\n",
       "    </tr>\n",
       "    <tr>\n",
       "      <th>7</th>\n",
       "      <td>&lt;PIL.Image.Image image mode=RGB size=96x96 at ...</td>\n",
       "      <td>[[[203.0, 156.0, 202.0], [200.0, 156.0, 196.0]...</td>\n",
       "      <td>[[[0.79607844, 0.6117647, 0.7921569], [0.78431...</td>\n",
       "    </tr>\n",
       "    <tr>\n",
       "      <th>8</th>\n",
       "      <td>&lt;PIL.Image.Image image mode=RGB size=96x96 at ...</td>\n",
       "      <td>[[[144.0, 93.0, 213.0], [141.0, 94.0, 213.0], ...</td>\n",
       "      <td>[[[0.5647059, 0.3647059, 0.8352941], [0.552941...</td>\n",
       "    </tr>\n",
       "    <tr>\n",
       "      <th>9</th>\n",
       "      <td>&lt;PIL.Image.Image image mode=RGB size=96x96 at ...</td>\n",
       "      <td>[[[94.0, 71.0, 199.0], [104.0, 72.0, 201.0], [...</td>\n",
       "      <td>[[[0.36862746, 0.2784314, 0.78039217], [0.4078...</td>\n",
       "    </tr>\n",
       "  </tbody>\n",
       "</table>\n",
       "</div>"
      ],
      "text/plain": [
       "                                               image  \\\n",
       "0  <PIL.Image.Image image mode=RGB size=96x96 at ...   \n",
       "1  <PIL.Image.Image image mode=RGB size=96x96 at ...   \n",
       "2  <PIL.Image.Image image mode=RGB size=96x96 at ...   \n",
       "3  <PIL.Image.Image image mode=RGB size=96x96 at ...   \n",
       "4  <PIL.Image.Image image mode=RGB size=96x96 at ...   \n",
       "5  <PIL.Image.Image image mode=RGB size=96x96 at ...   \n",
       "6  <PIL.Image.Image image mode=RGB size=96x96 at ...   \n",
       "7  <PIL.Image.Image image mode=RGB size=96x96 at ...   \n",
       "8  <PIL.Image.Image image mode=RGB size=96x96 at ...   \n",
       "9  <PIL.Image.Image image mode=RGB size=96x96 at ...   \n",
       "\n",
       "                                         imageVector  \\\n",
       "0  [[[249.0, 205.0, 236.0], [238.0, 197.0, 233.0]...   \n",
       "1  [[[250.0, 240.0, 247.0], [228.0, 186.0, 238.0]...   \n",
       "2  [[[242.0, 224.0, 236.0], [225.0, 195.0, 233.0]...   \n",
       "3  [[[251.0, 249.0, 229.0], [245.0, 228.0, 224.0]...   \n",
       "4  [[[212.0, 198.0, 242.0], [210.0, 202.0, 245.0]...   \n",
       "5  [[[143.0, 79.0, 210.0], [137.0, 79.0, 215.0], ...   \n",
       "6  [[[74.0, 35.0, 146.0], [124.0, 55.0, 154.0], [...   \n",
       "7  [[[203.0, 156.0, 202.0], [200.0, 156.0, 196.0]...   \n",
       "8  [[[144.0, 93.0, 213.0], [141.0, 94.0, 213.0], ...   \n",
       "9  [[[94.0, 71.0, 199.0], [104.0, 72.0, 201.0], [...   \n",
       "\n",
       "                                         scaledImage  \n",
       "0  [[[0.9764706, 0.8039216, 0.9254902], [0.933333...  \n",
       "1  [[[0.98039216, 0.9411765, 0.96862745], [0.8941...  \n",
       "2  [[[0.9490196, 0.8784314, 0.9254902], [0.882352...  \n",
       "3  [[[0.9843137, 0.9764706, 0.8980392], [0.960784...  \n",
       "4  [[[0.83137256, 0.7764706, 0.9490196], [0.82352...  \n",
       "5  [[[0.56078434, 0.30980393, 0.8235294], [0.5372...  \n",
       "6  [[[0.2901961, 0.13725491, 0.57254905], [0.4862...  \n",
       "7  [[[0.79607844, 0.6117647, 0.7921569], [0.78431...  \n",
       "8  [[[0.5647059, 0.3647059, 0.8352941], [0.552941...  \n",
       "9  [[[0.36862746, 0.2784314, 0.78039217], [0.4078...  "
      ]
     },
     "execution_count": 44,
     "metadata": {},
     "output_type": "execute_result"
    }
   ],
   "source": [
    "dfTest"
   ]
  },
  {
   "cell_type": "code",
   "execution_count": 45,
   "id": "916cbcd2",
   "metadata": {},
   "outputs": [],
   "source": [
    "def imageFromArray(imgFile):\n",
    "    data= array_to_img(imgFile)\n",
    "    return data"
   ]
  },
  {
   "cell_type": "code",
   "execution_count": 46,
   "id": "a8a8b4c0",
   "metadata": {},
   "outputs": [
    {
     "name": "stdout",
     "output_type": "stream",
     "text": [
      "CPU times: total: 15.6 ms\n",
      "Wall time: 48.1 ms\n"
     ]
    }
   ],
   "source": [
    "%%time\n",
    "dfTest['backToImage']= dfTest['scaledImage'].apply(lambda x: imageFromArray(x))"
   ]
  },
  {
   "cell_type": "code",
   "execution_count": 47,
   "id": "8949cdba",
   "metadata": {},
   "outputs": [
    {
     "data": {
      "text/html": [
       "<div>\n",
       "<style scoped>\n",
       "    .dataframe tbody tr th:only-of-type {\n",
       "        vertical-align: middle;\n",
       "    }\n",
       "\n",
       "    .dataframe tbody tr th {\n",
       "        vertical-align: top;\n",
       "    }\n",
       "\n",
       "    .dataframe thead th {\n",
       "        text-align: right;\n",
       "    }\n",
       "</style>\n",
       "<table border=\"1\" class=\"dataframe\">\n",
       "  <thead>\n",
       "    <tr style=\"text-align: right;\">\n",
       "      <th></th>\n",
       "      <th>image</th>\n",
       "      <th>imageVector</th>\n",
       "      <th>scaledImage</th>\n",
       "      <th>backToImage</th>\n",
       "    </tr>\n",
       "  </thead>\n",
       "  <tbody>\n",
       "    <tr>\n",
       "      <th>0</th>\n",
       "      <td>&lt;PIL.Image.Image image mode=RGB size=96x96 at ...</td>\n",
       "      <td>[[[249.0, 205.0, 236.0], [238.0, 197.0, 233.0]...</td>\n",
       "      <td>[[[0.9764706, 0.8039216, 0.9254902], [0.933333...</td>\n",
       "      <td>&lt;PIL.Image.Image image mode=RGB size=96x96 at ...</td>\n",
       "    </tr>\n",
       "    <tr>\n",
       "      <th>1</th>\n",
       "      <td>&lt;PIL.Image.Image image mode=RGB size=96x96 at ...</td>\n",
       "      <td>[[[250.0, 240.0, 247.0], [228.0, 186.0, 238.0]...</td>\n",
       "      <td>[[[0.98039216, 0.9411765, 0.96862745], [0.8941...</td>\n",
       "      <td>&lt;PIL.Image.Image image mode=RGB size=96x96 at ...</td>\n",
       "    </tr>\n",
       "    <tr>\n",
       "      <th>2</th>\n",
       "      <td>&lt;PIL.Image.Image image mode=RGB size=96x96 at ...</td>\n",
       "      <td>[[[242.0, 224.0, 236.0], [225.0, 195.0, 233.0]...</td>\n",
       "      <td>[[[0.9490196, 0.8784314, 0.9254902], [0.882352...</td>\n",
       "      <td>&lt;PIL.Image.Image image mode=RGB size=96x96 at ...</td>\n",
       "    </tr>\n",
       "    <tr>\n",
       "      <th>3</th>\n",
       "      <td>&lt;PIL.Image.Image image mode=RGB size=96x96 at ...</td>\n",
       "      <td>[[[251.0, 249.0, 229.0], [245.0, 228.0, 224.0]...</td>\n",
       "      <td>[[[0.9843137, 0.9764706, 0.8980392], [0.960784...</td>\n",
       "      <td>&lt;PIL.Image.Image image mode=RGB size=96x96 at ...</td>\n",
       "    </tr>\n",
       "    <tr>\n",
       "      <th>4</th>\n",
       "      <td>&lt;PIL.Image.Image image mode=RGB size=96x96 at ...</td>\n",
       "      <td>[[[212.0, 198.0, 242.0], [210.0, 202.0, 245.0]...</td>\n",
       "      <td>[[[0.83137256, 0.7764706, 0.9490196], [0.82352...</td>\n",
       "      <td>&lt;PIL.Image.Image image mode=RGB size=96x96 at ...</td>\n",
       "    </tr>\n",
       "    <tr>\n",
       "      <th>5</th>\n",
       "      <td>&lt;PIL.Image.Image image mode=RGB size=96x96 at ...</td>\n",
       "      <td>[[[143.0, 79.0, 210.0], [137.0, 79.0, 215.0], ...</td>\n",
       "      <td>[[[0.56078434, 0.30980393, 0.8235294], [0.5372...</td>\n",
       "      <td>&lt;PIL.Image.Image image mode=RGB size=96x96 at ...</td>\n",
       "    </tr>\n",
       "    <tr>\n",
       "      <th>6</th>\n",
       "      <td>&lt;PIL.Image.Image image mode=RGB size=96x96 at ...</td>\n",
       "      <td>[[[74.0, 35.0, 146.0], [124.0, 55.0, 154.0], [...</td>\n",
       "      <td>[[[0.2901961, 0.13725491, 0.57254905], [0.4862...</td>\n",
       "      <td>&lt;PIL.Image.Image image mode=RGB size=96x96 at ...</td>\n",
       "    </tr>\n",
       "    <tr>\n",
       "      <th>7</th>\n",
       "      <td>&lt;PIL.Image.Image image mode=RGB size=96x96 at ...</td>\n",
       "      <td>[[[203.0, 156.0, 202.0], [200.0, 156.0, 196.0]...</td>\n",
       "      <td>[[[0.79607844, 0.6117647, 0.7921569], [0.78431...</td>\n",
       "      <td>&lt;PIL.Image.Image image mode=RGB size=96x96 at ...</td>\n",
       "    </tr>\n",
       "    <tr>\n",
       "      <th>8</th>\n",
       "      <td>&lt;PIL.Image.Image image mode=RGB size=96x96 at ...</td>\n",
       "      <td>[[[144.0, 93.0, 213.0], [141.0, 94.0, 213.0], ...</td>\n",
       "      <td>[[[0.5647059, 0.3647059, 0.8352941], [0.552941...</td>\n",
       "      <td>&lt;PIL.Image.Image image mode=RGB size=96x96 at ...</td>\n",
       "    </tr>\n",
       "    <tr>\n",
       "      <th>9</th>\n",
       "      <td>&lt;PIL.Image.Image image mode=RGB size=96x96 at ...</td>\n",
       "      <td>[[[94.0, 71.0, 199.0], [104.0, 72.0, 201.0], [...</td>\n",
       "      <td>[[[0.36862746, 0.2784314, 0.78039217], [0.4078...</td>\n",
       "      <td>&lt;PIL.Image.Image image mode=RGB size=96x96 at ...</td>\n",
       "    </tr>\n",
       "  </tbody>\n",
       "</table>\n",
       "</div>"
      ],
      "text/plain": [
       "                                               image  \\\n",
       "0  <PIL.Image.Image image mode=RGB size=96x96 at ...   \n",
       "1  <PIL.Image.Image image mode=RGB size=96x96 at ...   \n",
       "2  <PIL.Image.Image image mode=RGB size=96x96 at ...   \n",
       "3  <PIL.Image.Image image mode=RGB size=96x96 at ...   \n",
       "4  <PIL.Image.Image image mode=RGB size=96x96 at ...   \n",
       "5  <PIL.Image.Image image mode=RGB size=96x96 at ...   \n",
       "6  <PIL.Image.Image image mode=RGB size=96x96 at ...   \n",
       "7  <PIL.Image.Image image mode=RGB size=96x96 at ...   \n",
       "8  <PIL.Image.Image image mode=RGB size=96x96 at ...   \n",
       "9  <PIL.Image.Image image mode=RGB size=96x96 at ...   \n",
       "\n",
       "                                         imageVector  \\\n",
       "0  [[[249.0, 205.0, 236.0], [238.0, 197.0, 233.0]...   \n",
       "1  [[[250.0, 240.0, 247.0], [228.0, 186.0, 238.0]...   \n",
       "2  [[[242.0, 224.0, 236.0], [225.0, 195.0, 233.0]...   \n",
       "3  [[[251.0, 249.0, 229.0], [245.0, 228.0, 224.0]...   \n",
       "4  [[[212.0, 198.0, 242.0], [210.0, 202.0, 245.0]...   \n",
       "5  [[[143.0, 79.0, 210.0], [137.0, 79.0, 215.0], ...   \n",
       "6  [[[74.0, 35.0, 146.0], [124.0, 55.0, 154.0], [...   \n",
       "7  [[[203.0, 156.0, 202.0], [200.0, 156.0, 196.0]...   \n",
       "8  [[[144.0, 93.0, 213.0], [141.0, 94.0, 213.0], ...   \n",
       "9  [[[94.0, 71.0, 199.0], [104.0, 72.0, 201.0], [...   \n",
       "\n",
       "                                         scaledImage  \\\n",
       "0  [[[0.9764706, 0.8039216, 0.9254902], [0.933333...   \n",
       "1  [[[0.98039216, 0.9411765, 0.96862745], [0.8941...   \n",
       "2  [[[0.9490196, 0.8784314, 0.9254902], [0.882352...   \n",
       "3  [[[0.9843137, 0.9764706, 0.8980392], [0.960784...   \n",
       "4  [[[0.83137256, 0.7764706, 0.9490196], [0.82352...   \n",
       "5  [[[0.56078434, 0.30980393, 0.8235294], [0.5372...   \n",
       "6  [[[0.2901961, 0.13725491, 0.57254905], [0.4862...   \n",
       "7  [[[0.79607844, 0.6117647, 0.7921569], [0.78431...   \n",
       "8  [[[0.5647059, 0.3647059, 0.8352941], [0.552941...   \n",
       "9  [[[0.36862746, 0.2784314, 0.78039217], [0.4078...   \n",
       "\n",
       "                                         backToImage  \n",
       "0  <PIL.Image.Image image mode=RGB size=96x96 at ...  \n",
       "1  <PIL.Image.Image image mode=RGB size=96x96 at ...  \n",
       "2  <PIL.Image.Image image mode=RGB size=96x96 at ...  \n",
       "3  <PIL.Image.Image image mode=RGB size=96x96 at ...  \n",
       "4  <PIL.Image.Image image mode=RGB size=96x96 at ...  \n",
       "5  <PIL.Image.Image image mode=RGB size=96x96 at ...  \n",
       "6  <PIL.Image.Image image mode=RGB size=96x96 at ...  \n",
       "7  <PIL.Image.Image image mode=RGB size=96x96 at ...  \n",
       "8  <PIL.Image.Image image mode=RGB size=96x96 at ...  \n",
       "9  <PIL.Image.Image image mode=RGB size=96x96 at ...  "
      ]
     },
     "execution_count": 47,
     "metadata": {},
     "output_type": "execute_result"
    }
   ],
   "source": [
    "dfTest"
   ]
  },
  {
   "cell_type": "code",
   "execution_count": 48,
   "id": "04ccad4d",
   "metadata": {},
   "outputs": [
    {
     "data": {
      "image/png": "[encoded data removed]",
      "text/plain": [
       "<PIL.Image.Image image mode=RGB size=96x96>"
      ]
     },
     "execution_count": 48,
     "metadata": {},
     "output_type": "execute_result"
    }
   ],
   "source": [
    "dfTest['backToImage'][2]"
   ]
  },
  {
   "cell_type": "code",
   "execution_count": 49,
   "id": "5dcc1325",
   "metadata": {},
   "outputs": [
    {
     "data": {
      "text/plain": [
       "(10, 96, 96, 3)"
      ]
     },
     "execution_count": 49,
     "metadata": {},
     "output_type": "execute_result"
    }
   ],
   "source": [
    "imgTestData= np.asarray(dfTest['scaledImage'].tolist())\n",
    "# imgTestData= np.expand_dims(imgTestData)\n",
    "imgTestData.shape"
   ]
  },
  {
   "cell_type": "code",
   "execution_count": 50,
   "id": "797da5d2",
   "metadata": {},
   "outputs": [
    {
     "name": "stdout",
     "output_type": "stream",
     "text": [
      "1/1 [==============================] - 0s 218ms/step\n"
     ]
    },
    {
     "data": {
      "text/plain": [
       "array([0, 0, 1, 1, 2, 2, 3, 3, 4, 4])"
      ]
     },
     "execution_count": 50,
     "metadata": {},
     "output_type": "execute_result"
    }
   ],
   "source": [
    "predict_x= pipe.predict(imgTestData)\n",
    "# classes_x= np.argmax(predict_x, axis=1)\n",
    "# classes_x= predict_x.argmax(axis= 1)\n",
    "predict_x"
   ]
  },
  {
   "cell_type": "markdown",
   "id": "14dc5cdb",
   "metadata": {},
   "source": [
    "### Normalize and assign categorical labels"
   ]
  },
  {
   "cell_type": "code",
   "execution_count": 51,
   "id": "bc86fdb1",
   "metadata": {},
   "outputs": [],
   "source": [
    "rzImageArr= imageArr/ 255.0"
   ]
  },
  {
   "cell_type": "code",
   "execution_count": 52,
   "id": "66c1fcfa",
   "metadata": {},
   "outputs": [
    {
     "data": {
      "text/plain": [
       "(25000, 96, 96, 3)"
      ]
     },
     "execution_count": 52,
     "metadata": {},
     "output_type": "execute_result"
    }
   ],
   "source": [
    "rzImageArr.shape"
   ]
  },
  {
   "cell_type": "code",
   "execution_count": 53,
   "id": "5dca965e",
   "metadata": {},
   "outputs": [],
   "source": [
    "newTarget= to_categorical(targetArr)"
   ]
  },
  {
   "cell_type": "code",
   "execution_count": 54,
   "id": "49d6b406",
   "metadata": {},
   "outputs": [
    {
     "data": {
      "text/plain": [
       "(25000, 5)"
      ]
     },
     "execution_count": 54,
     "metadata": {},
     "output_type": "execute_result"
    }
   ],
   "source": [
    "newTarget.shape"
   ]
  },
  {
   "cell_type": "markdown",
   "id": "a81822f2",
   "metadata": {},
   "source": [
    "### CNN Model"
   ]
  },
  {
   "cell_type": "code",
   "execution_count": 55,
   "id": "a2fdcf01",
   "metadata": {},
   "outputs": [
    {
     "data": {
      "text/plain": [
       "(25000, 96, 96, 3)"
      ]
     },
     "execution_count": 55,
     "metadata": {},
     "output_type": "execute_result"
    }
   ],
   "source": [
    "rzImageArr.shape"
   ]
  },
  {
   "cell_type": "code",
   "execution_count": 56,
   "id": "dbcd7957",
   "metadata": {},
   "outputs": [
    {
     "data": {
      "text/plain": [
       "(25000, 5)"
      ]
     },
     "execution_count": 56,
     "metadata": {},
     "output_type": "execute_result"
    }
   ],
   "source": [
    "newTarget.shape"
   ]
  },
  {
   "cell_type": "code",
   "execution_count": 57,
   "id": "cabdee4e",
   "metadata": {},
   "outputs": [
    {
     "data": {
      "text/plain": [
       "(96, 96, 3)"
      ]
     },
     "execution_count": 57,
     "metadata": {},
     "output_type": "execute_result"
    }
   ],
   "source": [
    "rzImageArr.shape[1:]"
   ]
  },
  {
   "cell_type": "code",
   "execution_count": 58,
   "id": "4d6a88dc",
   "metadata": {},
   "outputs": [
    {
     "name": "stdout",
     "output_type": "stream",
     "text": [
      "CPU times: total: 11.3 s\n",
      "Wall time: 14.8 s\n"
     ]
    }
   ],
   "source": [
    "%%time\n",
    "X_train, X_test, y_train, y_test = train_test_split(rzImageArr, newTarget, test_size = 0.3,\n",
    "                                                    random_state = 65)"
   ]
  },
  {
   "cell_type": "markdown",
   "id": "2be2ffd8",
   "metadata": {},
   "source": [
    "### Create the model's architecture\n",
    "- **NOTE ALERT**: Take into account the volume of data and parameters. Time and processing escalate quite fast.\n",
    "- **NOTE ALERT**: It is likely this data will require more complex models."
   ]
  },
  {
   "cell_type": "code",
   "execution_count": 59,
   "id": "1d6cf6c0",
   "metadata": {},
   "outputs": [],
   "source": [
    "# Set up the model architecture\n",
    "model= Sequential()\n",
    "model.add(layers.Conv2D(32, (1, 1), activation= 'relu', data_format= 'channels_last',\n",
    "                        padding= 'valid' ,input_shape= rzImageArr.shape[1:]))\n",
    "model.add(layers.Conv2D(64, (1, 1), activation= 'relu'))\n",
    "model.add(BatchNormalization(momentum= 0.01))\n",
    "model.add(layers.MaxPooling2D((2, 2)))\n",
    "model.add(layers.Conv2D(64, (3, 3), activation= 'relu'))\n",
    "model.add(layers.MaxPooling2D((2, 2)))\n",
    "model.add(layers.Conv2D(64, (3, 3), activation='relu'))\n",
    "model.add(layers.MaxPooling2D((2, 2)))\n",
    "model.add(layers.Conv2D(16, (3, 3), activation='relu'))"
   ]
  },
  {
   "cell_type": "code",
   "execution_count": 60,
   "id": "edc481e6",
   "metadata": {},
   "outputs": [
    {
     "name": "stdout",
     "output_type": "stream",
     "text": [
      "Model: \"sequential_1\"\n",
      "_________________________________________________________________\n",
      " Layer (type)                Output Shape              Param #   \n",
      "=================================================================\n",
      " conv2d_2 (Conv2D)           (None, 96, 96, 32)        128       \n",
      "                                                                 \n",
      " conv2d_3 (Conv2D)           (None, 96, 96, 64)        2112      \n",
      "                                                                 \n",
      " batch_normalization_1 (Batc  (None, 96, 96, 64)       256       \n",
      " hNormalization)                                                 \n",
      "                                                                 \n",
      " max_pooling2d_1 (MaxPooling  (None, 48, 48, 64)       0         \n",
      " 2D)                                                             \n",
      "                                                                 \n",
      " conv2d_4 (Conv2D)           (None, 46, 46, 64)        36928     \n",
      "                                                                 \n",
      " max_pooling2d_2 (MaxPooling  (None, 23, 23, 64)       0         \n",
      " 2D)                                                             \n",
      "                                                                 \n",
      " conv2d_5 (Conv2D)           (None, 21, 21, 64)        36928     \n",
      "                                                                 \n",
      " max_pooling2d_3 (MaxPooling  (None, 10, 10, 64)       0         \n",
      " 2D)                                                             \n",
      "                                                                 \n",
      " conv2d_6 (Conv2D)           (None, 8, 8, 16)          9232      \n",
      "                                                                 \n",
      "=================================================================\n",
      "Total params: 85,584\n",
      "Trainable params: 85,456\n",
      "Non-trainable params: 128\n",
      "_________________________________________________________________\n"
     ]
    }
   ],
   "source": [
    "model.summary()"
   ]
  },
  {
   "cell_type": "code",
   "execution_count": 61,
   "id": "11324c7e",
   "metadata": {},
   "outputs": [],
   "source": [
    "model.add(layers.Flatten())\n",
    "model.add(layers.Dense(64, activation='relu'))\n",
    "model.add(layers.Dropout(0.2))\n",
    "# model.add(layers.Dense(64, activation='relu'))\n",
    "model.add(layers.Dense(32, activation='relu'))\n",
    "# model.add(layers.Dropout(0.2))\n",
    "model.add(layers.Dense(5, activation='softmax'))"
   ]
  },
  {
   "cell_type": "code",
   "execution_count": 62,
   "id": "d6ce75f4",
   "metadata": {},
   "outputs": [
    {
     "name": "stdout",
     "output_type": "stream",
     "text": [
      "Model: \"sequential_1\"\n",
      "_________________________________________________________________\n",
      " Layer (type)                Output Shape              Param #   \n",
      "=================================================================\n",
      " conv2d_2 (Conv2D)           (None, 96, 96, 32)        128       \n",
      "                                                                 \n",
      " conv2d_3 (Conv2D)           (None, 96, 96, 64)        2112      \n",
      "                                                                 \n",
      " batch_normalization_1 (Batc  (None, 96, 96, 64)       256       \n",
      " hNormalization)                                                 \n",
      "                                                                 \n",
      " max_pooling2d_1 (MaxPooling  (None, 48, 48, 64)       0         \n",
      " 2D)                                                             \n",
      "                                                                 \n",
      " conv2d_4 (Conv2D)           (None, 46, 46, 64)        36928     \n",
      "                                                                 \n",
      " max_pooling2d_2 (MaxPooling  (None, 23, 23, 64)       0         \n",
      " 2D)                                                             \n",
      "                                                                 \n",
      " conv2d_5 (Conv2D)           (None, 21, 21, 64)        36928     \n",
      "                                                                 \n",
      " max_pooling2d_3 (MaxPooling  (None, 10, 10, 64)       0         \n",
      " 2D)                                                             \n",
      "                                                                 \n",
      " conv2d_6 (Conv2D)           (None, 8, 8, 16)          9232      \n",
      "                                                                 \n",
      " flatten_1 (Flatten)         (None, 1024)              0         \n",
      "                                                                 \n",
      " dense_2 (Dense)             (None, 64)                65600     \n",
      "                                                                 \n",
      " dropout_3 (Dropout)         (None, 64)                0         \n",
      "                                                                 \n",
      " dense_3 (Dense)             (None, 32)                2080      \n",
      "                                                                 \n",
      " dense_4 (Dense)             (None, 5)                 165       \n",
      "                                                                 \n",
      "=================================================================\n",
      "Total params: 153,429\n",
      "Trainable params: 153,301\n",
      "Non-trainable params: 128\n",
      "_________________________________________________________________\n"
     ]
    }
   ],
   "source": [
    "model.summary()"
   ]
  },
  {
   "cell_type": "markdown",
   "id": "43e7565c",
   "metadata": {},
   "source": [
    "### Complie the model"
   ]
  },
  {
   "cell_type": "code",
   "execution_count": 63,
   "id": "769a5d8d",
   "metadata": {},
   "outputs": [],
   "source": [
    "model.compile(\n",
    "    optimizer= 'adam',\n",
    "    loss = 'categorical_crossentropy',\n",
    "#     loss= tf.keras.losses.SparseCategoricalCrossentropy(from_logits= True),\n",
    "    metrics= ['accuracy'])"
   ]
  },
  {
   "cell_type": "markdown",
   "id": "fdfdfb9a",
   "metadata": {},
   "source": [
    "### Fit the training data"
   ]
  },
  {
   "cell_type": "code",
   "execution_count": 64,
   "id": "54738430",
   "metadata": {},
   "outputs": [
    {
     "data": {
      "text/plain": [
       "(17500, 96, 96, 3)"
      ]
     },
     "execution_count": 64,
     "metadata": {},
     "output_type": "execute_result"
    }
   ],
   "source": [
    "X_train.shape"
   ]
  },
  {
   "cell_type": "code",
   "execution_count": 65,
   "id": "3e379fe8",
   "metadata": {},
   "outputs": [
    {
     "data": {
      "text/plain": [
       "(17500, 5)"
      ]
     },
     "execution_count": 65,
     "metadata": {},
     "output_type": "execute_result"
    }
   ],
   "source": [
    "y_train.shape"
   ]
  },
  {
   "cell_type": "code",
   "execution_count": 66,
   "id": "1dfcaa6b",
   "metadata": {},
   "outputs": [
    {
     "name": "stdout",
     "output_type": "stream",
     "text": [
      "Epoch 1/5\n",
      "613/613 [==============================] - 264s 428ms/step - loss: 0.6621 - accuracy: 0.6384 - val_loss: 0.5910 - val_accuracy: 0.7537\n",
      "Epoch 2/5\n",
      "613/613 [==============================] - 289s 472ms/step - loss: 0.3866 - accuracy: 0.8380 - val_loss: 0.2194 - val_accuracy: 0.9141\n",
      "Epoch 3/5\n",
      "613/613 [==============================] - 282s 460ms/step - loss: 0.2271 - accuracy: 0.9133 - val_loss: 0.2361 - val_accuracy: 0.9076\n",
      "Epoch 4/5\n",
      "613/613 [==============================] - 283s 461ms/step - loss: 0.1685 - accuracy: 0.9385 - val_loss: 0.1742 - val_accuracy: 0.9310\n",
      "Epoch 5/5\n",
      "613/613 [==============================] - 284s 464ms/step - loss: 0.1497 - accuracy: 0.9456 - val_loss: 0.1184 - val_accuracy: 0.9577\n",
      "CPU times: total: 1h 47min 13s\n",
      "Wall time: 23min 24s\n"
     ]
    }
   ],
   "source": [
    "%%time\n",
    "# Fit the model on a training set\n",
    "history= model.fit(\n",
    "    X_train,\n",
    "    y_train,\n",
    "    validation_split= 0.3,\n",
    "#     validation_data=(X2_test, y2_test),\n",
    "    epochs= 5,\n",
    "    batch_size= 20,\n",
    "    verbose= 1)"
   ]
  },
  {
   "cell_type": "code",
   "execution_count": 67,
   "id": "3fa2890e",
   "metadata": {},
   "outputs": [],
   "source": [
    "model.save('model.h5')"
   ]
  },
  {
   "cell_type": "markdown",
   "id": "1ad9f004",
   "metadata": {},
   "source": [
    "### Create Predictions"
   ]
  },
  {
   "cell_type": "code",
   "execution_count": 68,
   "id": "0efe57f8",
   "metadata": {},
   "outputs": [
    {
     "data": {
      "text/plain": [
       "(7500, 96, 96, 3)"
      ]
     },
     "execution_count": 68,
     "metadata": {},
     "output_type": "execute_result"
    }
   ],
   "source": [
    "X_test.shape"
   ]
  },
  {
   "cell_type": "code",
   "execution_count": 69,
   "id": "00d2d1e4",
   "metadata": {},
   "outputs": [
    {
     "name": "stdout",
     "output_type": "stream",
     "text": [
      "235/235 [==============================] - 30s 129ms/step\n",
      "CPU times: total: 2min 28s\n",
      "Wall time: 31.4 s\n"
     ]
    }
   ],
   "source": [
    "%%time\n",
    "# predictions = model.predict_classes(X_test)\n",
    "predict_x= model.predict(X_test)\n",
    "# classes_x= np.argmax(predict_x, axis=1)\n",
    "classes_x= predict_x.argmax(axis= 1)"
   ]
  },
  {
   "cell_type": "code",
   "execution_count": 70,
   "id": "30dc3fa3",
   "metadata": {},
   "outputs": [
    {
     "name": "stdout",
     "output_type": "stream",
     "text": [
      "1/1 [==============================] - 0s 63ms/step\n"
     ]
    }
   ],
   "source": [
    "predArr= model.predict(imgTestData).argmax(axis= 1)"
   ]
  },
  {
   "cell_type": "code",
   "execution_count": 71,
   "id": "82472f65",
   "metadata": {},
   "outputs": [
    {
     "data": {
      "text/plain": [
       "array([2, 3, 1, ..., 2, 3, 3], dtype=int64)"
      ]
     },
     "execution_count": 71,
     "metadata": {},
     "output_type": "execute_result"
    }
   ],
   "source": [
    "classes_x"
   ]
  },
  {
   "cell_type": "code",
   "execution_count": 73,
   "id": "1e8031b8",
   "metadata": {},
   "outputs": [
    {
     "data": {
      "text/plain": [
       "array([0, 0, 1, 0, 2, 2, 3, 3, 4, 4], dtype=int64)"
      ]
     },
     "execution_count": 73,
     "metadata": {},
     "output_type": "execute_result"
    }
   ],
   "source": [
    "predArr"
   ]
  },
  {
   "cell_type": "code",
   "execution_count": 74,
   "id": "596f8206",
   "metadata": {},
   "outputs": [
    {
     "data": {
      "text/plain": [
       "(7500, 96, 96, 3)"
      ]
     },
     "execution_count": 74,
     "metadata": {},
     "output_type": "execute_result"
    }
   ],
   "source": [
    "X_test.shape"
   ]
  },
  {
   "cell_type": "code",
   "execution_count": 75,
   "id": "e0f6aa34",
   "metadata": {},
   "outputs": [
    {
     "data": {
      "text/plain": [
       "(7500, 5)"
      ]
     },
     "execution_count": 75,
     "metadata": {},
     "output_type": "execute_result"
    }
   ],
   "source": [
    "y_test.shape"
   ]
  },
  {
   "cell_type": "markdown",
   "id": "a8ebd31f",
   "metadata": {},
   "source": [
    "### Evaluate the model"
   ]
  },
  {
   "cell_type": "code",
   "execution_count": 76,
   "id": "5aa47f49",
   "metadata": {},
   "outputs": [
    {
     "name": "stdout",
     "output_type": "stream",
     "text": [
      "750/750 [==============================] - 34s 46ms/step - loss: 0.1106 - accuracy: 0.9600\n",
      "\n",
      "Test loss: 0.110593, Test accuracy: 0.960000\n",
      "CPU times: total: 2min 21s\n",
      "Wall time: 34.7 s\n"
     ]
    }
   ],
   "source": [
    "%%time\n",
    "score = model.evaluate(X_test, y_test, batch_size = 10)\n",
    "print('\\nTest loss: %.6f, Test accuracy: %.6f' % tuple(score))"
   ]
  },
  {
   "cell_type": "code",
   "execution_count": 77,
   "id": "d443963e",
   "metadata": {},
   "outputs": [
    {
     "data": {
      "text/plain": [
       "(10,)"
      ]
     },
     "execution_count": 77,
     "metadata": {},
     "output_type": "execute_result"
    }
   ],
   "source": [
    "predArr.shape"
   ]
  },
  {
   "cell_type": "code",
   "execution_count": 78,
   "id": "3fa9c69b",
   "metadata": {},
   "outputs": [
    {
     "data": {
      "text/plain": [
       "(7500,)"
      ]
     },
     "execution_count": 78,
     "metadata": {},
     "output_type": "execute_result"
    }
   ],
   "source": [
    "classes_x.shape"
   ]
  },
  {
   "cell_type": "code",
   "execution_count": 79,
   "id": "ef814b52",
   "metadata": {},
   "outputs": [
    {
     "data": {
      "text/plain": [
       "(7500, 5)"
      ]
     },
     "execution_count": 79,
     "metadata": {},
     "output_type": "execute_result"
    }
   ],
   "source": [
    "y_test.shape"
   ]
  },
  {
   "cell_type": "code",
   "execution_count": 80,
   "id": "02714670",
   "metadata": {},
   "outputs": [
    {
     "data": {
      "text/plain": [
       "(7500, 5)"
      ]
     },
     "execution_count": 80,
     "metadata": {},
     "output_type": "execute_result"
    }
   ],
   "source": [
    "y_test.shape"
   ]
  },
  {
   "cell_type": "code",
   "execution_count": 81,
   "id": "1ef7a2ba",
   "metadata": {},
   "outputs": [],
   "source": [
    "def print_cm(cm):\n",
    "    d_size = max(len('%d' % cm.max()), len('%d' % cm.shape[1]))\n",
    "    if min(cm.shape) > 10: # make sparse\n",
    "        print('Sparse Matrix (*=diagonal)')\n",
    "        fmt_r = 'r%%0%dd' % d_size\n",
    "        fmt_c = ', c%%0%dd%%s= %%%dd' % (d_size, d_size)\n",
    "        for i in range(cm.shape[0]):\n",
    "            s = fmt_r % i\n",
    "            for j in range(cm.shape[1]):\n",
    "                if cm[i, j] > 0:\n",
    "                    s += fmt_c % (j, '*' if i == j else ' ', cm[i, j])\n",
    "            print(s)\n",
    "    else: # make dense\n",
    "        c = '%%%dd ' % d_size\n",
    "        s = '%s| ' % (' ' * d_size)\n",
    "        s += ''.join([c % i for i in range(len(cm[0]))])\n",
    "        print(s)\n",
    "        print('-' * len(s))\n",
    "        for i, r in enumerate(cm):\n",
    "            s = '%2d| ' % i\n",
    "            s += c * len(r)\n",
    "            print(s % tuple(r))"
   ]
  },
  {
   "cell_type": "markdown",
   "id": "12165650",
   "metadata": {},
   "source": [
    "Image Labels:\n",
    "- Lung benign tissue: 3\n",
    "- Lung adenocarcinoma: 2\n",
    "- Lung squamous cell carcinoma: 4\n",
    "- Colon adenocarcinoma: 0\n",
    "- Colon benign tissue: 1"
   ]
  },
  {
   "cell_type": "code",
   "execution_count": 82,
   "id": "94d13351",
   "metadata": {},
   "outputs": [
    {
     "name": "stdout",
     "output_type": "stream",
     "text": [
      "    |    0    1    2    3    4 \n",
      "-------------------------------\n",
      " 0| 1455   36    2    0    5 \n",
      " 1|   67 1458    0    0    0 \n",
      " 2|    1    0 1412   10   44 \n",
      " 3|    0    0    1 1483    0 \n",
      " 4|    0    0  134    0 1392 \n"
     ]
    }
   ],
   "source": [
    "y_test_target = np.array([x.argmax() for x in y_test])\n",
    "cm = confusion_matrix(y_test_target, classes_x)\n",
    "print_cm(cm)"
   ]
  },
  {
   "cell_type": "markdown",
   "id": "11cafef5",
   "metadata": {},
   "source": [
    "### Visualisation of cost"
   ]
  },
  {
   "cell_type": "code",
   "execution_count": 83,
   "id": "c6d977a7",
   "metadata": {},
   "outputs": [
    {
     "data": {
      "image/png": "[encoded data removed]",
      "text/plain": [
       "<Figure size 1296x432 with 2 Axes>"
      ]
     },
     "metadata": {
      "needs_background": "light"
     },
     "output_type": "display_data"
    }
   ],
   "source": [
    "fig, ax = plt.subplots(1, 2, figsize = (18, 6))\n",
    "fig.subplots_adjust(left = 0.02, right = 0.98, wspace = 0.2)\n",
    "\n",
    "plt.rcParams.update({'font.size': 18})\n",
    "\n",
    "# Plot training & validation accuracy values\n",
    "ax[0].plot(history.history['accuracy'], label = 'Training')\n",
    "ax[0].plot(history.history['val_accuracy'], label = 'Validation')\n",
    "ax[0].set_title('Model accuracy')\n",
    "ax[0].set_ylabel('Accuracy')\n",
    "ax[0].set_xlabel('Epoch')\n",
    "ax[0].legend()\n",
    "\n",
    "# Plot training & validation loss values\n",
    "ax[1].plot(history.history['loss'], label = 'Training')\n",
    "ax[1].plot(history.history['val_loss'], label = 'Validation')\n",
    "ax[1].set_title('Model loss')\n",
    "ax[1].set_ylabel('Loss')\n",
    "ax[1].set_xlabel('Epoch')\n",
    "ax[1].legend()\n",
    "\n",
    "plt.show()"
   ]
  },
  {
   "cell_type": "code",
   "execution_count": null,
   "id": "d6a7122a",
   "metadata": {},
   "outputs": [],
   "source": []
  }
 ],
 "metadata": {
  "kernelspec": {
   "display_name": "Python 3 (ipykernel)",
   "language": "python",
   "name": "python3"
  },
  "language_info": {
   "codemirror_mode": {
    "name": "ipython",
    "version": 3
   },
   "file_extension": ".py",
   "mimetype": "text/x-python",
   "name": "python",
   "nbconvert_exporter": "python",
   "pygments_lexer": "ipython3",
   "version": "3.10.4"
  }
 },
 "nbformat": 4,
 "nbformat_minor": 5
}
