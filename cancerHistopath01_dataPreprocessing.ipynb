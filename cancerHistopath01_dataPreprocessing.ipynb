{
 "cells": [
  {
   "cell_type": "markdown",
   "id": "314918a4",
   "metadata": {},
   "source": [
    "## Capstone- Cancer Histopathology: Data Preprocessing"
   ]
  },
  {
   "cell_type": "markdown",
   "id": "bd859a50",
   "metadata": {},
   "source": [
    "Dataset:\n",
    "- A. Borkowski, \"Lung and Colon Cancer Histopathological Images\", Kaggle.com, 2020. [Online]. Available: https://www.kaggle.com/datasets/andrewmvd/lung-and-colon-cancer-histopathological-images. [Accessed: 30- Jul- 2022]."
   ]
  },
  {
   "cell_type": "markdown",
   "id": "23a85b27",
   "metadata": {},
   "source": [
    "Sources:\n",
    "- Borkowski AA, Bui MM, Thomas LB, Wilson CP, DeLand LA, Mastorides SM. Lung and Colon Cancer Histopathological Image Dataset (LC25000). arXiv:1912.12142v1 [eess.IV], 2019"
   ]
  },
  {
   "cell_type": "markdown",
   "id": "097655f0",
   "metadata": {},
   "source": [
    "Image Labels:\n",
    "- Lung benign tissue: 3\n",
    "- Lung adenocarcinoma: 2\n",
    "- Lung squamous cell carcinoma: 4\n",
    "- Colon adenocarcinoma: 0\n",
    "- Colon benign tissue: 1"
   ]
  },
  {
   "cell_type": "markdown",
   "id": "6fb75b02",
   "metadata": {},
   "source": [
    "### Import Libraries"
   ]
  },
  {
   "cell_type": "code",
   "execution_count": 1,
   "id": "6c2baf60",
   "metadata": {},
   "outputs": [],
   "source": [
    "## Import Libraries\n",
    "import numpy as np\n",
    "import pandas as pd\n",
    "from pathlib import Path\n",
    "import time\n",
    "import math\n",
    "\n",
    "# import keras\n",
    "from keras.models import Sequential\n",
    "from keras.layers import Dense\n",
    "from keras.layers import Conv2D\n",
    "from keras.layers import Flatten\n",
    "from keras.utils import to_categorical\n",
    "from tensorflow.keras import datasets, layers, models\n",
    "from sklearn.model_selection import train_test_split\n",
    "from sklearn.metrics import confusion_matrix\n",
    "import matplotlib.pyplot as plt\n",
    "\n",
    "import warnings\n",
    "warnings.filterwarnings('ignore')\n",
    "\n",
    "%matplotlib inline"
   ]
  },
  {
   "cell_type": "markdown",
   "id": "ebc9f416",
   "metadata": {},
   "source": [
    "### Load Data"
   ]
  },
  {
   "cell_type": "code",
   "execution_count": 2,
   "id": "0f972fb4",
   "metadata": {},
   "outputs": [],
   "source": [
    "import PIL\n",
    "from PIL import Image\n",
    "import glob\n",
    "import cv2\n",
    "import os, os.path\n",
    "from numpy import asarray\n",
    "\n",
    "import keras\n",
    "import tensorflow as tf\n",
    "from tensorflow.keras.preprocessing.image import load_img\n",
    "from tensorflow.keras.preprocessing.image import img_to_array\n",
    "from tensorflow.keras.preprocessing.image import array_to_img\n",
    "from sklearn.metrics import mean_squared_error\n",
    "from sklearn.model_selection import cross_val_score\n",
    "\n",
    "from IPython.display import display, HTML\n",
    "import pymongo\n",
    "from pymongo import MongoClient\n",
    "import io\n",
    "from bson.binary import Binary"
   ]
  },
  {
   "cell_type": "markdown",
   "id": "a84b67c8",
   "metadata": {},
   "source": [
    "### Data Preprocessing"
   ]
  },
  {
   "cell_type": "code",
   "execution_count": 3,
   "id": "2d3b2c7a",
   "metadata": {},
   "outputs": [],
   "source": [
    "from tensorflow.keras.preprocessing.image import ImageDataGenerator"
   ]
  },
  {
   "cell_type": "code",
   "execution_count": 4,
   "id": "b4179a5e",
   "metadata": {
    "scrolled": true
   },
   "outputs": [
    {
     "name": "stdout",
     "output_type": "stream",
     "text": [
      "Found 25000 images belonging to 5 classes.\n",
      "CPU times: total: 1min 38s\n",
      "Wall time: 2min 39s\n"
     ]
    }
   ],
   "source": [
    "%%time\n",
    "data_dir = \"./lung_colon_image_set/lung_image_sets\"\n",
    "\n",
    "# 80-20 Split\n",
    "# data = ImageDataGenerator(validation_split = 0.3, rescale= 1.0/ 255.0)\n",
    "data = ImageDataGenerator(rescale= 1./ 255.0)\n",
    "\n",
    "BATCH_SIZE = 25000\n",
    "\n",
    "# 224 x 224 -- The minimum for EfficientNetB7, you can go as high as 600 x 600\n",
    "X = Y = 96\n",
    "\n",
    "train_ds = data.flow_from_directory(data_dir,\n",
    "                                    class_mode = \"categorical\",\n",
    "                                    target_size = (X, Y),\n",
    "                                    color_mode=\"rgb\",\n",
    "                                    batch_size = BATCH_SIZE,\n",
    "                                    shuffle = False,\n",
    "                                    subset='training',\n",
    "                                    seed = 42)\n",
    "\n",
    "# validation = data.flow_from_directory(data_dir,\n",
    "#                                       class_mode = \"categorical\",\n",
    "#                                       target_size = (X, Y),\n",
    "#                                       color_mode=\"rgb\",\n",
    "#                                       batch_size = BATCH_SIZE, \n",
    "#                                       shuffle = False,\n",
    "#                                       subset='validation',\n",
    "#                                       seed = 42)\n",
    "X, y= train_ds.next()"
   ]
  },
  {
   "cell_type": "code",
   "execution_count": 5,
   "id": "1fd2c08b",
   "metadata": {},
   "outputs": [
    {
     "data": {
      "text/plain": [
       "'colon_aca\\\\colonca1.jpeg'"
      ]
     },
     "execution_count": 5,
     "metadata": {},
     "output_type": "execute_result"
    }
   ],
   "source": [
    "train_ds.filenames[0]"
   ]
  },
  {
   "cell_type": "code",
   "execution_count": 6,
   "id": "268059cb",
   "metadata": {},
   "outputs": [],
   "source": [
    "# sqzeShape= np.squeeze(train_ds[0][0], axis=0)"
   ]
  },
  {
   "cell_type": "code",
   "execution_count": 7,
   "id": "f3baaac4",
   "metadata": {},
   "outputs": [],
   "source": [
    "# sqzeShape.shape"
   ]
  },
  {
   "cell_type": "code",
   "execution_count": 8,
   "id": "93cb6995",
   "metadata": {},
   "outputs": [
    {
     "name": "stdout",
     "output_type": "stream",
     "text": [
      "CPU times: total: 15.6 ms\n",
      "Wall time: 17 ms\n"
     ]
    }
   ],
   "source": [
    "%%time\n",
    "genDataArr= []\n",
    "for i, j in zip(X, y):\n",
    "    tupleGrp= (i, j)\n",
    "    genDataArr.append(tupleGrp)"
   ]
  },
  {
   "cell_type": "code",
   "execution_count": 9,
   "id": "a90d9c5c",
   "metadata": {},
   "outputs": [],
   "source": [
    "# np.save('genData96.npy', data)"
   ]
  },
  {
   "cell_type": "code",
   "execution_count": 10,
   "id": "92ee8101",
   "metadata": {},
   "outputs": [],
   "source": [
    "# genData96= np.load('genData96.npy', allow_pickle= True)"
   ]
  },
  {
   "cell_type": "code",
   "execution_count": 11,
   "id": "67d81a29",
   "metadata": {
    "scrolled": true
   },
   "outputs": [
    {
     "name": "stdout",
     "output_type": "stream",
     "text": [
      "CPU times: total: 0 ns\n",
      "Wall time: 9.97 ms\n"
     ]
    },
    {
     "data": {
      "text/html": [
       "<div>\n",
       "<style scoped>\n",
       "    .dataframe tbody tr th:only-of-type {\n",
       "        vertical-align: middle;\n",
       "    }\n",
       "\n",
       "    .dataframe tbody tr th {\n",
       "        vertical-align: top;\n",
       "    }\n",
       "\n",
       "    .dataframe thead th {\n",
       "        text-align: right;\n",
       "    }\n",
       "</style>\n",
       "<table border=\"1\" class=\"dataframe\">\n",
       "  <thead>\n",
       "    <tr style=\"text-align: right;\">\n",
       "      <th></th>\n",
       "      <th>imageVector</th>\n",
       "      <th>label</th>\n",
       "    </tr>\n",
       "  </thead>\n",
       "  <tbody>\n",
       "    <tr>\n",
       "      <th>0</th>\n",
       "      <td>[[[0.9803922, 0.8078432, 0.91372555], [0.93333...</td>\n",
       "      <td>[1.0, 0.0, 0.0, 0.0, 0.0]</td>\n",
       "    </tr>\n",
       "    <tr>\n",
       "      <th>1</th>\n",
       "      <td>[[[0.882353, 0.7372549, 0.9490197], [0.8588236...</td>\n",
       "      <td>[1.0, 0.0, 0.0, 0.0, 0.0]</td>\n",
       "    </tr>\n",
       "    <tr>\n",
       "      <th>2</th>\n",
       "      <td>[[[0.9960785, 1.0, 0.9803922], [0.9960785, 1.0...</td>\n",
       "      <td>[1.0, 0.0, 0.0, 0.0, 0.0]</td>\n",
       "    </tr>\n",
       "    <tr>\n",
       "      <th>3</th>\n",
       "      <td>[[[0.94117653, 0.90196085, 0.9058824], [0.9372...</td>\n",
       "      <td>[1.0, 0.0, 0.0, 0.0, 0.0]</td>\n",
       "    </tr>\n",
       "    <tr>\n",
       "      <th>4</th>\n",
       "      <td>[[[0.9843138, 0.5372549, 0.7725491], [0.972549...</td>\n",
       "      <td>[1.0, 0.0, 0.0, 0.0, 0.0]</td>\n",
       "    </tr>\n",
       "  </tbody>\n",
       "</table>\n",
       "</div>"
      ],
      "text/plain": [
       "                                         imageVector  \\\n",
       "0  [[[0.9803922, 0.8078432, 0.91372555], [0.93333...   \n",
       "1  [[[0.882353, 0.7372549, 0.9490197], [0.8588236...   \n",
       "2  [[[0.9960785, 1.0, 0.9803922], [0.9960785, 1.0...   \n",
       "3  [[[0.94117653, 0.90196085, 0.9058824], [0.9372...   \n",
       "4  [[[0.9843138, 0.5372549, 0.7725491], [0.972549...   \n",
       "\n",
       "                       label  \n",
       "0  [1.0, 0.0, 0.0, 0.0, 0.0]  \n",
       "1  [1.0, 0.0, 0.0, 0.0, 0.0]  \n",
       "2  [1.0, 0.0, 0.0, 0.0, 0.0]  \n",
       "3  [1.0, 0.0, 0.0, 0.0, 0.0]  \n",
       "4  [1.0, 0.0, 0.0, 0.0, 0.0]  "
      ]
     },
     "execution_count": 11,
     "metadata": {},
     "output_type": "execute_result"
    }
   ],
   "source": [
    "%%time\n",
    "dfGenData= pd.DataFrame(genDataArr, columns=['imageVector', 'label'])\n",
    "dfGenData.head()"
   ]
  },
  {
   "cell_type": "code",
   "execution_count": 12,
   "id": "b0e4bb7f",
   "metadata": {},
   "outputs": [
    {
     "name": "stdout",
     "output_type": "stream",
     "text": [
      "CPU times: total: 1.3 s\n",
      "Wall time: 1.37 s\n"
     ]
    },
    {
     "data": {
      "text/plain": [
       "(25000, 96, 96, 3)"
      ]
     },
     "execution_count": 12,
     "metadata": {},
     "output_type": "execute_result"
    }
   ],
   "source": [
    "%%time\n",
    "imgVectData= np.array(dfGenData['imageVector'].tolist())\n",
    "imgVectData.shape"
   ]
  },
  {
   "cell_type": "code",
   "execution_count": 13,
   "id": "47955703",
   "metadata": {},
   "outputs": [
    {
     "data": {
      "text/plain": [
       "(25000, 5)"
      ]
     },
     "execution_count": 13,
     "metadata": {},
     "output_type": "execute_result"
    }
   ],
   "source": [
    "labelData= np.array(dfGenData['label'].tolist())\n",
    "labelData.shape"
   ]
  },
  {
   "cell_type": "code",
   "execution_count": 14,
   "id": "78ce75d6",
   "metadata": {},
   "outputs": [
    {
     "data": {
      "text/plain": [
       "array([1., 0., 0., 0., 0.], dtype=float32)"
      ]
     },
     "execution_count": 14,
     "metadata": {},
     "output_type": "execute_result"
    }
   ],
   "source": [
    "dfGenData['label'][0]"
   ]
  },
  {
   "cell_type": "code",
   "execution_count": 15,
   "id": "6d265377",
   "metadata": {},
   "outputs": [],
   "source": [
    "def normalizeImage(image):\n",
    "    imgVect= image/ 255.0\n",
    "    return imgVect"
   ]
  },
  {
   "cell_type": "code",
   "execution_count": 16,
   "id": "ab06cfc2",
   "metadata": {},
   "outputs": [],
   "source": [
    "def imageFromArray(imgFile):\n",
    "    data= array_to_img(imgFile)\n",
    "    return data"
   ]
  },
  {
   "cell_type": "code",
   "execution_count": 17,
   "id": "d8b884bb",
   "metadata": {},
   "outputs": [],
   "source": [
    "def convertToClasses(label):\n",
    "    classLabel= np.argmax(label, axis=None, out=None)\n",
    "    return classLabel"
   ]
  },
  {
   "cell_type": "code",
   "execution_count": 18,
   "id": "d61ad0e8",
   "metadata": {},
   "outputs": [],
   "source": [
    "def assignLabelTag(cell):\n",
    "    if cell == 0:\n",
    "        labelTag= 'colon_aca'\n",
    "    elif cell == 1:\n",
    "        labelTag= 'colon_n'\n",
    "    elif cell == 2:\n",
    "        labelTag= 'lung_aca'\n",
    "    elif cell == 3:\n",
    "        labelTag= 'lung_n'\n",
    "    else:\n",
    "        labelTag= 'lung_scc'\n",
    "    return labelTag"
   ]
  },
  {
   "cell_type": "code",
   "execution_count": 19,
   "id": "b1b1e865",
   "metadata": {},
   "outputs": [],
   "source": [
    "# y_classes= [np.argmax(y, axis=None, out=None) for y in y]"
   ]
  },
  {
   "cell_type": "code",
   "execution_count": 20,
   "id": "aeb4e177",
   "metadata": {},
   "outputs": [],
   "source": [
    "dfGenData['classLabel']= dfGenData['label'].apply(convertToClasses)\n",
    "dfGenData['image']= dfGenData['imageVector'].apply(lambda x: imageFromArray(x))"
   ]
  },
  {
   "cell_type": "code",
   "execution_count": 21,
   "id": "57f2f58e",
   "metadata": {},
   "outputs": [],
   "source": [
    "dfGenData['labelName']= dfGenData['classLabel'].apply(lambda x: assignLabelTag(x))"
   ]
  },
  {
   "cell_type": "code",
   "execution_count": 22,
   "id": "763603cf",
   "metadata": {
    "scrolled": true
   },
   "outputs": [
    {
     "data": {
      "text/html": [
       "<div>\n",
       "<style scoped>\n",
       "    .dataframe tbody tr th:only-of-type {\n",
       "        vertical-align: middle;\n",
       "    }\n",
       "\n",
       "    .dataframe tbody tr th {\n",
       "        vertical-align: top;\n",
       "    }\n",
       "\n",
       "    .dataframe thead th {\n",
       "        text-align: right;\n",
       "    }\n",
       "</style>\n",
       "<table border=\"1\" class=\"dataframe\">\n",
       "  <thead>\n",
       "    <tr style=\"text-align: right;\">\n",
       "      <th></th>\n",
       "      <th>imageVector</th>\n",
       "      <th>label</th>\n",
       "      <th>classLabel</th>\n",
       "      <th>image</th>\n",
       "      <th>labelName</th>\n",
       "    </tr>\n",
       "  </thead>\n",
       "  <tbody>\n",
       "    <tr>\n",
       "      <th>19007</th>\n",
       "      <td>[[[0.8431373, 0.7803922, 0.7803922], [0.843137...</td>\n",
       "      <td>[0.0, 0.0, 0.0, 1.0, 0.0]</td>\n",
       "      <td>3</td>\n",
       "      <td>&lt;PIL.Image.Image image mode=RGB size=96x96 at ...</td>\n",
       "      <td>lung_n</td>\n",
       "    </tr>\n",
       "    <tr>\n",
       "      <th>1549</th>\n",
       "      <td>[[[0.6666667, 0.654902, 0.9333334], [0.5921569...</td>\n",
       "      <td>[1.0, 0.0, 0.0, 0.0, 0.0]</td>\n",
       "      <td>0</td>\n",
       "      <td>&lt;PIL.Image.Image image mode=RGB size=96x96 at ...</td>\n",
       "      <td>colon_aca</td>\n",
       "    </tr>\n",
       "    <tr>\n",
       "      <th>20378</th>\n",
       "      <td>[[[0.7019608, 0.6431373, 0.9607844], [0.678431...</td>\n",
       "      <td>[0.0, 0.0, 0.0, 0.0, 1.0]</td>\n",
       "      <td>4</td>\n",
       "      <td>&lt;PIL.Image.Image image mode=RGB size=96x96 at ...</td>\n",
       "      <td>lung_scc</td>\n",
       "    </tr>\n",
       "    <tr>\n",
       "      <th>11331</th>\n",
       "      <td>[[[0.68235296, 0.54509807, 0.8745099], [0.6980...</td>\n",
       "      <td>[0.0, 0.0, 1.0, 0.0, 0.0]</td>\n",
       "      <td>2</td>\n",
       "      <td>&lt;PIL.Image.Image image mode=RGB size=96x96 at ...</td>\n",
       "      <td>lung_aca</td>\n",
       "    </tr>\n",
       "    <tr>\n",
       "      <th>22092</th>\n",
       "      <td>[[[0.53333336, 0.45098042, 0.86274517], [0.556...</td>\n",
       "      <td>[0.0, 0.0, 0.0, 0.0, 1.0]</td>\n",
       "      <td>4</td>\n",
       "      <td>&lt;PIL.Image.Image image mode=RGB size=96x96 at ...</td>\n",
       "      <td>lung_scc</td>\n",
       "    </tr>\n",
       "    <tr>\n",
       "      <th>11051</th>\n",
       "      <td>[[[0.627451, 0.47450984, 0.8235295], [0.658823...</td>\n",
       "      <td>[0.0, 0.0, 1.0, 0.0, 0.0]</td>\n",
       "      <td>2</td>\n",
       "      <td>&lt;PIL.Image.Image image mode=RGB size=96x96 at ...</td>\n",
       "      <td>lung_aca</td>\n",
       "    </tr>\n",
       "    <tr>\n",
       "      <th>8988</th>\n",
       "      <td>[[[0.9176471, 0.8941177, 0.9333334], [0.941176...</td>\n",
       "      <td>[0.0, 1.0, 0.0, 0.0, 0.0]</td>\n",
       "      <td>1</td>\n",
       "      <td>&lt;PIL.Image.Image image mode=RGB size=96x96 at ...</td>\n",
       "      <td>colon_n</td>\n",
       "    </tr>\n",
       "    <tr>\n",
       "      <th>20130</th>\n",
       "      <td>[[[0.43529415, 0.36078432, 0.7803922], [0.5921...</td>\n",
       "      <td>[0.0, 0.0, 0.0, 0.0, 1.0]</td>\n",
       "      <td>4</td>\n",
       "      <td>&lt;PIL.Image.Image image mode=RGB size=96x96 at ...</td>\n",
       "      <td>lung_scc</td>\n",
       "    </tr>\n",
       "    <tr>\n",
       "      <th>6264</th>\n",
       "      <td>[[[0.89019614, 0.72156864, 0.8980393], [0.7137...</td>\n",
       "      <td>[0.0, 1.0, 0.0, 0.0, 0.0]</td>\n",
       "      <td>1</td>\n",
       "      <td>&lt;PIL.Image.Image image mode=RGB size=96x96 at ...</td>\n",
       "      <td>colon_n</td>\n",
       "    </tr>\n",
       "    <tr>\n",
       "      <th>2160</th>\n",
       "      <td>[[[0.5137255, 0.4039216, 0.8470589], [0.564705...</td>\n",
       "      <td>[1.0, 0.0, 0.0, 0.0, 0.0]</td>\n",
       "      <td>0</td>\n",
       "      <td>&lt;PIL.Image.Image image mode=RGB size=96x96 at ...</td>\n",
       "      <td>colon_aca</td>\n",
       "    </tr>\n",
       "  </tbody>\n",
       "</table>\n",
       "</div>"
      ],
      "text/plain": [
       "                                             imageVector  \\\n",
       "19007  [[[0.8431373, 0.7803922, 0.7803922], [0.843137...   \n",
       "1549   [[[0.6666667, 0.654902, 0.9333334], [0.5921569...   \n",
       "20378  [[[0.7019608, 0.6431373, 0.9607844], [0.678431...   \n",
       "11331  [[[0.68235296, 0.54509807, 0.8745099], [0.6980...   \n",
       "22092  [[[0.53333336, 0.45098042, 0.86274517], [0.556...   \n",
       "11051  [[[0.627451, 0.47450984, 0.8235295], [0.658823...   \n",
       "8988   [[[0.9176471, 0.8941177, 0.9333334], [0.941176...   \n",
       "20130  [[[0.43529415, 0.36078432, 0.7803922], [0.5921...   \n",
       "6264   [[[0.89019614, 0.72156864, 0.8980393], [0.7137...   \n",
       "2160   [[[0.5137255, 0.4039216, 0.8470589], [0.564705...   \n",
       "\n",
       "                           label  classLabel  \\\n",
       "19007  [0.0, 0.0, 0.0, 1.0, 0.0]           3   \n",
       "1549   [1.0, 0.0, 0.0, 0.0, 0.0]           0   \n",
       "20378  [0.0, 0.0, 0.0, 0.0, 1.0]           4   \n",
       "11331  [0.0, 0.0, 1.0, 0.0, 0.0]           2   \n",
       "22092  [0.0, 0.0, 0.0, 0.0, 1.0]           4   \n",
       "11051  [0.0, 0.0, 1.0, 0.0, 0.0]           2   \n",
       "8988   [0.0, 1.0, 0.0, 0.0, 0.0]           1   \n",
       "20130  [0.0, 0.0, 0.0, 0.0, 1.0]           4   \n",
       "6264   [0.0, 1.0, 0.0, 0.0, 0.0]           1   \n",
       "2160   [1.0, 0.0, 0.0, 0.0, 0.0]           0   \n",
       "\n",
       "                                                   image  labelName  \n",
       "19007  <PIL.Image.Image image mode=RGB size=96x96 at ...     lung_n  \n",
       "1549   <PIL.Image.Image image mode=RGB size=96x96 at ...  colon_aca  \n",
       "20378  <PIL.Image.Image image mode=RGB size=96x96 at ...   lung_scc  \n",
       "11331  <PIL.Image.Image image mode=RGB size=96x96 at ...   lung_aca  \n",
       "22092  <PIL.Image.Image image mode=RGB size=96x96 at ...   lung_scc  \n",
       "11051  <PIL.Image.Image image mode=RGB size=96x96 at ...   lung_aca  \n",
       "8988   <PIL.Image.Image image mode=RGB size=96x96 at ...    colon_n  \n",
       "20130  <PIL.Image.Image image mode=RGB size=96x96 at ...   lung_scc  \n",
       "6264   <PIL.Image.Image image mode=RGB size=96x96 at ...    colon_n  \n",
       "2160   <PIL.Image.Image image mode=RGB size=96x96 at ...  colon_aca  "
      ]
     },
     "execution_count": 22,
     "metadata": {},
     "output_type": "execute_result"
    }
   ],
   "source": [
    "dfGenData.sample(10)"
   ]
  },
  {
   "cell_type": "code",
   "execution_count": 23,
   "id": "1c16b679",
   "metadata": {
    "scrolled": true
   },
   "outputs": [
    {
     "data": {
      "image/png": "[encoded data removed]",
      "text/plain": [
       "<PIL.Image.Image image mode=RGB size=96x96>"
      ]
     },
     "execution_count": 23,
     "metadata": {},
     "output_type": "execute_result"
    }
   ],
   "source": [
    "dfGenData['image'][0]"
   ]
  },
  {
   "cell_type": "code",
   "execution_count": 24,
   "id": "d035310c",
   "metadata": {},
   "outputs": [
    {
     "name": "stdout",
     "output_type": "stream",
     "text": [
      "CPU times: total: 15.6 ms\n",
      "Wall time: 10.9 ms\n"
     ]
    },
    {
     "data": {
      "text/html": [
       "<div>\n",
       "<style scoped>\n",
       "    .dataframe tbody tr th:only-of-type {\n",
       "        vertical-align: middle;\n",
       "    }\n",
       "\n",
       "    .dataframe tbody tr th {\n",
       "        vertical-align: top;\n",
       "    }\n",
       "\n",
       "    .dataframe thead th {\n",
       "        text-align: right;\n",
       "    }\n",
       "</style>\n",
       "<table border=\"1\" class=\"dataframe\">\n",
       "  <thead>\n",
       "    <tr style=\"text-align: right;\">\n",
       "      <th></th>\n",
       "      <th>imageVector</th>\n",
       "      <th>label</th>\n",
       "      <th>classLabel</th>\n",
       "      <th>image</th>\n",
       "      <th>labelName</th>\n",
       "    </tr>\n",
       "  </thead>\n",
       "  <tbody>\n",
       "    <tr>\n",
       "      <th>3162</th>\n",
       "      <td>[[[0.6039216, 0.43921572, 0.86274517], [0.5882...</td>\n",
       "      <td>[0.0, 1.0, 0.0, 0.0, 0.0]</td>\n",
       "      <td>1</td>\n",
       "      <td>&lt;PIL.Image.Image image mode=RGB size=96x96 at ...</td>\n",
       "      <td>colon_n</td>\n",
       "    </tr>\n",
       "    <tr>\n",
       "      <th>2424</th>\n",
       "      <td>[[[0.5803922, 0.43137258, 0.654902], [0.619607...</td>\n",
       "      <td>[0.0, 0.0, 0.0, 1.0, 0.0]</td>\n",
       "      <td>3</td>\n",
       "      <td>&lt;PIL.Image.Image image mode=RGB size=96x96 at ...</td>\n",
       "      <td>lung_n</td>\n",
       "    </tr>\n",
       "    <tr>\n",
       "      <th>15141</th>\n",
       "      <td>[[[0.7058824, 0.64705884, 0.909804], [0.929411...</td>\n",
       "      <td>[1.0, 0.0, 0.0, 0.0, 0.0]</td>\n",
       "      <td>0</td>\n",
       "      <td>&lt;PIL.Image.Image image mode=RGB size=96x96 at ...</td>\n",
       "      <td>colon_aca</td>\n",
       "    </tr>\n",
       "    <tr>\n",
       "      <th>13116</th>\n",
       "      <td>[[[0.69803923, 0.69411767, 0.9294118], [0.6392...</td>\n",
       "      <td>[0.0, 0.0, 1.0, 0.0, 0.0]</td>\n",
       "      <td>2</td>\n",
       "      <td>&lt;PIL.Image.Image image mode=RGB size=96x96 at ...</td>\n",
       "      <td>lung_aca</td>\n",
       "    </tr>\n",
       "    <tr>\n",
       "      <th>21081</th>\n",
       "      <td>[[[0.5176471, 0.31764707, 0.81568635], [0.5450...</td>\n",
       "      <td>[0.0, 1.0, 0.0, 0.0, 0.0]</td>\n",
       "      <td>1</td>\n",
       "      <td>&lt;PIL.Image.Image image mode=RGB size=96x96 at ...</td>\n",
       "      <td>colon_n</td>\n",
       "    </tr>\n",
       "    <tr>\n",
       "      <th>21897</th>\n",
       "      <td>[[[0.8078432, 0.6784314, 0.90196085], [0.77647...</td>\n",
       "      <td>[1.0, 0.0, 0.0, 0.0, 0.0]</td>\n",
       "      <td>0</td>\n",
       "      <td>&lt;PIL.Image.Image image mode=RGB size=96x96 at ...</td>\n",
       "      <td>colon_aca</td>\n",
       "    </tr>\n",
       "    <tr>\n",
       "      <th>19382</th>\n",
       "      <td>[[[0.8705883, 0.8352942, 0.9176471], [0.858823...</td>\n",
       "      <td>[0.0, 0.0, 1.0, 0.0, 0.0]</td>\n",
       "      <td>2</td>\n",
       "      <td>&lt;PIL.Image.Image image mode=RGB size=96x96 at ...</td>\n",
       "      <td>lung_aca</td>\n",
       "    </tr>\n",
       "    <tr>\n",
       "      <th>17062</th>\n",
       "      <td>[[[0.6784314, 0.7686275, 0.94117653], [0.68627...</td>\n",
       "      <td>[0.0, 0.0, 1.0, 0.0, 0.0]</td>\n",
       "      <td>2</td>\n",
       "      <td>&lt;PIL.Image.Image image mode=RGB size=96x96 at ...</td>\n",
       "      <td>lung_aca</td>\n",
       "    </tr>\n",
       "    <tr>\n",
       "      <th>19547</th>\n",
       "      <td>[[[0.62352943, 0.49803925, 0.92549026], [0.572...</td>\n",
       "      <td>[0.0, 0.0, 0.0, 0.0, 1.0]</td>\n",
       "      <td>4</td>\n",
       "      <td>&lt;PIL.Image.Image image mode=RGB size=96x96 at ...</td>\n",
       "      <td>lung_scc</td>\n",
       "    </tr>\n",
       "    <tr>\n",
       "      <th>22512</th>\n",
       "      <td>[[[0.9843138, 0.96470594, 0.95294124], [0.9921...</td>\n",
       "      <td>[0.0, 1.0, 0.0, 0.0, 0.0]</td>\n",
       "      <td>1</td>\n",
       "      <td>&lt;PIL.Image.Image image mode=RGB size=96x96 at ...</td>\n",
       "      <td>colon_n</td>\n",
       "    </tr>\n",
       "  </tbody>\n",
       "</table>\n",
       "</div>"
      ],
      "text/plain": [
       "                                             imageVector  \\\n",
       "3162   [[[0.6039216, 0.43921572, 0.86274517], [0.5882...   \n",
       "2424   [[[0.5803922, 0.43137258, 0.654902], [0.619607...   \n",
       "15141  [[[0.7058824, 0.64705884, 0.909804], [0.929411...   \n",
       "13116  [[[0.69803923, 0.69411767, 0.9294118], [0.6392...   \n",
       "21081  [[[0.5176471, 0.31764707, 0.81568635], [0.5450...   \n",
       "21897  [[[0.8078432, 0.6784314, 0.90196085], [0.77647...   \n",
       "19382  [[[0.8705883, 0.8352942, 0.9176471], [0.858823...   \n",
       "17062  [[[0.6784314, 0.7686275, 0.94117653], [0.68627...   \n",
       "19547  [[[0.62352943, 0.49803925, 0.92549026], [0.572...   \n",
       "22512  [[[0.9843138, 0.96470594, 0.95294124], [0.9921...   \n",
       "\n",
       "                           label  classLabel  \\\n",
       "3162   [0.0, 1.0, 0.0, 0.0, 0.0]           1   \n",
       "2424   [0.0, 0.0, 0.0, 1.0, 0.0]           3   \n",
       "15141  [1.0, 0.0, 0.0, 0.0, 0.0]           0   \n",
       "13116  [0.0, 0.0, 1.0, 0.0, 0.0]           2   \n",
       "21081  [0.0, 1.0, 0.0, 0.0, 0.0]           1   \n",
       "21897  [1.0, 0.0, 0.0, 0.0, 0.0]           0   \n",
       "19382  [0.0, 0.0, 1.0, 0.0, 0.0]           2   \n",
       "17062  [0.0, 0.0, 1.0, 0.0, 0.0]           2   \n",
       "19547  [0.0, 0.0, 0.0, 0.0, 1.0]           4   \n",
       "22512  [0.0, 1.0, 0.0, 0.0, 0.0]           1   \n",
       "\n",
       "                                                   image  labelName  \n",
       "3162   <PIL.Image.Image image mode=RGB size=96x96 at ...    colon_n  \n",
       "2424   <PIL.Image.Image image mode=RGB size=96x96 at ...     lung_n  \n",
       "15141  <PIL.Image.Image image mode=RGB size=96x96 at ...  colon_aca  \n",
       "13116  <PIL.Image.Image image mode=RGB size=96x96 at ...   lung_aca  \n",
       "21081  <PIL.Image.Image image mode=RGB size=96x96 at ...    colon_n  \n",
       "21897  <PIL.Image.Image image mode=RGB size=96x96 at ...  colon_aca  \n",
       "19382  <PIL.Image.Image image mode=RGB size=96x96 at ...   lung_aca  \n",
       "17062  <PIL.Image.Image image mode=RGB size=96x96 at ...   lung_aca  \n",
       "19547  <PIL.Image.Image image mode=RGB size=96x96 at ...   lung_scc  \n",
       "22512  <PIL.Image.Image image mode=RGB size=96x96 at ...    colon_n  "
      ]
     },
     "execution_count": 24,
     "metadata": {},
     "output_type": "execute_result"
    }
   ],
   "source": [
    "%%time\n",
    "dfData= dfGenData.sample(frac=1).reset_index(drop= True)\n",
    "dfData.sample(10)"
   ]
  },
  {
   "cell_type": "code",
   "execution_count": 25,
   "id": "56a25e5d",
   "metadata": {},
   "outputs": [],
   "source": [
    "dfArr= []\n",
    "for i in dfData.values:\n",
    "    dfArr.append(i)"
   ]
  },
  {
   "cell_type": "code",
   "execution_count": 26,
   "id": "d164b584",
   "metadata": {},
   "outputs": [],
   "source": [
    "np.save('shufGenData96.npy', dfArr)"
   ]
  },
  {
   "cell_type": "code",
   "execution_count": 27,
   "id": "e5ff72de",
   "metadata": {},
   "outputs": [
    {
     "name": "stdout",
     "output_type": "stream",
     "text": [
      "CPU times: total: 7.47 s\n",
      "Wall time: 49.5 s\n"
     ]
    },
    {
     "data": {
      "text/html": [
       "<div>\n",
       "<style scoped>\n",
       "    .dataframe tbody tr th:only-of-type {\n",
       "        vertical-align: middle;\n",
       "    }\n",
       "\n",
       "    .dataframe tbody tr th {\n",
       "        vertical-align: top;\n",
       "    }\n",
       "\n",
       "    .dataframe thead th {\n",
       "        text-align: right;\n",
       "    }\n",
       "</style>\n",
       "<table border=\"1\" class=\"dataframe\">\n",
       "  <thead>\n",
       "    <tr style=\"text-align: right;\">\n",
       "      <th></th>\n",
       "      <th>imageVector</th>\n",
       "      <th>label</th>\n",
       "      <th>classLabel</th>\n",
       "      <th>image</th>\n",
       "      <th>labelName</th>\n",
       "    </tr>\n",
       "  </thead>\n",
       "  <tbody>\n",
       "    <tr>\n",
       "      <th>0</th>\n",
       "      <td>[[[0.9960785, 0.98823535, 0.9921569], [0.98823...</td>\n",
       "      <td>[1.0, 0.0, 0.0, 0.0, 0.0]</td>\n",
       "      <td>0</td>\n",
       "      <td>&lt;PIL.Image.Image image mode=RGB size=96x96 at ...</td>\n",
       "      <td>colon_aca</td>\n",
       "    </tr>\n",
       "    <tr>\n",
       "      <th>1</th>\n",
       "      <td>[[[0.98823535, 0.97647065, 0.9568628], [0.8470...</td>\n",
       "      <td>[1.0, 0.0, 0.0, 0.0, 0.0]</td>\n",
       "      <td>0</td>\n",
       "      <td>&lt;PIL.Image.Image image mode=RGB size=96x96 at ...</td>\n",
       "      <td>colon_aca</td>\n",
       "    </tr>\n",
       "    <tr>\n",
       "      <th>2</th>\n",
       "      <td>[[[0.79215693, 0.6745098, 0.96470594], [0.7647...</td>\n",
       "      <td>[0.0, 0.0, 1.0, 0.0, 0.0]</td>\n",
       "      <td>2</td>\n",
       "      <td>&lt;PIL.Image.Image image mode=RGB size=96x96 at ...</td>\n",
       "      <td>lung_aca</td>\n",
       "    </tr>\n",
       "    <tr>\n",
       "      <th>3</th>\n",
       "      <td>[[[0.83921576, 0.5647059, 0.7686275], [0.85882...</td>\n",
       "      <td>[0.0, 0.0, 0.0, 1.0, 0.0]</td>\n",
       "      <td>3</td>\n",
       "      <td>&lt;PIL.Image.Image image mode=RGB size=96x96 at ...</td>\n",
       "      <td>lung_n</td>\n",
       "    </tr>\n",
       "    <tr>\n",
       "      <th>4</th>\n",
       "      <td>[[[0.40000004, 0.21176472, 0.7411765], [0.1647...</td>\n",
       "      <td>[0.0, 0.0, 0.0, 0.0, 1.0]</td>\n",
       "      <td>4</td>\n",
       "      <td>&lt;PIL.Image.Image image mode=RGB size=96x96 at ...</td>\n",
       "      <td>lung_scc</td>\n",
       "    </tr>\n",
       "  </tbody>\n",
       "</table>\n",
       "</div>"
      ],
      "text/plain": [
       "                                         imageVector  \\\n",
       "0  [[[0.9960785, 0.98823535, 0.9921569], [0.98823...   \n",
       "1  [[[0.98823535, 0.97647065, 0.9568628], [0.8470...   \n",
       "2  [[[0.79215693, 0.6745098, 0.96470594], [0.7647...   \n",
       "3  [[[0.83921576, 0.5647059, 0.7686275], [0.85882...   \n",
       "4  [[[0.40000004, 0.21176472, 0.7411765], [0.1647...   \n",
       "\n",
       "                       label classLabel  \\\n",
       "0  [1.0, 0.0, 0.0, 0.0, 0.0]          0   \n",
       "1  [1.0, 0.0, 0.0, 0.0, 0.0]          0   \n",
       "2  [0.0, 0.0, 1.0, 0.0, 0.0]          2   \n",
       "3  [0.0, 0.0, 0.0, 1.0, 0.0]          3   \n",
       "4  [0.0, 0.0, 0.0, 0.0, 1.0]          4   \n",
       "\n",
       "                                               image  labelName  \n",
       "0  <PIL.Image.Image image mode=RGB size=96x96 at ...  colon_aca  \n",
       "1  <PIL.Image.Image image mode=RGB size=96x96 at ...  colon_aca  \n",
       "2  <PIL.Image.Image image mode=RGB size=96x96 at ...   lung_aca  \n",
       "3  <PIL.Image.Image image mode=RGB size=96x96 at ...     lung_n  \n",
       "4  <PIL.Image.Image image mode=RGB size=96x96 at ...   lung_scc  "
      ]
     },
     "execution_count": 27,
     "metadata": {},
     "output_type": "execute_result"
    }
   ],
   "source": [
    "%%time\n",
    "dfShuffledData= pd.DataFrame(np.load('shufGenData96.npy', allow_pickle= True),\n",
    "                             columns=['imageVector', 'label', 'classLabel', 'image', 'labelName'])\n",
    "dfShuffledData.head()"
   ]
  },
  {
   "cell_type": "code",
   "execution_count": 28,
   "id": "d6b155e5",
   "metadata": {
    "scrolled": true
   },
   "outputs": [
    {
     "data": {
      "text/plain": [
       "0    5000\n",
       "2    5000\n",
       "3    5000\n",
       "4    5000\n",
       "1    5000\n",
       "Name: classLabel, dtype: int64"
      ]
     },
     "execution_count": 28,
     "metadata": {},
     "output_type": "execute_result"
    }
   ],
   "source": [
    "dfShuffledData['classLabel'].value_counts()"
   ]
  },
  {
   "cell_type": "code",
   "execution_count": 29,
   "id": "25077105",
   "metadata": {},
   "outputs": [
    {
     "name": "stdout",
     "output_type": "stream",
     "text": [
      "CPU times: total: 984 ms\n",
      "Wall time: 1.03 s\n"
     ]
    },
    {
     "data": {
      "text/plain": [
       "(25000, 96, 96, 3)"
      ]
     },
     "execution_count": 29,
     "metadata": {},
     "output_type": "execute_result"
    }
   ],
   "source": [
    "%%time\n",
    "imgVectData01= np.array(dfShuffledData['imageVector'].tolist())\n",
    "imgVectData01.shape"
   ]
  },
  {
   "cell_type": "code",
   "execution_count": 30,
   "id": "330e9897",
   "metadata": {},
   "outputs": [
    {
     "data": {
      "text/plain": [
       "(25000, 5)"
      ]
     },
     "execution_count": 30,
     "metadata": {},
     "output_type": "execute_result"
    }
   ],
   "source": [
    "labelData01= np.array(dfShuffledData['label'].tolist())\n",
    "labelData01.shape"
   ]
  },
  {
   "cell_type": "code",
   "execution_count": null,
   "id": "ecf3c1e2",
   "metadata": {},
   "outputs": [],
   "source": []
  }
 ],
 "metadata": {
  "kernelspec": {
   "display_name": "Python 3 (ipykernel)",
   "language": "python",
   "name": "python3"
  },
  "language_info": {
   "codemirror_mode": {
    "name": "ipython",
    "version": 3
   },
   "file_extension": ".py",
   "mimetype": "text/x-python",
   "name": "python",
   "nbconvert_exporter": "python",
   "pygments_lexer": "ipython3",
   "version": "3.10.4"
  }
 },
 "nbformat": 4,
 "nbformat_minor": 5
}
