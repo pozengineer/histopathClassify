{
 "cells": [
  {
   "cell_type": "markdown",
   "id": "314918a4",
   "metadata": {},
   "source": [
    "## Capstone- Cancer Histopathology: Evaluate CNN Models"
   ]
  },
  {
   "cell_type": "markdown",
   "id": "bd859a50",
   "metadata": {},
   "source": [
    "Dataset:\n",
    "- A. Borkowski, \"Lung and Colon Cancer Histopathological Images\", Kaggle.com, 2020. [Online]. Available: https://www.kaggle.com/datasets/andrewmvd/lung-and-colon-cancer-histopathological-images. [Accessed: 30- Jul- 2022]."
   ]
  },
  {
   "cell_type": "markdown",
   "id": "23a85b27",
   "metadata": {},
   "source": [
    "Sources:\n",
    "- Borkowski AA, Bui MM, Thomas LB, Wilson CP, DeLand LA, Mastorides SM. Lung and Colon Cancer Histopathological Image Dataset (LC25000). arXiv:1912.12142v1 [eess.IV], 2019"
   ]
  },
  {
   "cell_type": "markdown",
   "id": "097655f0",
   "metadata": {},
   "source": [
    "Image Labels:\n",
    "- Lung benign tissue: 3\n",
    "- Lung adenocarcinoma: 2\n",
    "- Lung squamous cell carcinoma: 4\n",
    "- Colon adenocarcinoma: 0\n",
    "- Colon benign tissue: 1"
   ]
  },
  {
   "cell_type": "markdown",
   "id": "6fb75b02",
   "metadata": {},
   "source": [
    "### Import Libraries"
   ]
  },
  {
   "cell_type": "code",
   "execution_count": 1,
   "id": "6c2baf60",
   "metadata": {},
   "outputs": [],
   "source": [
    "## Import Libraries\n",
    "import numpy as np\n",
    "import pandas as pd\n",
    "import re as regex\n",
    "from pathlib import Path\n",
    "import time\n",
    "import math\n",
    "\n",
    "import matplotlib.pyplot as plt\n",
    "import matplotlib.gridspec as gridspec\n",
    "import seaborn as sns\n",
    "\n",
    "from sklearn.svm import SVC\n",
    "\n",
    "from sklearn.metrics import confusion_matrix\n",
    "from sklearn.metrics import accuracy_score\n",
    "from sklearn.metrics import precision_score\n",
    "from sklearn.metrics import recall_score\n",
    "from sklearn.metrics import average_precision_score\n",
    "from sklearn.metrics import roc_auc_score\n",
    "from sklearn.metrics import precision_recall_curve\n",
    "from sklearn.metrics import roc_curve\n",
    "from sklearn.metrics import auc\n",
    "from sklearn.metrics import classification_report\n",
    "\n",
    "import string\n",
    "from collections import Counter\n",
    "\n",
    "from sklearn.ensemble import GradientBoostingClassifier\n",
    "from sklearn.ensemble import RandomForestClassifier\n",
    "from sklearn.linear_model import LogisticRegression\n",
    "from sklearn.model_selection import train_test_split\n",
    "from sklearn.naive_bayes import MultinomialNB\n",
    "from sklearn.svm import LinearSVC\n",
    "\n",
    "# import keras\n",
    "from keras.models import Sequential\n",
    "from keras.layers import Dense\n",
    "from keras.layers import Conv2D\n",
    "from keras.layers import Flatten\n",
    "from keras.utils import to_categorical\n",
    "from tensorflow.keras import datasets, layers, models\n",
    "\n",
    "import warnings\n",
    "warnings.filterwarnings('ignore')\n",
    "\n",
    "%matplotlib inline"
   ]
  },
  {
   "cell_type": "markdown",
   "id": "ebc9f416",
   "metadata": {},
   "source": [
    "### Load Data"
   ]
  },
  {
   "cell_type": "code",
   "execution_count": 2,
   "id": "0f972fb4",
   "metadata": {},
   "outputs": [],
   "source": [
    "import PIL\n",
    "from PIL import Image\n",
    "import glob\n",
    "import os, os.path\n",
    "from numpy import asarray\n",
    "\n",
    "import keras\n",
    "import tensorflow as tf\n",
    "from tensorflow.keras.preprocessing.image import load_img\n",
    "from tensorflow.keras.preprocessing.image import img_to_array\n",
    "from tensorflow.keras.preprocessing.image import array_to_img\n",
    "from sklearn.metrics import mean_squared_error\n",
    "from sklearn.model_selection import cross_val_score\n",
    "\n",
    "from IPython.display import display, HTML\n",
    "import pymongo\n",
    "from pymongo import MongoClient\n",
    "import io\n",
    "from bson.binary import Binary"
   ]
  },
  {
   "cell_type": "code",
   "execution_count": 3,
   "id": "7128c302",
   "metadata": {},
   "outputs": [],
   "source": [
    "from keras.layers import Dense, Flatten, Conv2D, MaxPooling2D, Dropout\n",
    "from keras.models import Model, Sequential\n",
    "from keras.applications.xception import Xception\n",
    "from keras.applications import *\n",
    "from keras.callbacks import EarlyStopping\n",
    "from keras.applications.vgg16 import VGG16, preprocess_input\n",
    "from tensorflow.keras.applications.resnet50 import ResNet50\n",
    "from keras.applications.vgg19 import VGG19\n",
    "from keras.applications.inception_v3 import InceptionV3\n",
    "from keras.applications.mobilenet import MobileNet\n",
    "from tensorflow.keras.preprocessing.image import ImageDataGenerator\n",
    "from keras.wrappers.scikit_learn import KerasClassifier\n",
    "from scikeras.wrappers import KerasRegressor\n",
    "from sklearn.model_selection import KFold\n",
    "from sklearn.model_selection import StratifiedKFold\n",
    "from keras.layers import BatchNormalization\n",
    "from keras.models import load_model"
   ]
  },
  {
   "cell_type": "code",
   "execution_count": 4,
   "id": "000b9f24",
   "metadata": {
    "scrolled": true
   },
   "outputs": [
    {
     "name": "stdout",
     "output_type": "stream",
     "text": [
      "CPU times: total: 4.86 s\n",
      "Wall time: 28.7 s\n"
     ]
    },
    {
     "data": {
      "text/html": [
       "<div>\n",
       "<style scoped>\n",
       "    .dataframe tbody tr th:only-of-type {\n",
       "        vertical-align: middle;\n",
       "    }\n",
       "\n",
       "    .dataframe tbody tr th {\n",
       "        vertical-align: top;\n",
       "    }\n",
       "\n",
       "    .dataframe thead th {\n",
       "        text-align: right;\n",
       "    }\n",
       "</style>\n",
       "<table border=\"1\" class=\"dataframe\">\n",
       "  <thead>\n",
       "    <tr style=\"text-align: right;\">\n",
       "      <th></th>\n",
       "      <th>imageVector</th>\n",
       "      <th>label</th>\n",
       "      <th>classLabel</th>\n",
       "      <th>image</th>\n",
       "      <th>labelName</th>\n",
       "    </tr>\n",
       "  </thead>\n",
       "  <tbody>\n",
       "    <tr>\n",
       "      <th>0</th>\n",
       "      <td>[[[0.9960785, 0.98823535, 0.9921569], [0.98823...</td>\n",
       "      <td>[1.0, 0.0, 0.0, 0.0, 0.0]</td>\n",
       "      <td>0</td>\n",
       "      <td>&lt;PIL.Image.Image image mode=RGB size=96x96 at ...</td>\n",
       "      <td>colon_aca</td>\n",
       "    </tr>\n",
       "    <tr>\n",
       "      <th>1</th>\n",
       "      <td>[[[0.98823535, 0.97647065, 0.9568628], [0.8470...</td>\n",
       "      <td>[1.0, 0.0, 0.0, 0.0, 0.0]</td>\n",
       "      <td>0</td>\n",
       "      <td>&lt;PIL.Image.Image image mode=RGB size=96x96 at ...</td>\n",
       "      <td>colon_aca</td>\n",
       "    </tr>\n",
       "    <tr>\n",
       "      <th>2</th>\n",
       "      <td>[[[0.79215693, 0.6745098, 0.96470594], [0.7647...</td>\n",
       "      <td>[0.0, 0.0, 1.0, 0.0, 0.0]</td>\n",
       "      <td>2</td>\n",
       "      <td>&lt;PIL.Image.Image image mode=RGB size=96x96 at ...</td>\n",
       "      <td>lung_aca</td>\n",
       "    </tr>\n",
       "    <tr>\n",
       "      <th>3</th>\n",
       "      <td>[[[0.83921576, 0.5647059, 0.7686275], [0.85882...</td>\n",
       "      <td>[0.0, 0.0, 0.0, 1.0, 0.0]</td>\n",
       "      <td>3</td>\n",
       "      <td>&lt;PIL.Image.Image image mode=RGB size=96x96 at ...</td>\n",
       "      <td>lung_n</td>\n",
       "    </tr>\n",
       "    <tr>\n",
       "      <th>4</th>\n",
       "      <td>[[[0.40000004, 0.21176472, 0.7411765], [0.1647...</td>\n",
       "      <td>[0.0, 0.0, 0.0, 0.0, 1.0]</td>\n",
       "      <td>4</td>\n",
       "      <td>&lt;PIL.Image.Image image mode=RGB size=96x96 at ...</td>\n",
       "      <td>lung_scc</td>\n",
       "    </tr>\n",
       "  </tbody>\n",
       "</table>\n",
       "</div>"
      ],
      "text/plain": [
       "                                         imageVector  \\\n",
       "0  [[[0.9960785, 0.98823535, 0.9921569], [0.98823...   \n",
       "1  [[[0.98823535, 0.97647065, 0.9568628], [0.8470...   \n",
       "2  [[[0.79215693, 0.6745098, 0.96470594], [0.7647...   \n",
       "3  [[[0.83921576, 0.5647059, 0.7686275], [0.85882...   \n",
       "4  [[[0.40000004, 0.21176472, 0.7411765], [0.1647...   \n",
       "\n",
       "                       label classLabel  \\\n",
       "0  [1.0, 0.0, 0.0, 0.0, 0.0]          0   \n",
       "1  [1.0, 0.0, 0.0, 0.0, 0.0]          0   \n",
       "2  [0.0, 0.0, 1.0, 0.0, 0.0]          2   \n",
       "3  [0.0, 0.0, 0.0, 1.0, 0.0]          3   \n",
       "4  [0.0, 0.0, 0.0, 0.0, 1.0]          4   \n",
       "\n",
       "                                               image  labelName  \n",
       "0  <PIL.Image.Image image mode=RGB size=96x96 at ...  colon_aca  \n",
       "1  <PIL.Image.Image image mode=RGB size=96x96 at ...  colon_aca  \n",
       "2  <PIL.Image.Image image mode=RGB size=96x96 at ...   lung_aca  \n",
       "3  <PIL.Image.Image image mode=RGB size=96x96 at ...     lung_n  \n",
       "4  <PIL.Image.Image image mode=RGB size=96x96 at ...   lung_scc  "
      ]
     },
     "execution_count": 4,
     "metadata": {},
     "output_type": "execute_result"
    }
   ],
   "source": [
    "%%time\n",
    "dfShuffledData= pd.DataFrame(np.load('shufGenData96.npy', allow_pickle= True),\n",
    "                             columns=['imageVector', 'label', 'classLabel', 'image', 'labelName'])\n",
    "dfShuffledData.head()"
   ]
  },
  {
   "cell_type": "code",
   "execution_count": 5,
   "id": "854dfaa3",
   "metadata": {},
   "outputs": [],
   "source": [
    "def originSize(image):\n",
    "    imgVect= image * 255.0\n",
    "    return imgVect"
   ]
  },
  {
   "cell_type": "code",
   "execution_count": 6,
   "id": "fbf31932",
   "metadata": {},
   "outputs": [
    {
     "name": "stdout",
     "output_type": "stream",
     "text": [
      "CPU times: total: 55.9 s\n",
      "Wall time: 56 s\n"
     ]
    }
   ],
   "source": [
    "%%time\n",
    "dfShuffledData['originSize']= dfShuffledData['imageVector'].apply(originSize)"
   ]
  },
  {
   "cell_type": "code",
   "execution_count": 7,
   "id": "bd3e81e6",
   "metadata": {
    "scrolled": true
   },
   "outputs": [
    {
     "data": {
      "text/html": [
       "<div>\n",
       "<style scoped>\n",
       "    .dataframe tbody tr th:only-of-type {\n",
       "        vertical-align: middle;\n",
       "    }\n",
       "\n",
       "    .dataframe tbody tr th {\n",
       "        vertical-align: top;\n",
       "    }\n",
       "\n",
       "    .dataframe thead th {\n",
       "        text-align: right;\n",
       "    }\n",
       "</style>\n",
       "<table border=\"1\" class=\"dataframe\">\n",
       "  <thead>\n",
       "    <tr style=\"text-align: right;\">\n",
       "      <th></th>\n",
       "      <th>imageVector</th>\n",
       "      <th>label</th>\n",
       "      <th>classLabel</th>\n",
       "      <th>image</th>\n",
       "      <th>labelName</th>\n",
       "      <th>originSize</th>\n",
       "    </tr>\n",
       "  </thead>\n",
       "  <tbody>\n",
       "    <tr>\n",
       "      <th>0</th>\n",
       "      <td>[[[0.9960785, 0.98823535, 0.9921569], [0.98823...</td>\n",
       "      <td>[1.0, 0.0, 0.0, 0.0, 0.0]</td>\n",
       "      <td>0</td>\n",
       "      <td>&lt;PIL.Image.Image image mode=RGB size=96x96 at ...</td>\n",
       "      <td>colon_aca</td>\n",
       "      <td>[[[254.00002, 252.00002, 253.00002], [252.0000...</td>\n",
       "    </tr>\n",
       "    <tr>\n",
       "      <th>1</th>\n",
       "      <td>[[[0.98823535, 0.97647065, 0.9568628], [0.8470...</td>\n",
       "      <td>[1.0, 0.0, 0.0, 0.0, 0.0]</td>\n",
       "      <td>0</td>\n",
       "      <td>&lt;PIL.Image.Image image mode=RGB size=96x96 at ...</td>\n",
       "      <td>colon_aca</td>\n",
       "      <td>[[[252.00002, 249.00002, 244.00002], [216.0000...</td>\n",
       "    </tr>\n",
       "    <tr>\n",
       "      <th>2</th>\n",
       "      <td>[[[0.79215693, 0.6745098, 0.96470594], [0.7647...</td>\n",
       "      <td>[0.0, 0.0, 1.0, 0.0, 0.0]</td>\n",
       "      <td>2</td>\n",
       "      <td>&lt;PIL.Image.Image image mode=RGB size=96x96 at ...</td>\n",
       "      <td>lung_aca</td>\n",
       "      <td>[[[202.00002, 172.0, 246.00002], [195.00002, 1...</td>\n",
       "    </tr>\n",
       "    <tr>\n",
       "      <th>3</th>\n",
       "      <td>[[[0.83921576, 0.5647059, 0.7686275], [0.85882...</td>\n",
       "      <td>[0.0, 0.0, 0.0, 1.0, 0.0]</td>\n",
       "      <td>3</td>\n",
       "      <td>&lt;PIL.Image.Image image mode=RGB size=96x96 at ...</td>\n",
       "      <td>lung_n</td>\n",
       "      <td>[[[214.00002, 144.0, 196.00002], [219.00002, 1...</td>\n",
       "    </tr>\n",
       "    <tr>\n",
       "      <th>4</th>\n",
       "      <td>[[[0.40000004, 0.21176472, 0.7411765], [0.1647...</td>\n",
       "      <td>[0.0, 0.0, 0.0, 0.0, 1.0]</td>\n",
       "      <td>4</td>\n",
       "      <td>&lt;PIL.Image.Image image mode=RGB size=96x96 at ...</td>\n",
       "      <td>lung_scc</td>\n",
       "      <td>[[[102.00001, 54.000004, 189.0], [42.0, 0.0, 1...</td>\n",
       "    </tr>\n",
       "  </tbody>\n",
       "</table>\n",
       "</div>"
      ],
      "text/plain": [
       "                                         imageVector  \\\n",
       "0  [[[0.9960785, 0.98823535, 0.9921569], [0.98823...   \n",
       "1  [[[0.98823535, 0.97647065, 0.9568628], [0.8470...   \n",
       "2  [[[0.79215693, 0.6745098, 0.96470594], [0.7647...   \n",
       "3  [[[0.83921576, 0.5647059, 0.7686275], [0.85882...   \n",
       "4  [[[0.40000004, 0.21176472, 0.7411765], [0.1647...   \n",
       "\n",
       "                       label classLabel  \\\n",
       "0  [1.0, 0.0, 0.0, 0.0, 0.0]          0   \n",
       "1  [1.0, 0.0, 0.0, 0.0, 0.0]          0   \n",
       "2  [0.0, 0.0, 1.0, 0.0, 0.0]          2   \n",
       "3  [0.0, 0.0, 0.0, 1.0, 0.0]          3   \n",
       "4  [0.0, 0.0, 0.0, 0.0, 1.0]          4   \n",
       "\n",
       "                                               image  labelName  \\\n",
       "0  <PIL.Image.Image image mode=RGB size=96x96 at ...  colon_aca   \n",
       "1  <PIL.Image.Image image mode=RGB size=96x96 at ...  colon_aca   \n",
       "2  <PIL.Image.Image image mode=RGB size=96x96 at ...   lung_aca   \n",
       "3  <PIL.Image.Image image mode=RGB size=96x96 at ...     lung_n   \n",
       "4  <PIL.Image.Image image mode=RGB size=96x96 at ...   lung_scc   \n",
       "\n",
       "                                          originSize  \n",
       "0  [[[254.00002, 252.00002, 253.00002], [252.0000...  \n",
       "1  [[[252.00002, 249.00002, 244.00002], [216.0000...  \n",
       "2  [[[202.00002, 172.0, 246.00002], [195.00002, 1...  \n",
       "3  [[[214.00002, 144.0, 196.00002], [219.00002, 1...  \n",
       "4  [[[102.00001, 54.000004, 189.0], [42.0, 0.0, 1...  "
      ]
     },
     "execution_count": 7,
     "metadata": {},
     "output_type": "execute_result"
    }
   ],
   "source": [
    "dfShuffledData.head()"
   ]
  },
  {
   "cell_type": "code",
   "execution_count": 8,
   "id": "a2d64c25",
   "metadata": {},
   "outputs": [
    {
     "name": "stdout",
     "output_type": "stream",
     "text": [
      "CPU times: total: 906 ms\n",
      "Wall time: 899 ms\n"
     ]
    },
    {
     "data": {
      "text/plain": [
       "(25000, 96, 96, 3)"
      ]
     },
     "execution_count": 8,
     "metadata": {},
     "output_type": "execute_result"
    }
   ],
   "source": [
    "%%time\n",
    "imgVectData= np.array(dfShuffledData['originSize'].tolist())\n",
    "imgVectData.shape"
   ]
  },
  {
   "cell_type": "code",
   "execution_count": 9,
   "id": "9d9855d9",
   "metadata": {},
   "outputs": [
    {
     "name": "stdout",
     "output_type": "stream",
     "text": [
      "CPU times: total: 12.9 s\n",
      "Wall time: 14.1 s\n"
     ]
    },
    {
     "data": {
      "text/plain": [
       "(25000, 96, 96, 3)"
      ]
     },
     "execution_count": 9,
     "metadata": {},
     "output_type": "execute_result"
    }
   ],
   "source": [
    "%%time\n",
    "imgVectData01= np.array(dfShuffledData['imageVector'].tolist())\n",
    "imgVectData01.shape"
   ]
  },
  {
   "cell_type": "code",
   "execution_count": 10,
   "id": "5589384b",
   "metadata": {},
   "outputs": [
    {
     "data": {
      "text/plain": [
       "(25000, 5)"
      ]
     },
     "execution_count": 10,
     "metadata": {},
     "output_type": "execute_result"
    }
   ],
   "source": [
    "labelData01= np.array(dfShuffledData['label'].tolist())\n",
    "labelData01.shape"
   ]
  },
  {
   "cell_type": "markdown",
   "id": "4ffe3734",
   "metadata": {},
   "source": [
    "### Prepare data"
   ]
  },
  {
   "cell_type": "code",
   "execution_count": 11,
   "id": "eafa1711",
   "metadata": {},
   "outputs": [],
   "source": [
    "# Prepare input data\n",
    "X= imgVectData\n",
    "X2= imgVectData01\n",
    "\n",
    "# output\n",
    "y= labelData01.astype(np.uint8)"
   ]
  },
  {
   "cell_type": "code",
   "execution_count": 12,
   "id": "738c52ad",
   "metadata": {},
   "outputs": [
    {
     "name": "stdout",
     "output_type": "stream",
     "text": [
      "CPU times: total: 26.6 s\n",
      "Wall time: 37.6 s\n"
     ]
    }
   ],
   "source": [
    "%%time\n",
    "X_train, X_test, y_train, y_test= train_test_split(X, y, test_size= 0.3, random_state= 65)\n",
    "X2_train, X2_test, y2_train, y2_test= train_test_split(X2, y, test_size= 0.3, random_state= 65)"
   ]
  },
  {
   "cell_type": "code",
   "execution_count": 13,
   "id": "bfa35333",
   "metadata": {},
   "outputs": [
    {
     "data": {
      "text/plain": [
       "(17500, 96, 96, 3)"
      ]
     },
     "execution_count": 13,
     "metadata": {},
     "output_type": "execute_result"
    }
   ],
   "source": [
    "X_train.shape"
   ]
  },
  {
   "cell_type": "code",
   "execution_count": 14,
   "id": "2d668c3f",
   "metadata": {},
   "outputs": [
    {
     "data": {
      "text/plain": [
       "(7500, 96, 96, 3)"
      ]
     },
     "execution_count": 14,
     "metadata": {},
     "output_type": "execute_result"
    }
   ],
   "source": [
    "X_test.shape"
   ]
  },
  {
   "cell_type": "code",
   "execution_count": 15,
   "id": "af11bea9",
   "metadata": {},
   "outputs": [
    {
     "data": {
      "text/plain": [
       "(17500, 5)"
      ]
     },
     "execution_count": 15,
     "metadata": {},
     "output_type": "execute_result"
    }
   ],
   "source": [
    "y_train.shape"
   ]
  },
  {
   "cell_type": "code",
   "execution_count": 16,
   "id": "3064758c",
   "metadata": {},
   "outputs": [
    {
     "data": {
      "text/plain": [
       "['image31',\n",
       " 'image32',\n",
       " 'image33',\n",
       " 'image34',\n",
       " 'image35',\n",
       " 'image36',\n",
       " 'image37',\n",
       " 'image38',\n",
       " 'image39',\n",
       " 'image40',\n",
       " 'image41',\n",
       " 'image42',\n",
       " 'image43',\n",
       " 'image44']"
      ]
     },
     "execution_count": 16,
     "metadata": {},
     "output_type": "execute_result"
    }
   ],
   "source": [
    "modelTag= ['cnnMk01', 'cnnMk02', 'cnnMk03', 'cnnMk04', 'cnnMk05', 'cnnMk06',\n",
    "           'VGG16', 'VGG19', 'Xception', 'InceptionV3']\n",
    "imageTag= []\n",
    "for i in range(31, 45):\n",
    "    if (i <= 9):\n",
    "        img= f'image0{i}'\n",
    "        imageTag.append(img)\n",
    "    else:\n",
    "        img= f'image{i}'\n",
    "        imageTag.append(img)\n",
    "imageTag"
   ]
  },
  {
   "cell_type": "markdown",
   "id": "1ad9f004",
   "metadata": {},
   "source": [
    "### Create Predictions"
   ]
  },
  {
   "cell_type": "code",
   "execution_count": 17,
   "id": "56811a3b",
   "metadata": {},
   "outputs": [],
   "source": [
    "fitTimeArr= np.load('preTrainFitTime.npy')"
   ]
  },
  {
   "cell_type": "code",
   "execution_count": 18,
   "id": "46caa322",
   "metadata": {},
   "outputs": [],
   "source": [
    "cnnMk01= load_model('cnnMkMod01.h5')\n",
    "cnnMk02= load_model('cnnMkMod02.h5')\n",
    "cnnMk03= load_model('cnnMkMod03.h5')\n",
    "cnnMk04= load_model('cnnMkMod04.h5')\n",
    "cnnMk05= load_model('cnnMkMod05.h5')\n",
    "cnnMk06= load_model('cnnMkMod06.h5')\n",
    "vgg16Model= load_model('vgg16Mod.h5')\n",
    "vgg19Model= load_model('vgg19Mod.h5')\n",
    "xceptionModel= load_model('xceptionMod.h5')\n",
    "inceptionV3Model= load_model('inceptionV3Mod.h5')"
   ]
  },
  {
   "cell_type": "code",
   "execution_count": 19,
   "id": "e66c9c86",
   "metadata": {},
   "outputs": [],
   "source": [
    "def predictClass(model, xtest):\n",
    "    predict_x= model.predict(xtest)\n",
    "    classes_x= predict_x.argmax(axis= 1)\n",
    "    return classes_x"
   ]
  },
  {
   "cell_type": "code",
   "execution_count": 20,
   "id": "664b99be",
   "metadata": {},
   "outputs": [],
   "source": [
    "def evalModel(model, xtest, ytest):\n",
    "    tic01= time.time()\n",
    "    evalScore= model.evaluate(xtest, ytest, batch_size= 10)\n",
    "    print('\\nTest loss: %.6f, Test accuracy: %.6f' % tuple(evalScore))\n",
    "    toc01= time.time()\n",
    "    evalRunTime= (toc01-tic01)*1000\n",
    "    return [evalScore, evalRunTime]"
   ]
  },
  {
   "cell_type": "code",
   "execution_count": 21,
   "id": "1ef7a2ba",
   "metadata": {},
   "outputs": [],
   "source": [
    "def print_cm(cm):\n",
    "    d_size= max(len('%d' % cm.max()), len('%d' % cm.shape[1]))\n",
    "    if min(cm.shape) > 10: # make sparse\n",
    "        print('Sparse Matrix (*=diagonal)')\n",
    "        fmt_r= 'r%%0%dd' % d_size\n",
    "        fmt_c= ', c%%0%dd%%s= %%%dd' % (d_size, d_size)\n",
    "        for i in range(cm.shape[0]):\n",
    "            s= fmt_r % i\n",
    "            for j in range(cm.shape[1]):\n",
    "                if cm[i, j] > 0:\n",
    "                    s += fmt_c % (j, '*' if i == j else ' ', cm[i, j])\n",
    "            print(s)\n",
    "    else: # make dense\n",
    "        c= '%%%dd ' % d_size\n",
    "        s= '%s| ' % (' ' * d_size)\n",
    "        s += ''.join([c % i for i in range(len(cm[0]))])\n",
    "        print(s)\n",
    "        print('-' * len(s))\n",
    "        for i, r in enumerate(cm):\n",
    "            s= '%2d| ' % i\n",
    "            s += c * len(r)\n",
    "            print(s % tuple(r))"
   ]
  },
  {
   "cell_type": "code",
   "execution_count": 22,
   "id": "94d13351",
   "metadata": {
    "scrolled": true
   },
   "outputs": [],
   "source": [
    "def confuseMatrix(ytest, classes_x, modelTag, imageTag):\n",
    "    y_test_target= np.array([x.argmax() for x in y_test])\n",
    "    cm= confusion_matrix(y_test_target, classes_x)\n",
    "    print_cm(cm)\n",
    "    \n",
    "    confuseLabels= ('colon_aca', 'colon_n', 'lung_aca', 'lung_n', 'lung_scc')\n",
    "    # plot\n",
    "    fig, ax = plt.subplots(1, 1, figsize = (8, 6))\n",
    "    fig.subplots_adjust(left = 0.02, right = 0.98, wspace = 0.2)\n",
    "    # Confusion Matrix\n",
    "    sns.heatmap(cm, square= True, annot= True, fmt= 'd', cbar= False, cmap= 'Blues', ax= ax,\n",
    "               xticklabels= confuseLabels, yticklabels= confuseLabels)\n",
    "\n",
    "    ax.set_title(f'Confusion Matrix ({modelTag})')\n",
    "    ax.set_xlabel('True label')\n",
    "    ax.set_ylabel('Predicted label')\n",
    "\n",
    "    plt.savefig(f'{imageTag}.png', facecolor='w', bbox_inches=\"tight\",\n",
    "            pad_inches=0.3, transparent=True)\n",
    "\n",
    "    plt.show()\n",
    "    return [y_test_target, cm]"
   ]
  },
  {
   "cell_type": "code",
   "execution_count": 23,
   "id": "726552de",
   "metadata": {},
   "outputs": [],
   "source": [
    "def kfoldCrossVal(model, xData, yData, xTrain, yTrain):\n",
    "    # define 5-fold cross validation test harness\n",
    "    kfold= KFold(n_splits= 5)\n",
    "    cvScores= []\n",
    "    for train, test in kfold.split(xTrain, yTrain):\n",
    "    #     print(X[train].shape, y[train].shape)\n",
    "        scores= model.evaluate(xData[train], yData[train], batch_size= 10, verbose= 1)\n",
    "        print(\"%s: %.4f\" % (model.metrics_names[1], scores[1]))\n",
    "        cvScores.append(scores[1])\n",
    "    meanAcc= np.mean(cvScores)\n",
    "    print(cvScores, meanAcc)\n",
    "    print(\"%.4f (+/- %.4f)\" % (np.mean(cvScores), np.std(cvScores)))\n",
    "    return [cvScores, meanAcc]"
   ]
  },
  {
   "cell_type": "code",
   "execution_count": 24,
   "id": "c90a7b8c",
   "metadata": {},
   "outputs": [],
   "source": [
    "def classReport(yTestTarget, classes_x):\n",
    "    classReport= classification_report(yTestTarget, classes_x)\n",
    "    classReportDict= classification_report(yTestTarget, classes_x, output_dict= True)\n",
    "    print(classReport)\n",
    "    return [classReportDict]"
   ]
  },
  {
   "cell_type": "code",
   "execution_count": 45,
   "id": "2de47cb9",
   "metadata": {},
   "outputs": [],
   "source": [
    "def modelArray(evalScore, classReportDict, evalRunTime, meanAcc):\n",
    "    arr01= []\n",
    "    arr01.append(evalScore)\n",
    "    for i in classReportDict['macro avg']:\n",
    "#         print(i)\n",
    "        classMetric= classReportDict['macro avg'][i]\n",
    "        arr01.append(classMetric)\n",
    "\n",
    "#     arr01.append(modelTag)\n",
    "    arr01.append(evalRunTime)\n",
    "    arr01.append(meanAcc)\n",
    "    print(arr01)\n",
    "    return arr01"
   ]
  },
  {
   "cell_type": "markdown",
   "id": "282c43d3",
   "metadata": {},
   "source": [
    "### cnnMk01 Summary"
   ]
  },
  {
   "cell_type": "code",
   "execution_count": 46,
   "id": "0c9eda3e",
   "metadata": {},
   "outputs": [
    {
     "name": "stdout",
     "output_type": "stream",
     "text": [
      "235/235 [==============================] - 27s 114ms/step\n"
     ]
    }
   ],
   "source": [
    "cnnMk01Predict= predictClass(cnnMk01, X_test)"
   ]
  },
  {
   "cell_type": "code",
   "execution_count": 47,
   "id": "d92b7670",
   "metadata": {},
   "outputs": [
    {
     "name": "stdout",
     "output_type": "stream",
     "text": [
      "750/750 [==============================] - 53s 69ms/step - loss: 0.2155 - accuracy: 0.9171\n",
      "\n",
      "Test loss: 0.215489, Test accuracy: 0.917067\n"
     ]
    }
   ],
   "source": [
    "cnnMk01Eval= evalModel(cnnMk01, X_test, y_test)"
   ]
  },
  {
   "cell_type": "code",
   "execution_count": 48,
   "id": "6ef1b772",
   "metadata": {},
   "outputs": [
    {
     "name": "stdout",
     "output_type": "stream",
     "text": [
      "    |    0    1    2    3    4 \n",
      "-------------------------------\n",
      " 0| 1462   51    4   26    4 \n",
      " 1|   76 1404    0    7    0 \n",
      " 2|   32    0 1347   22  105 \n",
      " 3|    0    0   25 1477    1 \n",
      " 4|    4    0  264    1 1188 \n"
     ]
    },
    {
     "data": {
      "image/png": "[encoded data removed]",
      "text/plain": [
       "<Figure size 576x432 with 1 Axes>"
      ]
     },
     "metadata": {
      "needs_background": "light"
     },
     "output_type": "display_data"
    }
   ],
   "source": [
    "cnnMk01ConfuseMatrix= confuseMatrix(y_test, cnnMk01Predict, modelTag[0], imageTag[0])"
   ]
  },
  {
   "cell_type": "code",
   "execution_count": 49,
   "id": "49cdca53",
   "metadata": {},
   "outputs": [
    {
     "name": "stdout",
     "output_type": "stream",
     "text": [
      "              precision    recall  f1-score   support\n",
      "\n",
      "           0       0.93      0.95      0.94      1547\n",
      "           1       0.96      0.94      0.95      1487\n",
      "           2       0.82      0.89      0.86      1506\n",
      "           3       0.96      0.98      0.97      1503\n",
      "           4       0.92      0.82      0.86      1457\n",
      "\n",
      "    accuracy                           0.92      7500\n",
      "   macro avg       0.92      0.92      0.92      7500\n",
      "weighted avg       0.92      0.92      0.92      7500\n",
      "\n"
     ]
    },
    {
     "data": {
      "text/plain": [
       "{'precision': 0.9187716368475938,\n",
       " 'recall': 0.916347098971689,\n",
       " 'f1-score': 0.9166160341126985,\n",
       " 'support': 7500}"
      ]
     },
     "execution_count": 49,
     "metadata": {},
     "output_type": "execute_result"
    }
   ],
   "source": [
    "cnnMk01Report= classReport(cnnMk01ConfuseMatrix[0], cnnMk01Predict)\n",
    "cnnMk01Report[0]['macro avg']"
   ]
  },
  {
   "cell_type": "code",
   "execution_count": 50,
   "id": "b0e61196",
   "metadata": {},
   "outputs": [
    {
     "name": "stdout",
     "output_type": "stream",
     "text": [
      "1400/1400 [==============================] - 82s 59ms/step - loss: 0.1939 - accuracy: 0.9264\n",
      "accuracy: 0.9264\n",
      "1400/1400 [==============================] - 89s 63ms/step - loss: 0.1921 - accuracy: 0.9277\n",
      "accuracy: 0.9277\n",
      "1400/1400 [==============================] - 90s 64ms/step - loss: 0.1923 - accuracy: 0.9259\n",
      "accuracy: 0.9259\n",
      "1400/1400 [==============================] - 96s 69ms/step - loss: 0.1914 - accuracy: 0.9266\n",
      "accuracy: 0.9266\n",
      "1400/1400 [==============================] - 97s 69ms/step - loss: 0.1931 - accuracy: 0.9274\n",
      "accuracy: 0.9274\n",
      "[0.9263571500778198, 0.9277142882347107, 0.9259285926818848, 0.9266428351402283, 0.9273571372032166] 0.9268000006675721\n",
      "0.9268 (+/- 0.0007)\n"
     ]
    }
   ],
   "source": [
    "cnnMk01Kfold= kfoldCrossVal(cnnMk01, X, y, X_train, y_train)"
   ]
  },
  {
   "cell_type": "code",
   "execution_count": 51,
   "id": "dd84ebf7",
   "metadata": {
    "scrolled": true
   },
   "outputs": [
    {
     "name": "stdout",
     "output_type": "stream",
     "text": [
      "[0.9170666933059692, 0.9187716368475938, 0.916347098971689, 0.9166160341126985, 7500, 52598.28853607178, 0.9268000006675721]\n"
     ]
    },
    {
     "data": {
      "text/plain": [
       "[0.9170666933059692,\n",
       " 0.9187716368475938,\n",
       " 0.916347098971689,\n",
       " 0.9166160341126985,\n",
       " 7500,\n",
       " 52598.28853607178,\n",
       " 0.9268000006675721]"
      ]
     },
     "execution_count": 51,
     "metadata": {},
     "output_type": "execute_result"
    }
   ],
   "source": [
    "cnnMk01Arr= modelArray(cnnMk01Eval[0][1], cnnMk01Report[0], cnnMk01Eval[1], cnnMk01Kfold[1])\n",
    "cnnMk01Arr"
   ]
  },
  {
   "cell_type": "code",
   "execution_count": 52,
   "id": "52878b3d",
   "metadata": {},
   "outputs": [],
   "source": [
    "np.save('cnnMk01Arr.npy', cnnMk01Arr)"
   ]
  },
  {
   "cell_type": "code",
   "execution_count": 53,
   "id": "d3ac2d2f",
   "metadata": {},
   "outputs": [
    {
     "data": {
      "text/plain": [
       "array([9.17066693e-01, 9.18771637e-01, 9.16347099e-01, 9.16616034e-01,\n",
       "       7.50000000e+03, 5.25982885e+04, 9.26800001e-01])"
      ]
     },
     "execution_count": 53,
     "metadata": {},
     "output_type": "execute_result"
    }
   ],
   "source": [
    "cnnMk01Arr= np.load('cnnMk01Arr.npy')\n",
    "cnnMk01Arr"
   ]
  },
  {
   "cell_type": "markdown",
   "id": "a4690e35",
   "metadata": {},
   "source": [
    "### cnnMk02 Summary"
   ]
  },
  {
   "cell_type": "code",
   "execution_count": 65,
   "id": "ee6990cc",
   "metadata": {},
   "outputs": [],
   "source": [
    "def modelSummary(model, X, y, xTrain, yTrain, xTest, yTest, modelTag, imageTag):\n",
    "    predictX= predictClass(model, xTest)\n",
    "    evalMod= evalModel(model, xTest, yTest)\n",
    "    confuseMatrixMod= confuseMatrix(yTest, predictX, modelTag, imageTag)\n",
    "    classReportMod= classReport(confuseMatrixMod[0], predictX)\n",
    "    kfoldCrossValMod= kfoldCrossVal(model, X, y, xTrain, yTrain)\n",
    "    modelArr= modelArray(evalMod[0][1], classReportMod[0], evalMod[1], kfoldCrossValMod[1])\n",
    "    return modelArr"
   ]
  },
  {
   "cell_type": "code",
   "execution_count": 66,
   "id": "8842331b",
   "metadata": {},
   "outputs": [
    {
     "name": "stdout",
     "output_type": "stream",
     "text": [
      "235/235 [==============================] - 213s 904ms/step\n",
      "750/750 [==============================] - 403s 536ms/step - loss: 0.1103 - accuracy: 0.9600\n",
      "\n",
      "Test loss: 0.110312, Test accuracy: 0.960000\n",
      "    |    0    1    2    3    4 \n",
      "-------------------------------\n",
      " 0| 1518   23    0    6    0 \n",
      " 1|  100 1384    0    3    0 \n",
      " 2|    0    0 1412   13   81 \n",
      " 3|    0    0    3 1500    0 \n",
      " 4|    0    0   71    0 1386 \n"
     ]
    },
    {
     "data": {
      "image/png": "[encoded data removed]",
      "text/plain": [
       "<Figure size 576x432 with 1 Axes>"
      ]
     },
     "metadata": {
      "needs_background": "light"
     },
     "output_type": "display_data"
    },
    {
     "name": "stdout",
     "output_type": "stream",
     "text": [
      "              precision    recall  f1-score   support\n",
      "\n",
      "           0       0.94      0.98      0.96      1547\n",
      "           1       0.98      0.93      0.96      1487\n",
      "           2       0.95      0.94      0.94      1506\n",
      "           3       0.99      1.00      0.99      1503\n",
      "           4       0.94      0.95      0.95      1457\n",
      "\n",
      "    accuracy                           0.96      7500\n",
      "   macro avg       0.96      0.96      0.96      7500\n",
      "weighted avg       0.96      0.96      0.96      7500\n",
      "\n",
      "1400/1400 [==============================] - 619s 442ms/step - loss: 0.0990 - accuracy: 0.9630\n",
      "accuracy: 0.9630\n",
      "1400/1400 [==============================] - 834s 595ms/step - loss: 0.1040 - accuracy: 0.9616\n",
      "accuracy: 0.9616\n",
      "1400/1400 [==============================] - 975s 696ms/step - loss: 0.1013 - accuracy: 0.9624\n",
      "accuracy: 0.9624\n",
      "1400/1400 [==============================] - 795s 568ms/step - loss: 0.1024 - accuracy: 0.9625\n",
      "accuracy: 0.9625\n",
      "1400/1400 [==============================] - 800s 571ms/step - loss: 0.1031 - accuracy: 0.9616\n",
      "accuracy: 0.9616\n",
      "[0.9629999995231628, 0.961642861366272, 0.9623571634292603, 0.9624999761581421, 0.961642861366272] 0.9622285723686218\n",
      "0.9622 (+/- 0.0005)\n",
      "[0.9599999785423279, 0.9604761922025438, 0.9597687570501222, 0.959861114276376, 7500, 403322.59726524353, 0.9622285723686218]\n"
     ]
    }
   ],
   "source": [
    "cnnMk02Summary= modelSummary(cnnMk02, X, y, X_train, y_train, X_test, y_test, modelTag[1], imageTag[1])"
   ]
  },
  {
   "cell_type": "code",
   "execution_count": 67,
   "id": "f750577b",
   "metadata": {},
   "outputs": [
    {
     "data": {
      "text/plain": [
       "[0.9599999785423279,\n",
       " 0.9604761922025438,\n",
       " 0.9597687570501222,\n",
       " 0.959861114276376,\n",
       " 7500,\n",
       " 403322.59726524353,\n",
       " 0.9622285723686218]"
      ]
     },
     "execution_count": 67,
     "metadata": {},
     "output_type": "execute_result"
    }
   ],
   "source": [
    "cnnMk02Summary"
   ]
  },
  {
   "cell_type": "code",
   "execution_count": 68,
   "id": "26c7cb32",
   "metadata": {},
   "outputs": [],
   "source": [
    "np.save('cnnMk02Arr.npy', cnnMk02Summary)"
   ]
  },
  {
   "cell_type": "code",
   "execution_count": 69,
   "id": "c60afb29",
   "metadata": {},
   "outputs": [
    {
     "data": {
      "text/plain": [
       "array([9.59999979e-01, 9.60476192e-01, 9.59768757e-01, 9.59861114e-01,\n",
       "       7.50000000e+03, 4.03322597e+05, 9.62228572e-01])"
      ]
     },
     "execution_count": 69,
     "metadata": {},
     "output_type": "execute_result"
    }
   ],
   "source": [
    "cnnMk02Arr= np.load('cnnMk02Arr.npy')\n",
    "cnnMk02Arr"
   ]
  },
  {
   "cell_type": "markdown",
   "id": "317c85d5",
   "metadata": {},
   "source": [
    "### cnnMk03 Summary"
   ]
  },
  {
   "cell_type": "code",
   "execution_count": 57,
   "id": "6d2ceeaf",
   "metadata": {
    "scrolled": false
   },
   "outputs": [
    {
     "name": "stdout",
     "output_type": "stream",
     "text": [
      "235/235 [==============================] - 22s 92ms/step\n",
      "750/750 [==============================] - 63s 84ms/step - loss: 0.1960 - accuracy: 0.9181\n",
      "\n",
      "Test loss: 0.196007, Test accuracy: 0.918133\n",
      "    |    0    1    2    3    4 \n",
      "-------------------------------\n",
      " 0| 1432   20   85    5    5 \n",
      " 1|  192 1294    1    0    0 \n",
      " 2|    0    0 1429    5   72 \n",
      " 3|    0    3   13 1487    0 \n",
      " 4|    0    0  213    0 1244 \n"
     ]
    },
    {
     "data": {
      "image/png": "[encoded data removed]",
      "text/plain": [
       "<Figure size 576x432 with 1 Axes>"
      ]
     },
     "metadata": {
      "needs_background": "light"
     },
     "output_type": "display_data"
    },
    {
     "name": "stdout",
     "output_type": "stream",
     "text": [
      "              precision    recall  f1-score   support\n",
      "\n",
      "           0       0.88      0.93      0.90      1547\n",
      "           1       0.98      0.87      0.92      1487\n",
      "           2       0.82      0.95      0.88      1506\n",
      "           3       0.99      0.99      0.99      1503\n",
      "           4       0.94      0.85      0.90      1457\n",
      "\n",
      "    accuracy                           0.92      7500\n",
      "   macro avg       0.92      0.92      0.92      7500\n",
      "weighted avg       0.92      0.92      0.92      7500\n",
      "\n",
      "1400/1400 [==============================] - 93s 66ms/step - loss: 0.1892 - accuracy: 0.9236\n",
      "accuracy: 0.9236\n",
      "1400/1400 [==============================] - 106s 75ms/step - loss: 0.1893 - accuracy: 0.9227\n",
      "accuracy: 0.9227\n",
      "1400/1400 [==============================] - 100s 71ms/step - loss: 0.1904 - accuracy: 0.9230\n",
      "accuracy: 0.9230\n",
      "1400/1400 [==============================] - 118s 84ms/step - loss: 0.1912 - accuracy: 0.9227\n",
      "accuracy: 0.9227\n",
      "1400/1400 [==============================] - 115s 82ms/step - loss: 0.1951 - accuracy: 0.9219\n",
      "accuracy: 0.9219\n",
      "[0.9236428737640381, 0.9227142930030823, 0.9229999780654907, 0.9227142930030823, 0.9219285845756531] 0.9228000044822693\n",
      "0.9228 (+/- 0.0006)\n",
      "[0.9181333184242249, 0.9240265824298355, 0.9175812098324032, 0.9186582189039697, 7500, 63596.34780883789, 0.9228000044822693]\n"
     ]
    }
   ],
   "source": [
    "cnnMk03Summary= modelSummary(cnnMk03, X2, y, X2_train, y2_train, X2_test, y2_test,\n",
    "                             modelTag[2], imageTag[2])"
   ]
  },
  {
   "cell_type": "code",
   "execution_count": 58,
   "id": "06d3fbbe",
   "metadata": {},
   "outputs": [],
   "source": [
    "np.save('cnnMk03Arr.npy', cnnMk03Summary)"
   ]
  },
  {
   "cell_type": "markdown",
   "id": "4ffba663",
   "metadata": {},
   "source": [
    "### cnnMk04 Summary"
   ]
  },
  {
   "cell_type": "code",
   "execution_count": 71,
   "id": "83beb22d",
   "metadata": {
    "scrolled": false
   },
   "outputs": [
    {
     "name": "stdout",
     "output_type": "stream",
     "text": [
      "235/235 [==============================] - 606s 3s/step\n",
      "750/750 [==============================] - 74s 99ms/step - loss: 0.3010 - accuracy: 0.8847\n",
      "\n",
      "Test loss: 0.301015, Test accuracy: 0.884667\n",
      "    |    0    1    2    3    4 \n",
      "-------------------------------\n",
      " 0|  963  516   48    6   14 \n",
      " 1|    0 1485    0    2    0 \n",
      " 2|    0    0 1276    5  225 \n",
      " 3|    0    0   21 1482    0 \n",
      " 4|    0    0   28    0 1429 \n"
     ]
    },
    {
     "data": {
      "image/png": "[encoded data removed]",
      "text/plain": [
       "<Figure size 576x432 with 1 Axes>"
      ]
     },
     "metadata": {
      "needs_background": "light"
     },
     "output_type": "display_data"
    },
    {
     "name": "stdout",
     "output_type": "stream",
     "text": [
      "              precision    recall  f1-score   support\n",
      "\n",
      "           0       1.00      0.62      0.77      1547\n",
      "           1       0.74      1.00      0.85      1487\n",
      "           2       0.93      0.85      0.89      1506\n",
      "           3       0.99      0.99      0.99      1503\n",
      "           4       0.86      0.98      0.91      1457\n",
      "\n",
      "    accuracy                           0.88      7500\n",
      "   macro avg       0.90      0.89      0.88      7500\n",
      "weighted avg       0.91      0.88      0.88      7500\n",
      "\n",
      "1400/1400 [==============================] - 97s 69ms/step - loss: 0.2648 - accuracy: 0.8975\n",
      "accuracy: 0.8975\n",
      "1400/1400 [==============================] - 118s 84ms/step - loss: 0.2659 - accuracy: 0.8989\n",
      "accuracy: 0.8989\n",
      "1400/1400 [==============================] - 96s 68ms/step - loss: 0.2646 - accuracy: 0.8974\n",
      "accuracy: 0.8974\n",
      "1400/1400 [==============================] - 136s 97ms/step - loss: 0.2678 - accuracy: 0.8979\n",
      "accuracy: 0.8979\n",
      "1400/1400 [==============================] - 137s 98ms/step - loss: 0.2706 - accuracy: 0.8964\n",
      "accuracy: 0.8964\n",
      "[0.8974999785423279, 0.8988571166992188, 0.897357165813446, 0.897857129573822, 0.8964285850524902] 0.897599995136261\n",
      "0.8976 (+/- 0.0008)\n",
      "[0.8846666812896729, 0.9038999392138752, 0.8870476184393972, 0.8816919008998866, 7500, 74468.01805496216, 0.897599995136261]\n"
     ]
    }
   ],
   "source": [
    "cnnMk04Summary= modelSummary(cnnMk04, X2, y, X2_train, y2_train, X2_test, y2_test,\n",
    "                             modelTag[3], imageTag[3])"
   ]
  },
  {
   "cell_type": "code",
   "execution_count": 72,
   "id": "5331e2d4",
   "metadata": {},
   "outputs": [],
   "source": [
    "np.save('cnnMk04Arr.npy', cnnMk04Summary)"
   ]
  },
  {
   "cell_type": "markdown",
   "id": "96e889ed",
   "metadata": {},
   "source": [
    "### cnnMk05 Summary"
   ]
  },
  {
   "cell_type": "code",
   "execution_count": 73,
   "id": "dfd749a4",
   "metadata": {},
   "outputs": [
    {
     "name": "stdout",
     "output_type": "stream",
     "text": [
      "235/235 [==============================] - 28s 119ms/step\n",
      "750/750 [==============================] - 42s 55ms/step - loss: 0.1701 - accuracy: 0.9348\n",
      "\n",
      "Test loss: 0.170067, Test accuracy: 0.934800\n",
      "    |    0    1    2    3    4 \n",
      "-------------------------------\n",
      " 0| 1508   18    9    4    8 \n",
      " 1|  198 1289    0    0    0 \n",
      " 2|   12    0 1373   12  109 \n",
      " 3|    0    0   13 1490    0 \n",
      " 4|    0    0  106    0 1351 \n"
     ]
    },
    {
     "data": {
      "image/png": "[encoded data removed]",
      "text/plain": [
       "<Figure size 576x432 with 1 Axes>"
      ]
     },
     "metadata": {
      "needs_background": "light"
     },
     "output_type": "display_data"
    },
    {
     "name": "stdout",
     "output_type": "stream",
     "text": [
      "              precision    recall  f1-score   support\n",
      "\n",
      "           0       0.88      0.97      0.92      1547\n",
      "           1       0.99      0.87      0.92      1487\n",
      "           2       0.91      0.91      0.91      1506\n",
      "           3       0.99      0.99      0.99      1503\n",
      "           4       0.92      0.93      0.92      1457\n",
      "\n",
      "    accuracy                           0.93      7500\n",
      "   macro avg       0.94      0.93      0.93      7500\n",
      "weighted avg       0.94      0.93      0.93      7500\n",
      "\n",
      "1400/1400 [==============================] - 105s 75ms/step - loss: 0.1674 - accuracy: 0.9351\n",
      "accuracy: 0.9351\n",
      "1400/1400 [==============================] - 117s 83ms/step - loss: 0.1689 - accuracy: 0.9336\n",
      "accuracy: 0.9336\n",
      "1400/1400 [==============================] - 126s 90ms/step - loss: 0.1677 - accuracy: 0.9351\n",
      "accuracy: 0.9351\n",
      "1400/1400 [==============================] - 129s 92ms/step - loss: 0.1666 - accuracy: 0.9345\n",
      "accuracy: 0.9345\n",
      "1400/1400 [==============================] - 116s 83ms/step - loss: 0.1696 - accuracy: 0.9331\n",
      "accuracy: 0.9331\n",
      "[0.9350714087486267, 0.9336428642272949, 0.9350714087486267, 0.934499979019165, 0.9331428408622742] 0.9342857003211975\n",
      "0.9343 (+/- 0.0008)\n",
      "[0.9348000288009644, 0.9376783842179138, 0.9343841806130279, 0.9347507079686196, 7500, 42298.59256744385, 0.9342857003211975]\n"
     ]
    }
   ],
   "source": [
    "cnnMk05Summary= modelSummary(cnnMk05, X2, y, X2_train, y2_train, X2_test, y2_test,\n",
    "                             modelTag[4], imageTag[4])"
   ]
  },
  {
   "cell_type": "code",
   "execution_count": 74,
   "id": "5c1c5516",
   "metadata": {},
   "outputs": [],
   "source": [
    "np.save('cnnMk05Arr.npy', cnnMk05Summary)"
   ]
  },
  {
   "cell_type": "markdown",
   "id": "0c4c1f35",
   "metadata": {},
   "source": [
    "### cnnMk06 Summary"
   ]
  },
  {
   "cell_type": "code",
   "execution_count": 59,
   "id": "ef24df75",
   "metadata": {},
   "outputs": [
    {
     "name": "stdout",
     "output_type": "stream",
     "text": [
      "235/235 [==============================] - 26s 109ms/step\n",
      "750/750 [==============================] - 58s 77ms/step - loss: 0.1200 - accuracy: 0.9509\n",
      "\n",
      "Test loss: 0.120031, Test accuracy: 0.950933\n",
      "    |    0    1    2    3    4 \n",
      "-------------------------------\n",
      " 0| 1475   72    0    0    0 \n",
      " 1|   38 1449    0    0    0 \n",
      " 2|   25    0 1341    4  136 \n",
      " 3|    1    0   10 1492    0 \n",
      " 4|    1    0   81    0 1375 \n"
     ]
    },
    {
     "data": {
      "image/png": "[encoded data removed]",
      "text/plain": [
       "<Figure size 576x432 with 1 Axes>"
      ]
     },
     "metadata": {
      "needs_background": "light"
     },
     "output_type": "display_data"
    },
    {
     "name": "stdout",
     "output_type": "stream",
     "text": [
      "              precision    recall  f1-score   support\n",
      "\n",
      "           0       0.96      0.95      0.96      1547\n",
      "           1       0.95      0.97      0.96      1487\n",
      "           2       0.94      0.89      0.91      1506\n",
      "           3       1.00      0.99      0.99      1503\n",
      "           4       0.91      0.94      0.93      1457\n",
      "\n",
      "    accuracy                           0.95      7500\n",
      "   macro avg       0.95      0.95      0.95      7500\n",
      "weighted avg       0.95      0.95      0.95      7500\n",
      "\n",
      "1400/1400 [==============================] - 75s 53ms/step - loss: 0.1106 - accuracy: 0.9561\n",
      "accuracy: 0.9561\n",
      "1400/1400 [==============================] - 88s 63ms/step - loss: 0.1095 - accuracy: 0.9570\n",
      "accuracy: 0.9570\n",
      "1400/1400 [==============================] - 101s 72ms/step - loss: 0.1095 - accuracy: 0.9571\n",
      "accuracy: 0.9571\n",
      "1400/1400 [==============================] - 94s 67ms/step - loss: 0.1106 - accuracy: 0.9571\n",
      "accuracy: 0.9571\n",
      "1400/1400 [==============================] - 89s 64ms/step - loss: 0.1101 - accuracy: 0.9566\n",
      "accuracy: 0.9566\n",
      "[0.9561428427696228, 0.9570000171661377, 0.9571428298950195, 0.9571428298950195, 0.9565714001655579] 0.9567999839782715\n",
      "0.9568 (+/- 0.0004)\n",
      "[0.9509333372116089, 0.9508454057454099, 0.9509486043354751, 0.9506930575225516, 7500, 58572.25680351257, 0.9567999839782715]\n"
     ]
    }
   ],
   "source": [
    "cnnMk06Summary= modelSummary(cnnMk06, X2, y, X2_train, y2_train, X2_test, y2_test,\n",
    "                             modelTag[5], imageTag[5])"
   ]
  },
  {
   "cell_type": "code",
   "execution_count": 60,
   "id": "9d31f13c",
   "metadata": {},
   "outputs": [],
   "source": [
    "np.save('cnnMk06Arr.npy', cnnMk06Summary)"
   ]
  },
  {
   "cell_type": "markdown",
   "id": "99d88879",
   "metadata": {},
   "source": [
    "### VGG16 Summary"
   ]
  },
  {
   "cell_type": "code",
   "execution_count": 61,
   "id": "334f5803",
   "metadata": {},
   "outputs": [
    {
     "name": "stdout",
     "output_type": "stream",
     "text": [
      "235/235 [==============================] - 344s 1s/step\n",
      "750/750 [==============================] - 381s 507ms/step - loss: 0.7987 - accuracy: 0.9607\n",
      "\n",
      "Test loss: 0.798685, Test accuracy: 0.960667\n",
      "    |    0    1    2    3    4 \n",
      "-------------------------------\n",
      " 0| 1528    4   13    0    2 \n",
      " 1|   41 1446    0    0    0 \n",
      " 2|   22    0 1334    3  147 \n",
      " 3|    0    0    9 1494    0 \n",
      " 4|    2    0   52    0 1403 \n"
     ]
    },
    {
     "data": {
      "image/png": "[encoded data removed]",
      "text/plain": [
       "<Figure size 576x432 with 1 Axes>"
      ]
     },
     "metadata": {
      "needs_background": "light"
     },
     "output_type": "display_data"
    },
    {
     "name": "stdout",
     "output_type": "stream",
     "text": [
      "              precision    recall  f1-score   support\n",
      "\n",
      "           0       0.96      0.99      0.97      1547\n",
      "           1       1.00      0.97      0.98      1487\n",
      "           2       0.95      0.89      0.92      1506\n",
      "           3       1.00      0.99      1.00      1503\n",
      "           4       0.90      0.96      0.93      1457\n",
      "\n",
      "    accuracy                           0.96      7500\n",
      "   macro avg       0.96      0.96      0.96      7500\n",
      "weighted avg       0.96      0.96      0.96      7500\n",
      "\n",
      "1400/1400 [==============================] - 730s 521ms/step - loss: 0.5199 - accuracy: 0.9736\n",
      "accuracy: 0.9736\n",
      "1400/1400 [==============================] - 719s 514ms/step - loss: 0.5324 - accuracy: 0.9729\n",
      "accuracy: 0.9729\n",
      "1400/1400 [==============================] - 736s 526ms/step - loss: 0.5374 - accuracy: 0.9725\n",
      "accuracy: 0.9725\n",
      "1400/1400 [==============================] - 715s 511ms/step - loss: 0.5302 - accuracy: 0.9727\n",
      "accuracy: 0.9727\n",
      "1400/1400 [==============================] - 692s 494ms/step - loss: 0.5088 - accuracy: 0.9731\n",
      "accuracy: 0.9731\n",
      "[0.973642885684967, 0.9729285836219788, 0.9725000262260437, 0.9727143049240112, 0.9730714559555054] 0.9729714512825012\n",
      "0.9730 (+/- 0.0004)\n",
      "[0.9606666564941406, 0.9611743766187064, 0.9605771125135961, 0.9604084671445763, 7500, 381787.83988952637, 0.9729714512825012]\n"
     ]
    }
   ],
   "source": [
    "vgg16Summary= modelSummary(vgg16Model, X, y, X_train, y_train, X_test, y_test,\n",
    "                             modelTag[6], imageTag[6])"
   ]
  },
  {
   "cell_type": "code",
   "execution_count": 62,
   "id": "2880c0f8",
   "metadata": {},
   "outputs": [],
   "source": [
    "np.save('vgg16Arr.npy', vgg16Summary)"
   ]
  },
  {
   "cell_type": "markdown",
   "id": "d9425810",
   "metadata": {},
   "source": [
    "### VGG19 Summary"
   ]
  },
  {
   "cell_type": "code",
   "execution_count": 63,
   "id": "b73af80e",
   "metadata": {},
   "outputs": [
    {
     "name": "stdout",
     "output_type": "stream",
     "text": [
      "235/235 [==============================] - 494s 2s/step\n",
      "750/750 [==============================] - 471s 626ms/step - loss: 1.0303 - accuracy: 0.9521\n",
      "\n",
      "Test loss: 1.030329, Test accuracy: 0.952133\n",
      "    |    0    1    2    3    4 \n",
      "-------------------------------\n",
      " 0| 1483   32   23    7    2 \n",
      " 1|   17 1464    0    6    0 \n",
      " 2|   13    3 1431   19   40 \n",
      " 3|    0    0    4 1499    0 \n",
      " 4|    5    0  188    0 1264 \n"
     ]
    },
    {
     "data": {
      "image/png": "[encoded data removed]",
      "text/plain": [
       "<Figure size 576x432 with 1 Axes>"
      ]
     },
     "metadata": {
      "needs_background": "light"
     },
     "output_type": "display_data"
    },
    {
     "name": "stdout",
     "output_type": "stream",
     "text": [
      "              precision    recall  f1-score   support\n",
      "\n",
      "           0       0.98      0.96      0.97      1547\n",
      "           1       0.98      0.98      0.98      1487\n",
      "           2       0.87      0.95      0.91      1506\n",
      "           3       0.98      1.00      0.99      1503\n",
      "           4       0.97      0.87      0.91      1457\n",
      "\n",
      "    accuracy                           0.95      7500\n",
      "   macro avg       0.95      0.95      0.95      7500\n",
      "weighted avg       0.95      0.95      0.95      7500\n",
      "\n",
      "1400/1400 [==============================] - 889s 635ms/step - loss: 0.5765 - accuracy: 0.9686\n",
      "accuracy: 0.9686\n",
      "1400/1400 [==============================] - 896s 640ms/step - loss: 0.5403 - accuracy: 0.9689\n",
      "accuracy: 0.9689\n",
      "1400/1400 [==============================] - 819s 585ms/step - loss: 0.6238 - accuracy: 0.9666\n",
      "accuracy: 0.9666\n",
      "1400/1400 [==============================] - 830s 593ms/step - loss: 0.6405 - accuracy: 0.9661\n",
      "accuracy: 0.9661\n",
      "1400/1400 [==============================] - 809s 578ms/step - loss: 0.6471 - accuracy: 0.9671\n",
      "accuracy: 0.9671\n",
      "[0.9685714244842529, 0.9688571691513062, 0.9665714502334595, 0.9660714268684387, 0.9670714139938354] 0.9674285769462585\n",
      "0.9674 (+/- 0.0011)\n",
      "[0.9521333575248718, 0.9539828253152318, 0.9516472227693514, 0.9518705557818308, 7500, 471676.0981082916, 0.9674285769462585]\n"
     ]
    }
   ],
   "source": [
    "vgg19Summary= modelSummary(vgg19Model, X, y, X_train, y_train, X_test, y_test,\n",
    "                             modelTag[7], imageTag[7])"
   ]
  },
  {
   "cell_type": "code",
   "execution_count": 64,
   "id": "ed0c9b9e",
   "metadata": {},
   "outputs": [],
   "source": [
    "np.save('vgg19Arr.npy', vgg19Summary)"
   ]
  },
  {
   "cell_type": "markdown",
   "id": "e6e7891f",
   "metadata": {},
   "source": [
    "### Xception Summary"
   ]
  },
  {
   "cell_type": "code",
   "execution_count": 39,
   "id": "9ddcef6e",
   "metadata": {},
   "outputs": [
    {
     "name": "stdout",
     "output_type": "stream",
     "text": [
      "235/235 [==============================] - 179s 747ms/step\n"
     ]
    }
   ],
   "source": [
    "# xceptionPredict= predictClass(xceptionModel, X_test)"
   ]
  },
  {
   "cell_type": "code",
   "execution_count": 42,
   "id": "25ca8992",
   "metadata": {},
   "outputs": [
    {
     "name": "stdout",
     "output_type": "stream",
     "text": [
      "750/750 [==============================] - 241s 317ms/step - loss: 10.4117 - accuracy: 0.7495\n",
      "\n",
      "Test loss: 10.411689, Test accuracy: 0.749467\n"
     ]
    }
   ],
   "source": [
    "# xceptionEval= evalModel(xceptionModel, X_test, y_test)"
   ]
  },
  {
   "cell_type": "code",
   "execution_count": 40,
   "id": "459a41c1",
   "metadata": {
    "scrolled": false
   },
   "outputs": [
    {
     "name": "stdout",
     "output_type": "stream",
     "text": [
      "    |    0    1    2    3    4 \n",
      "-------------------------------\n",
      " 0|  507  870  133   13   24 \n",
      " 1|   21 1440   23    3    0 \n",
      " 2|    7    6 1369   12  112 \n",
      " 3|    5   61  186 1250    1 \n",
      " 4|    5    4  393    0 1055 \n"
     ]
    },
    {
     "data": {
      "image/png": "[encoded data removed]",
      "text/plain": [
       "<Figure size 576x432 with 1 Axes>"
      ]
     },
     "metadata": {
      "needs_background": "light"
     },
     "output_type": "display_data"
    }
   ],
   "source": [
    "xceptionConfuseMatrix= confuseMatrix(y_test, xceptionPredict, modelTag[8], imageTag[8])"
   ]
  },
  {
   "cell_type": "code",
   "execution_count": 41,
   "id": "0a432823",
   "metadata": {
    "scrolled": true
   },
   "outputs": [
    {
     "name": "stdout",
     "output_type": "stream",
     "text": [
      "              precision    recall  f1-score   support\n",
      "\n",
      "           0       0.93      0.33      0.48      1547\n",
      "           1       0.60      0.97      0.74      1487\n",
      "           2       0.65      0.91      0.76      1506\n",
      "           3       0.98      0.83      0.90      1503\n",
      "           4       0.89      0.72      0.80      1457\n",
      "\n",
      "    accuracy                           0.75      7500\n",
      "   macro avg       0.81      0.75      0.74      7500\n",
      "weighted avg       0.81      0.75      0.73      7500\n",
      "\n"
     ]
    },
    {
     "data": {
      "text/plain": [
       "{'precision': 0.8097772827512756,\n",
       " 'recall': 0.7521829928888326,\n",
       " 'f1-score': 0.7366414849892571,\n",
       " 'support': 7500}"
      ]
     },
     "execution_count": 41,
     "metadata": {},
     "output_type": "execute_result"
    }
   ],
   "source": [
    "xceptionReport= classReport(xceptionConfuseMatrix[0], xceptionPredict)\n",
    "xceptionReport[0]['macro avg']"
   ]
  },
  {
   "cell_type": "code",
   "execution_count": 43,
   "id": "c4450c9f",
   "metadata": {},
   "outputs": [
    {
     "name": "stdout",
     "output_type": "stream",
     "text": [
      "[0.7494666576385498, 0.8097772827512756, 0.7521829928888326, 0.7366414849892571, 7500, 240804.105758667, 0.736]\n"
     ]
    }
   ],
   "source": [
    "xceptionArr= []\n",
    "xceptionArr.append(xceptionEval[0][1])\n",
    "for i in xceptionReport[0]['macro avg']:\n",
    "#         print(i)\n",
    "    classMetric= xceptionReport[0]['macro avg'][i]\n",
    "    xceptionArr.append(classMetric)\n",
    "\n",
    "#     arr01.append(modelTag)\n",
    "xceptionArr.append(xceptionEval[1])\n",
    "xceptionArr.append(0.736)\n",
    "print(xceptionArr)"
   ]
  },
  {
   "cell_type": "code",
   "execution_count": 44,
   "id": "978c4cff",
   "metadata": {},
   "outputs": [],
   "source": [
    "np.save('xceptionArr.npy', xceptionArr)"
   ]
  },
  {
   "cell_type": "markdown",
   "id": "9048df8f",
   "metadata": {},
   "source": [
    "### InceptionV3 Summary"
   ]
  },
  {
   "cell_type": "code",
   "execution_count": 26,
   "id": "7998de74",
   "metadata": {},
   "outputs": [
    {
     "name": "stdout",
     "output_type": "stream",
     "text": [
      "235/235 [==============================] - 459s 2s/step\n"
     ]
    }
   ],
   "source": [
    "inceptionV3Predict= predictClass(inceptionV3Model, X_test)"
   ]
  },
  {
   "cell_type": "code",
   "execution_count": 27,
   "id": "29816e93",
   "metadata": {},
   "outputs": [
    {
     "name": "stdout",
     "output_type": "stream",
     "text": [
      "750/750 [==============================] - 2192s 3s/step - loss: 8.9094 - accuracy: 0.6107\n",
      "\n",
      "Test loss: 8.909376, Test accuracy: 0.610667\n"
     ]
    }
   ],
   "source": [
    "inceptionV3Eval= evalModel(inceptionV3Model, X_test, y_test)"
   ]
  },
  {
   "cell_type": "code",
   "execution_count": 34,
   "id": "f1d9f5b7",
   "metadata": {},
   "outputs": [
    {
     "data": {
      "text/plain": [
       "[[8.90937614440918, 0.6106666922569275], 2192598.10256958]"
      ]
     },
     "execution_count": 34,
     "metadata": {},
     "output_type": "execute_result"
    }
   ],
   "source": [
    "inceptionV3Eval"
   ]
  },
  {
   "cell_type": "code",
   "execution_count": 28,
   "id": "0670fb14",
   "metadata": {},
   "outputs": [
    {
     "name": "stdout",
     "output_type": "stream",
     "text": [
      "    |    0    1    2    3    4 \n",
      "-------------------------------\n",
      " 0| 1461    6    5   17   58 \n",
      " 1| 1202  183    5   70   27 \n",
      " 2|  462    3  310  111  620 \n",
      " 3|  171   20   16 1277   19 \n",
      " 4|   80    2   15   11 1349 \n"
     ]
    },
    {
     "data": {
      "image/png": "[encoded data removed]",
      "text/plain": [
       "<Figure size 576x432 with 1 Axes>"
      ]
     },
     "metadata": {
      "needs_background": "light"
     },
     "output_type": "display_data"
    }
   ],
   "source": [
    "inceptionV3ConfuseMatrix= confuseMatrix(y_test, inceptionV3Predict, modelTag[9], imageTag[9])"
   ]
  },
  {
   "cell_type": "code",
   "execution_count": 29,
   "id": "00928508",
   "metadata": {},
   "outputs": [
    {
     "name": "stdout",
     "output_type": "stream",
     "text": [
      "              precision    recall  f1-score   support\n",
      "\n",
      "           0       0.43      0.94      0.59      1547\n",
      "           1       0.86      0.12      0.22      1487\n",
      "           2       0.88      0.21      0.33      1506\n",
      "           3       0.86      0.85      0.85      1503\n",
      "           4       0.65      0.93      0.76      1457\n",
      "\n",
      "    accuracy                           0.61      7500\n",
      "   macro avg       0.74      0.61      0.55      7500\n",
      "weighted avg       0.73      0.61      0.55      7500\n",
      "\n"
     ]
    },
    {
     "data": {
      "text/plain": [
       "{'precision': 0.7362386825278037,\n",
       " 'recall': 0.6097655108265696,\n",
       " 'f1-score': 0.5522704469179578,\n",
       " 'support': 7500}"
      ]
     },
     "execution_count": 29,
     "metadata": {},
     "output_type": "execute_result"
    }
   ],
   "source": [
    "inceptionV3Report= classReport(inceptionV3ConfuseMatrix[0], inceptionV3Predict)\n",
    "inceptionV3Report[0]['macro avg']"
   ]
  },
  {
   "cell_type": "code",
   "execution_count": 35,
   "id": "47ee5c38",
   "metadata": {},
   "outputs": [
    {
     "name": "stdout",
     "output_type": "stream",
     "text": [
      "[0.6106666922569275, 0.7362386825278037, 0.6097655108265696, 0.5522704469179578, 7500, 2192598.10256958, 0.55]\n"
     ]
    }
   ],
   "source": [
    "inceptionV3Arr= []\n",
    "inceptionV3Arr.append(inceptionV3Eval[0][1])\n",
    "for i in inceptionV3Report[0]['macro avg']:\n",
    "#         print(i)\n",
    "    classMetric= inceptionV3Report[0]['macro avg'][i]\n",
    "    inceptionV3Arr.append(classMetric)\n",
    "\n",
    "#     arr01.append(modelTag)\n",
    "inceptionV3Arr.append(inceptionV3Eval[1])\n",
    "inceptionV3Arr.append(0.55)\n",
    "print(inceptionV3Arr)"
   ]
  },
  {
   "cell_type": "code",
   "execution_count": 36,
   "id": "5fb19582",
   "metadata": {},
   "outputs": [],
   "source": [
    "np.save('inceptionV3Arr.npy', inceptionV3Arr)"
   ]
  },
  {
   "cell_type": "code",
   "execution_count": 77,
   "id": "4ce9e1d2",
   "metadata": {},
   "outputs": [
    {
     "data": {
      "text/plain": [
       "[array([9.17066693e-01, 9.18771637e-01, 9.16347099e-01, 9.16616034e-01,\n",
       "        7.50000000e+03, 5.25982885e+04, 9.26800001e-01]),\n",
       " [0.9599999785423279,\n",
       "  0.9604761922025438,\n",
       "  0.9597687570501222,\n",
       "  0.959861114276376,\n",
       "  7500,\n",
       "  403322.59726524353,\n",
       "  0.9622285723686218],\n",
       " [0.9181333184242249,\n",
       "  0.9240265824298355,\n",
       "  0.9175812098324032,\n",
       "  0.9186582189039697,\n",
       "  7500,\n",
       "  63596.34780883789,\n",
       "  0.9228000044822693],\n",
       " [0.8846666812896729,\n",
       "  0.9038999392138752,\n",
       "  0.8870476184393972,\n",
       "  0.8816919008998866,\n",
       "  7500,\n",
       "  74468.01805496216,\n",
       "  0.897599995136261],\n",
       " [0.9348000288009644,\n",
       "  0.9376783842179138,\n",
       "  0.9343841806130279,\n",
       "  0.9347507079686196,\n",
       "  7500,\n",
       "  42298.59256744385,\n",
       "  0.9342857003211975],\n",
       " [0.9509333372116089,\n",
       "  0.9508454057454099,\n",
       "  0.9509486043354751,\n",
       "  0.9506930575225516,\n",
       "  7500,\n",
       "  58572.25680351257,\n",
       "  0.9567999839782715],\n",
       " [0.9606666564941406,\n",
       "  0.9611743766187064,\n",
       "  0.9605771125135961,\n",
       "  0.9604084671445763,\n",
       "  7500,\n",
       "  381787.83988952637,\n",
       "  0.9729714512825012],\n",
       " [0.9521333575248718,\n",
       "  0.9539828253152318,\n",
       "  0.9516472227693514,\n",
       "  0.9518705557818308,\n",
       "  7500,\n",
       "  471676.0981082916,\n",
       "  0.9674285769462585],\n",
       " [0.7494666576385498,\n",
       "  0.8097772827512756,\n",
       "  0.7521829928888326,\n",
       "  0.7366414849892571,\n",
       "  7500,\n",
       "  240804.105758667,\n",
       "  0.736],\n",
       " [0.6106666922569275,\n",
       "  0.7362386825278037,\n",
       "  0.6097655108265696,\n",
       "  0.5522704469179578,\n",
       "  7500,\n",
       "  2192598.10256958,\n",
       "  0.55]]"
      ]
     },
     "execution_count": 77,
     "metadata": {},
     "output_type": "execute_result"
    }
   ],
   "source": [
    "modelArr= []\n",
    "modelArr.append(cnnMk01Arr)\n",
    "modelArr.append(cnnMk02Summary)\n",
    "modelArr.append(cnnMk03Summary)\n",
    "modelArr.append(cnnMk04Summary)\n",
    "modelArr.append(cnnMk05Summary)\n",
    "modelArr.append(cnnMk06Summary)\n",
    "modelArr.append(vgg16Summary)\n",
    "modelArr.append(vgg19Summary)\n",
    "modelArr.append(xceptionArr)\n",
    "modelArr.append(inceptionV3Arr)\n",
    "\n",
    "modelArr"
   ]
  },
  {
   "cell_type": "code",
   "execution_count": 78,
   "id": "a7b547b7",
   "metadata": {},
   "outputs": [],
   "source": [
    "comparisonCols= ['accuracy', 'precision', 'recall', 'f1-score', 'roc_auc', 'runtime (ms)',\n",
    "                 'meanAcc']"
   ]
  },
  {
   "cell_type": "code",
   "execution_count": 79,
   "id": "1e0d62cb",
   "metadata": {},
   "outputs": [
    {
     "data": {
      "text/html": [
       "<div>\n",
       "<style scoped>\n",
       "    .dataframe tbody tr th:only-of-type {\n",
       "        vertical-align: middle;\n",
       "    }\n",
       "\n",
       "    .dataframe tbody tr th {\n",
       "        vertical-align: top;\n",
       "    }\n",
       "\n",
       "    .dataframe thead th {\n",
       "        text-align: right;\n",
       "    }\n",
       "</style>\n",
       "<table border=\"1\" class=\"dataframe\">\n",
       "  <thead>\n",
       "    <tr style=\"text-align: right;\">\n",
       "      <th></th>\n",
       "      <th>accuracy</th>\n",
       "      <th>precision</th>\n",
       "      <th>recall</th>\n",
       "      <th>f1-score</th>\n",
       "      <th>roc_auc</th>\n",
       "      <th>runtime (ms)</th>\n",
       "      <th>meanAcc</th>\n",
       "    </tr>\n",
       "  </thead>\n",
       "  <tbody>\n",
       "    <tr>\n",
       "      <th>0</th>\n",
       "      <td>0.917067</td>\n",
       "      <td>0.918772</td>\n",
       "      <td>0.916347</td>\n",
       "      <td>0.916616</td>\n",
       "      <td>7500.0</td>\n",
       "      <td>5.259829e+04</td>\n",
       "      <td>0.926800</td>\n",
       "    </tr>\n",
       "    <tr>\n",
       "      <th>1</th>\n",
       "      <td>0.960000</td>\n",
       "      <td>0.960476</td>\n",
       "      <td>0.959769</td>\n",
       "      <td>0.959861</td>\n",
       "      <td>7500.0</td>\n",
       "      <td>4.033226e+05</td>\n",
       "      <td>0.962229</td>\n",
       "    </tr>\n",
       "    <tr>\n",
       "      <th>2</th>\n",
       "      <td>0.918133</td>\n",
       "      <td>0.924027</td>\n",
       "      <td>0.917581</td>\n",
       "      <td>0.918658</td>\n",
       "      <td>7500.0</td>\n",
       "      <td>6.359635e+04</td>\n",
       "      <td>0.922800</td>\n",
       "    </tr>\n",
       "    <tr>\n",
       "      <th>3</th>\n",
       "      <td>0.884667</td>\n",
       "      <td>0.903900</td>\n",
       "      <td>0.887048</td>\n",
       "      <td>0.881692</td>\n",
       "      <td>7500.0</td>\n",
       "      <td>7.446802e+04</td>\n",
       "      <td>0.897600</td>\n",
       "    </tr>\n",
       "    <tr>\n",
       "      <th>4</th>\n",
       "      <td>0.934800</td>\n",
       "      <td>0.937678</td>\n",
       "      <td>0.934384</td>\n",
       "      <td>0.934751</td>\n",
       "      <td>7500.0</td>\n",
       "      <td>4.229859e+04</td>\n",
       "      <td>0.934286</td>\n",
       "    </tr>\n",
       "    <tr>\n",
       "      <th>5</th>\n",
       "      <td>0.950933</td>\n",
       "      <td>0.950845</td>\n",
       "      <td>0.950949</td>\n",
       "      <td>0.950693</td>\n",
       "      <td>7500.0</td>\n",
       "      <td>5.857226e+04</td>\n",
       "      <td>0.956800</td>\n",
       "    </tr>\n",
       "    <tr>\n",
       "      <th>6</th>\n",
       "      <td>0.960667</td>\n",
       "      <td>0.961174</td>\n",
       "      <td>0.960577</td>\n",
       "      <td>0.960408</td>\n",
       "      <td>7500.0</td>\n",
       "      <td>3.817878e+05</td>\n",
       "      <td>0.972971</td>\n",
       "    </tr>\n",
       "    <tr>\n",
       "      <th>7</th>\n",
       "      <td>0.952133</td>\n",
       "      <td>0.953983</td>\n",
       "      <td>0.951647</td>\n",
       "      <td>0.951871</td>\n",
       "      <td>7500.0</td>\n",
       "      <td>4.716761e+05</td>\n",
       "      <td>0.967429</td>\n",
       "    </tr>\n",
       "    <tr>\n",
       "      <th>8</th>\n",
       "      <td>0.749467</td>\n",
       "      <td>0.809777</td>\n",
       "      <td>0.752183</td>\n",
       "      <td>0.736641</td>\n",
       "      <td>7500.0</td>\n",
       "      <td>2.408041e+05</td>\n",
       "      <td>0.736000</td>\n",
       "    </tr>\n",
       "    <tr>\n",
       "      <th>9</th>\n",
       "      <td>0.610667</td>\n",
       "      <td>0.736239</td>\n",
       "      <td>0.609766</td>\n",
       "      <td>0.552270</td>\n",
       "      <td>7500.0</td>\n",
       "      <td>2.192598e+06</td>\n",
       "      <td>0.550000</td>\n",
       "    </tr>\n",
       "  </tbody>\n",
       "</table>\n",
       "</div>"
      ],
      "text/plain": [
       "   accuracy  precision    recall  f1-score  roc_auc  runtime (ms)   meanAcc\n",
       "0  0.917067   0.918772  0.916347  0.916616   7500.0  5.259829e+04  0.926800\n",
       "1  0.960000   0.960476  0.959769  0.959861   7500.0  4.033226e+05  0.962229\n",
       "2  0.918133   0.924027  0.917581  0.918658   7500.0  6.359635e+04  0.922800\n",
       "3  0.884667   0.903900  0.887048  0.881692   7500.0  7.446802e+04  0.897600\n",
       "4  0.934800   0.937678  0.934384  0.934751   7500.0  4.229859e+04  0.934286\n",
       "5  0.950933   0.950845  0.950949  0.950693   7500.0  5.857226e+04  0.956800\n",
       "6  0.960667   0.961174  0.960577  0.960408   7500.0  3.817878e+05  0.972971\n",
       "7  0.952133   0.953983  0.951647  0.951871   7500.0  4.716761e+05  0.967429\n",
       "8  0.749467   0.809777  0.752183  0.736641   7500.0  2.408041e+05  0.736000\n",
       "9  0.610667   0.736239  0.609766  0.552270   7500.0  2.192598e+06  0.550000"
      ]
     },
     "execution_count": 79,
     "metadata": {},
     "output_type": "execute_result"
    }
   ],
   "source": [
    "dfCnnModel= pd.DataFrame(modelArr, columns= comparisonCols)\n",
    "dfCnnModel"
   ]
  },
  {
   "cell_type": "code",
   "execution_count": 80,
   "id": "667d79c5",
   "metadata": {},
   "outputs": [],
   "source": [
    "dfCnnModel['model']= modelTag"
   ]
  },
  {
   "cell_type": "code",
   "execution_count": 81,
   "id": "78baff3c",
   "metadata": {},
   "outputs": [
    {
     "data": {
      "text/html": [
       "<div>\n",
       "<style scoped>\n",
       "    .dataframe tbody tr th:only-of-type {\n",
       "        vertical-align: middle;\n",
       "    }\n",
       "\n",
       "    .dataframe tbody tr th {\n",
       "        vertical-align: top;\n",
       "    }\n",
       "\n",
       "    .dataframe thead th {\n",
       "        text-align: right;\n",
       "    }\n",
       "</style>\n",
       "<table border=\"1\" class=\"dataframe\">\n",
       "  <thead>\n",
       "    <tr style=\"text-align: right;\">\n",
       "      <th></th>\n",
       "      <th>accuracy</th>\n",
       "      <th>precision</th>\n",
       "      <th>recall</th>\n",
       "      <th>f1-score</th>\n",
       "      <th>roc_auc</th>\n",
       "      <th>runtime (ms)</th>\n",
       "      <th>meanAcc</th>\n",
       "      <th>model</th>\n",
       "    </tr>\n",
       "  </thead>\n",
       "  <tbody>\n",
       "    <tr>\n",
       "      <th>0</th>\n",
       "      <td>0.917067</td>\n",
       "      <td>0.918772</td>\n",
       "      <td>0.916347</td>\n",
       "      <td>0.916616</td>\n",
       "      <td>7500.0</td>\n",
       "      <td>5.259829e+04</td>\n",
       "      <td>0.926800</td>\n",
       "      <td>cnnMk01</td>\n",
       "    </tr>\n",
       "    <tr>\n",
       "      <th>1</th>\n",
       "      <td>0.960000</td>\n",
       "      <td>0.960476</td>\n",
       "      <td>0.959769</td>\n",
       "      <td>0.959861</td>\n",
       "      <td>7500.0</td>\n",
       "      <td>4.033226e+05</td>\n",
       "      <td>0.962229</td>\n",
       "      <td>cnnMk02</td>\n",
       "    </tr>\n",
       "    <tr>\n",
       "      <th>2</th>\n",
       "      <td>0.918133</td>\n",
       "      <td>0.924027</td>\n",
       "      <td>0.917581</td>\n",
       "      <td>0.918658</td>\n",
       "      <td>7500.0</td>\n",
       "      <td>6.359635e+04</td>\n",
       "      <td>0.922800</td>\n",
       "      <td>cnnMk03</td>\n",
       "    </tr>\n",
       "    <tr>\n",
       "      <th>3</th>\n",
       "      <td>0.884667</td>\n",
       "      <td>0.903900</td>\n",
       "      <td>0.887048</td>\n",
       "      <td>0.881692</td>\n",
       "      <td>7500.0</td>\n",
       "      <td>7.446802e+04</td>\n",
       "      <td>0.897600</td>\n",
       "      <td>cnnMk04</td>\n",
       "    </tr>\n",
       "    <tr>\n",
       "      <th>4</th>\n",
       "      <td>0.934800</td>\n",
       "      <td>0.937678</td>\n",
       "      <td>0.934384</td>\n",
       "      <td>0.934751</td>\n",
       "      <td>7500.0</td>\n",
       "      <td>4.229859e+04</td>\n",
       "      <td>0.934286</td>\n",
       "      <td>cnnMk05</td>\n",
       "    </tr>\n",
       "    <tr>\n",
       "      <th>5</th>\n",
       "      <td>0.950933</td>\n",
       "      <td>0.950845</td>\n",
       "      <td>0.950949</td>\n",
       "      <td>0.950693</td>\n",
       "      <td>7500.0</td>\n",
       "      <td>5.857226e+04</td>\n",
       "      <td>0.956800</td>\n",
       "      <td>cnnMk06</td>\n",
       "    </tr>\n",
       "    <tr>\n",
       "      <th>6</th>\n",
       "      <td>0.960667</td>\n",
       "      <td>0.961174</td>\n",
       "      <td>0.960577</td>\n",
       "      <td>0.960408</td>\n",
       "      <td>7500.0</td>\n",
       "      <td>3.817878e+05</td>\n",
       "      <td>0.972971</td>\n",
       "      <td>VGG16</td>\n",
       "    </tr>\n",
       "    <tr>\n",
       "      <th>7</th>\n",
       "      <td>0.952133</td>\n",
       "      <td>0.953983</td>\n",
       "      <td>0.951647</td>\n",
       "      <td>0.951871</td>\n",
       "      <td>7500.0</td>\n",
       "      <td>4.716761e+05</td>\n",
       "      <td>0.967429</td>\n",
       "      <td>VGG19</td>\n",
       "    </tr>\n",
       "    <tr>\n",
       "      <th>8</th>\n",
       "      <td>0.749467</td>\n",
       "      <td>0.809777</td>\n",
       "      <td>0.752183</td>\n",
       "      <td>0.736641</td>\n",
       "      <td>7500.0</td>\n",
       "      <td>2.408041e+05</td>\n",
       "      <td>0.736000</td>\n",
       "      <td>Xception</td>\n",
       "    </tr>\n",
       "    <tr>\n",
       "      <th>9</th>\n",
       "      <td>0.610667</td>\n",
       "      <td>0.736239</td>\n",
       "      <td>0.609766</td>\n",
       "      <td>0.552270</td>\n",
       "      <td>7500.0</td>\n",
       "      <td>2.192598e+06</td>\n",
       "      <td>0.550000</td>\n",
       "      <td>InceptionV3</td>\n",
       "    </tr>\n",
       "  </tbody>\n",
       "</table>\n",
       "</div>"
      ],
      "text/plain": [
       "   accuracy  precision    recall  f1-score  roc_auc  runtime (ms)   meanAcc  \\\n",
       "0  0.917067   0.918772  0.916347  0.916616   7500.0  5.259829e+04  0.926800   \n",
       "1  0.960000   0.960476  0.959769  0.959861   7500.0  4.033226e+05  0.962229   \n",
       "2  0.918133   0.924027  0.917581  0.918658   7500.0  6.359635e+04  0.922800   \n",
       "3  0.884667   0.903900  0.887048  0.881692   7500.0  7.446802e+04  0.897600   \n",
       "4  0.934800   0.937678  0.934384  0.934751   7500.0  4.229859e+04  0.934286   \n",
       "5  0.950933   0.950845  0.950949  0.950693   7500.0  5.857226e+04  0.956800   \n",
       "6  0.960667   0.961174  0.960577  0.960408   7500.0  3.817878e+05  0.972971   \n",
       "7  0.952133   0.953983  0.951647  0.951871   7500.0  4.716761e+05  0.967429   \n",
       "8  0.749467   0.809777  0.752183  0.736641   7500.0  2.408041e+05  0.736000   \n",
       "9  0.610667   0.736239  0.609766  0.552270   7500.0  2.192598e+06  0.550000   \n",
       "\n",
       "         model  \n",
       "0      cnnMk01  \n",
       "1      cnnMk02  \n",
       "2      cnnMk03  \n",
       "3      cnnMk04  \n",
       "4      cnnMk05  \n",
       "5      cnnMk06  \n",
       "6        VGG16  \n",
       "7        VGG19  \n",
       "8     Xception  \n",
       "9  InceptionV3  "
      ]
     },
     "execution_count": 81,
     "metadata": {},
     "output_type": "execute_result"
    }
   ],
   "source": [
    "dfCnnModel"
   ]
  },
  {
   "cell_type": "code",
   "execution_count": 83,
   "id": "12d9fd53",
   "metadata": {},
   "outputs": [],
   "source": [
    "filepath = Path('cnnModelComparison.csv')  \n",
    "filepath.parent.mkdir(parents=True, exist_ok=True)  \n",
    "dfCnnModel.to_csv(filepath)"
   ]
  },
  {
   "cell_type": "code",
   "execution_count": null,
   "id": "d1c24ef2",
   "metadata": {},
   "outputs": [],
   "source": []
  }
 ],
 "metadata": {
  "kernelspec": {
   "display_name": "Python 3 (ipykernel)",
   "language": "python",
   "name": "python3"
  },
  "language_info": {
   "codemirror_mode": {
    "name": "ipython",
    "version": 3
   },
   "file_extension": ".py",
   "mimetype": "text/x-python",
   "name": "python",
   "nbconvert_exporter": "python",
   "pygments_lexer": "ipython3",
   "version": "3.10.4"
  }
 },
 "nbformat": 4,
 "nbformat_minor": 5
}
